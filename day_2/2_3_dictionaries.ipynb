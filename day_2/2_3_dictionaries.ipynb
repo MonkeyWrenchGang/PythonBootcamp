{
  "nbformat": 4,
  "nbformat_minor": 0,
  "metadata": {
    "colab": {
      "provenance": [],
      "authorship_tag": "ABX9TyNPxr2mQ4W59bxov1vfA24p",
      "include_colab_link": true
    },
    "kernelspec": {
      "name": "python3",
      "display_name": "Python 3"
    },
    "language_info": {
      "name": "python"
    }
  },
  "cells": [
    {
      "cell_type": "markdown",
      "metadata": {
        "id": "view-in-github",
        "colab_type": "text"
      },
      "source": [
        "<a href=\"https://colab.research.google.com/github/MonkeyWrenchGang/MGTPython/blob/main/day_2/2_3_dictionaries.ipynb\" target=\"_parent\"><img src=\"https://colab.research.google.com/assets/colab-badge.svg\" alt=\"Open In Colab\"/></a>"
      ]
    },
    {
      "cell_type": "markdown",
      "source": [
        "# Introduction to Dictionaries in Python\n",
        "\n",
        "---\n",
        "\n",
        "Dictionaries are a data structure in Python that allow you to store and retrieve data using key-value pairs. They are widely used for various purposes but mainly as results from API calls. \n",
        "\n",
        "# Introduction to Dictionaries in Python\n",
        "\n",
        "---\n",
        "\n",
        "Dictionaries are a powerful data structure in Python that enable you to store and retrieve data using key-value pairs. They are widely used for various purposes, with one common application being storing results from API calls.\n",
        "\n",
        "## Why Use Dictionaries?\n",
        "\n",
        "- Efficient Data Retrieval: Dictionaries provide fast and efficient data retrieval based on keys, allowing you to quickly access values associated with specific keys without searching through the entire dataset.\n",
        "\n",
        "- Mapping Real-World Relationships: Dictionaries are ideal for representing real-world relationships and associations. For example, you can use a dictionary to store information about users, products, or any other entities and easily retrieve their details by using unique identifiers as keys.\n",
        "\n",
        "- Flexible and Dynamic Structure: Dictionaries offer a flexible and dynamic structure, allowing you to add, update, or remove key-value pairs as needed. This makes them suitable for scenarios where data needs to be modified or expanded dynamically.\n",
        "\n",
        "- Integration with APIs: Dictionaries are commonly used to store results obtained from API calls. APIs often return data in the form of key-value pairs, making dictionaries an efficient choice for organizing and working with API responses.\n",
        "\n",
        "In this notebook, we will explore the fundamentals of dictionaries, learn how to create and manipulate them, and discover practical examples of their usage, including scenarios related to API integration.\n",
        "\n",
        "Let's dive into the world of dictionaries and unlock their power in Python!\n",
        "\n",
        "---\n",
        "\n",
        "\n"
      ],
      "metadata": {
        "id": "tzleXftv3nXC"
      }
    },
    {
      "cell_type": "markdown",
      "source": [
        "##  Star Wars Characters Dictionary\n",
        "\n",
        "In this exercise, we will create a dictionary called `star_wars_characters` that stores information about various Star Wars characters. Each character will be represented by their name as the key and their role or affiliation as the value.\n",
        "\n",
        "### Instructions:\n",
        "\n",
        "1. Create an empty dictionary called `star_wars_characters`.\n",
        "\n",
        "2. Add the following Star Wars characters and their respective roles or affiliations to the dictionary:\n",
        "\n",
        "   - \"Luke Skywalker\" - Jedi\n",
        "   - \"Darth Vader\" - Sith\n",
        "   - \"Han Solo\" - Smuggler\n",
        "   - \"Princess Leia\" - Rebel\n",
        "   - \"Yoda\" - Jedi\n",
        "   - \"Obi-Wan Kenobi\" - Jedi\n",
        "   - \"Boba Fett\" - Bounty Hunter\n",
        "   - \"Rey\" - Jedi\n",
        "   - \"Kylo Ren\" - Sith\n",
        "   - \"R2-D2\" - Droid\n",
        "\n",
        "3. Once you have created the dictionary, you can access and print the role or affiliation of\n",
        "\n",
        "4. Print out the dictionary. \n"
      ],
      "metadata": {
        "id": "KG2Fn1IcBQ8v"
      }
    },
    {
      "cell_type": "code",
      "source": [
        "# Creating a Star Wars Characters Dictionary\n",
        "star_wars_characters = {\n",
        "    \"Luke Skywalker\": \"Jedi\",\n",
        "    \"Darth Vader\": \"Sith\",\n",
        "    \"Han Solo\": \"Smuggler\",\n",
        "    \"Princess Leia\": \"Rebel\",\n",
        "    \"Yoda\": \"Jedi\",\n",
        "    \"Obi-Wan Kenobi\": \"Jedi\",\n",
        "    \"Boba Fett\": \"Bounty Hunter\",\n",
        "    \"Rey\": \"Jedi\",\n",
        "    \"Kylo Ren\": \"Sith\",\n",
        "    \"R2-D2\": \"Droid\"\n",
        "}\n",
        "\n",
        "# Accessing Values in the Dictionary\n",
        "print(star_wars_characters[\"Luke Skywalker\"])  # Output: Jedi\n",
        "print(star_wars_characters[\"Han Solo\"])        # Output: Smuggler\n",
        "print(star_wars_characters[\"R2-D2\"])           # Output: Droid\n"
      ],
      "metadata": {
        "colab": {
          "base_uri": "https://localhost:8080/"
        },
        "id": "ibwyqq-TBROu",
        "outputId": "6fedf337-c398-447e-9654-04bb2b456648"
      },
      "execution_count": 7,
      "outputs": [
        {
          "output_type": "stream",
          "name": "stdout",
          "text": [
            "Jedi\n",
            "Smuggler\n",
            "Droid\n"
          ]
        }
      ]
    },
    {
      "cell_type": "markdown",
      "source": [
        "### Adding a New Star Wars Character\n",
        "\n",
        "1. Start with the existing star_wars_characters dictionary created in the previous exercise.\n",
        "\n",
        "2. Add a new Star Wars character, \"Darth Maul\", to the dictionary with the role \"Sith Apprentice\".\n",
        "  ```python\n",
        "  star_wars_characters[\"Darth Maul\"] = \"Sith Apprentice\"\n",
        "  ```\n",
        "3. Print the updated star_wars_characters dictionary to verify the addition of the new character."
      ],
      "metadata": {
        "id": "wIGvBnM7CBIJ"
      }
    },
    {
      "cell_type": "code",
      "source": [
        "# Adding a New Star Wars Character\n",
        "star_wars_characters[\"Darth Maul\"] = \"Sith Apprentice\"\n",
        "\n",
        "# Printing the Updated Dictionary\n",
        "print(star_wars_characters)\n"
      ],
      "metadata": {
        "id": "oy3mleuiCQWY"
      },
      "execution_count": null,
      "outputs": []
    },
    {
      "cell_type": "markdown",
      "source": [
        "### Updating a Star Wars Character\n",
        "\n",
        "1. Start with the existing star_wars_characters dictionary created in the previous exercise.\n",
        "\n",
        "2. Update the role of the character \"Han Solo\" to \"Rebel Leader\".\n",
        "\n",
        "3. Print the updated star_wars_characters dictionary to verify the modification.\n",
        "\n"
      ],
      "metadata": {
        "id": "AAdHI7rSCVk-"
      }
    },
    {
      "cell_type": "code",
      "source": [
        "# Updating a Star Wars Character\n",
        "star_wars_characters[\"Han Solo\"] = \"Rebel Leader\"\n",
        "\n",
        "# Printing the Updated Dictionary\n",
        "print(star_wars_characters)\n"
      ],
      "metadata": {
        "id": "QaJypseVCi77"
      },
      "execution_count": null,
      "outputs": []
    },
    {
      "cell_type": "markdown",
      "source": [
        "###  Membership Testing in Star Wars Characters\n",
        "\n",
        "1. Start with the existing star_wars_characters dictionary created in the previous exercises.\n",
        "\n",
        "2. create a variable to store  \"Yoda\" .\n",
        "\n",
        "3. Check if the character name exists as a key in the star_wars_characters dictionary using the membership testing operation.\n",
        "\n",
        "4. If the character is present, print a message indicating that the character is a part of the Star Wars characters list. Otherwise, print a message indicating that the character is not found."
      ],
      "metadata": {
        "id": "3O2uFQRPDBq4"
      }
    },
    {
      "cell_type": "code",
      "source": [
        "# Membership Testing in Star Wars Characters\n",
        "# character_name = input(\"Enter a character name: \")\n",
        "character_name = \"Yoda\"\n",
        "if character_name in star_wars_characters:\n",
        "    print(f\"{character_name} is a part of the Star Wars characters dictionary.\")\n",
        "else:\n",
        "    print(f\"{character_name} is not found.\")\n"
      ],
      "metadata": {
        "colab": {
          "base_uri": "https://localhost:8080/"
        },
        "id": "g1MelutmDV1T",
        "outputId": "155ab548-ae73-444a-8dca-e5b82f5ab2db"
      },
      "execution_count": 9,
      "outputs": [
        {
          "output_type": "stream",
          "name": "stdout",
          "text": [
            "Yoda is a part of the Star Wars characters dictionary.\n"
          ]
        }
      ]
    },
    {
      "cell_type": "markdown",
      "source": [
        "### Extracting Keys, Items, and Values\n",
        "\n",
        "1. Start with the existing star_wars_characters dictionary created in the previous exercises.\n",
        "\n",
        "2. Extract and print all the keys of the star_wars_characters dictionary using the keys() method.\n",
        "\n",
        "3. Extract and print all the items (key-value pairs) of the star_wars_characters dictionary using the items() method.\n",
        "\n",
        "4. Extract and print all the values of the star_wars_characters dictionary using the values() method."
      ],
      "metadata": {
        "id": "eizunevlCndj"
      }
    },
    {
      "cell_type": "code",
      "source": [
        "# Extracting Keys, Items, and Values\n",
        "keys = star_wars_characters.keys()\n",
        "items = star_wars_characters.items()\n",
        "values = star_wars_characters.values()\n",
        "\n",
        "# Printing the extracted keys, items, and values\n",
        "print(\"Keys:\", keys)\n",
        "\n",
        "print(\"\\nItems:\",items)\n",
        "\n",
        "print(\"\\nValues:\",values)\n"
      ],
      "metadata": {
        "colab": {
          "base_uri": "https://localhost:8080/"
        },
        "id": "AB6ywCuvCycp",
        "outputId": "e11d3f18-3cb7-4f84-b72c-369172c0586a"
      },
      "execution_count": 12,
      "outputs": [
        {
          "output_type": "stream",
          "name": "stdout",
          "text": [
            "Keys: dict_keys(['Luke Skywalker', 'Darth Vader', 'Han Solo', 'Princess Leia', 'Yoda', 'Obi-Wan Kenobi', 'Boba Fett', 'Rey', 'Kylo Ren', 'R2-D2'])\n",
            "\n",
            "Items: dict_items([('Luke Skywalker', 'Jedi'), ('Darth Vader', 'Sith'), ('Han Solo', 'Smuggler'), ('Princess Leia', 'Rebel'), ('Yoda', 'Jedi'), ('Obi-Wan Kenobi', 'Jedi'), ('Boba Fett', 'Bounty Hunter'), ('Rey', 'Jedi'), ('Kylo Ren', 'Sith'), ('R2-D2', 'Droid')])\n",
            "\n",
            "Values: dict_values(['Jedi', 'Sith', 'Smuggler', 'Rebel', 'Jedi', 'Jedi', 'Bounty Hunter', 'Jedi', 'Sith', 'Droid'])\n"
          ]
        }
      ]
    },
    {
      "cell_type": "markdown",
      "source": [
        "# Now try that with the Friends TV show! \n",
        "\n",
        "\n",
        "---\n",
        "\n"
      ],
      "metadata": {
        "id": "odXCfHQcCy-y"
      }
    },
    {
      "cell_type": "markdown",
      "source": [
        "### Exercise 1: Friends Character Dictionary\n",
        "\n",
        "1. Create an empty dictionary called `friends_characters`.\n",
        "2. Add the following key-value pairs to the dictionary:\n",
        "   - \"Rachel\": \"Jennifer Aniston\"\n",
        "   - \"Monica\": \"Courteney Cox\"\n",
        "   - \"Phoebe\": \"Lisa Kudrow\"\n",
        "   - \"Joey\": \"Matt LeBlanc\"\n",
        "   - \"Chandler\": \"Matthew Perry\"\n",
        "   - \"Ross\": \"David Schwimmer\"\n",
        "3. Print the `friends_characters` dictionary.\n",
        "\n",
        "### Exercise 2: Modify Friends Character Dictionary\n",
        "\n",
        "1. Update the value of \"Joey\" to \"Matt LeBlanc Tribbiani\" in the `friends_characters` dictionary.\n",
        "2. Add a new character, \"Gunther\", with the value \"James Michael Tyler\" to the dictionary.\n",
        "3. Print the updated `friends_characters` dictionary.\n",
        "\n",
        "### Exercise 3: Membership Testing\n",
        "\n",
        "1. Prompt the user to enter a character name.\n",
        "2. Check if the entered character is present as a key in the `friends_characters` dictionary.\n",
        "3. Print a message indicating whether the character is a friend or not.\n",
        "\n",
        "### Exercise 4: Access Keys, Values, and Items\n",
        "\n",
        "1. Print all the keys in the `friends_characters` dictionary.\n",
        "2. Print all the values in the `friends_characters` dictionary.\n",
        "3. Print all the key-value pairs (items) in the `friends_characters` dictionary.\n",
        "\n"
      ],
      "metadata": {
        "id": "c5XcVgJmA_Ku"
      }
    },
    {
      "cell_type": "code",
      "source": [],
      "metadata": {
        "id": "D2Z4Tor1D5Fi"
      },
      "execution_count": null,
      "outputs": []
    },
    {
      "cell_type": "code",
      "source": [],
      "metadata": {
        "id": "CQ_JiKyUD5Qv"
      },
      "execution_count": null,
      "outputs": []
    },
    {
      "cell_type": "markdown",
      "source": [
        "# Solution-ish\n",
        "\n",
        "\n",
        "---\n",
        "\n"
      ],
      "metadata": {
        "id": "VDEUzNqhEEEq"
      }
    },
    {
      "cell_type": "code",
      "source": [
        "# Exercise 1: Friends Character Dictionary\n",
        "friends_characters = {}\n",
        "friends_characters[\"Rachel\"] = \"Jennifer Aniston\"\n",
        "friends_characters[\"Monica\"] = \"Courteney Cox\"\n",
        "friends_characters[\"Phoebe\"] = \"Lisa Kudrow\"\n",
        "friends_characters[\"Joey\"] = \"Matt LeBlanc\"\n",
        "friends_characters[\"Chandler\"] = \"Matthew Perry\"\n",
        "friends_characters[\"Ross\"] = \"David Schwimmer\"\n",
        "print(friends_characters)\n",
        "\n",
        "# Exercise 2: Modify Friends Character Dictionary\n",
        "friends_characters[\"Joey\"] = \"Matt LeBlanc Tribbiani\"\n",
        "friends_characters[\"Gunther\"] = \"James Michael Tyler\"\n",
        "print(friends_characters)\n",
        "\n",
        "# Exercise 3: Membership Testing\n",
        "character_name = input(\"Enter a character name: \")\n",
        "if character_name in friends_characters:\n",
        "    print(f\"{character_name} is a friend!\")\n",
        "else:\n",
        "    print(f\"{character_name} is not a friend.\")\n",
        "\n",
        "# Exercise 4: Access Keys, Values, and Items\n",
        "print(\"Keys:\")\n",
        "for key in friends_characters.keys():\n",
        "    print(key)\n",
        "\n",
        "print(\"\\nValues:\")\n",
        "for value in friends_characters.values():\n",
        "    print(value)\n",
        "\n",
        "print(\"\\nItems:\")\n",
        "for item in friends_characters.items():\n",
        "    print(item)\n"
      ],
      "metadata": {
        "id": "EKjF26jgD5WL"
      },
      "execution_count": null,
      "outputs": []
    },
    {
      "cell_type": "code",
      "execution_count": 1,
      "metadata": {
        "colab": {
          "base_uri": "https://localhost:8080/"
        },
        "id": "aXVuaGJ53lUV",
        "outputId": "a11822b0-e655-4a59-91ed-a865abff0b07"
      },
      "outputs": [
        {
          "output_type": "stream",
          "name": "stdout",
          "text": [
            "John\n",
            "20\n",
            "A\n"
          ]
        }
      ],
      "source": [
        "# Creating a dictionary\n",
        "student = {\"name\": \"John\", \"age\": 20, \"grade\": \"A\"}\n",
        "\n",
        "# Accessing values using keys\n",
        "print(student[\"name\"])   # Output: John\n",
        "print(student[\"age\"])    # Output: 20\n",
        "print(student[\"grade\"])  # Output: A\n"
      ]
    },
    {
      "cell_type": "code",
      "source": [
        "# Creating an empty dictionary\n",
        "student = {}\n",
        "\n",
        "# Adding a new key-value pair\n",
        "student[\"name\"] = \"John\"\n",
        "student[\"age\"] = 20\n",
        "\n",
        "# Updating the value of an existing key\n",
        "student[\"age\"] = 21\n",
        "student"
      ],
      "metadata": {
        "colab": {
          "base_uri": "https://localhost:8080/"
        },
        "id": "TxG7NQys4vkG",
        "outputId": "dd1ca1b0-a059-4f92-fb83-b884fce17aa7"
      },
      "execution_count": 3,
      "outputs": [
        {
          "output_type": "execute_result",
          "data": {
            "text/plain": [
              "{'name': 'John', 'age': 21}"
            ]
          },
          "metadata": {},
          "execution_count": 3
        }
      ]
    },
    {
      "cell_type": "code",
      "source": [
        "# Checking if a key is present in a dictionary\n",
        "student = {\"name\": \"John\", \"age\": 20, \"grade\": \"A\"}\n",
        "if \"name\" in student:\n",
        "    print(\"Name is present in the dictionary.\")\n",
        "\n",
        "if \"city\" not in student:\n",
        "    print(\"City is not present in the dictionary.\")\n"
      ],
      "metadata": {
        "id": "qbHxO2Lk5PET"
      },
      "execution_count": null,
      "outputs": []
    },
    {
      "cell_type": "code",
      "source": [
        "# Accessing keys, values, and items of a dictionary\n",
        "student = {\"name\": \"John\", \"age\": 20, \"grade\": \"A\"}\n",
        "keys = student.keys()\n",
        "values = student.values()\n",
        "items = student.items()\n",
        "\n",
        "print(\"Keys:\", keys)\n",
        "print(\"Values:\", values)\n",
        "print(\"Items:\", items)\n"
      ],
      "metadata": {
        "colab": {
          "base_uri": "https://localhost:8080/"
        },
        "id": "mdQvVfW75rLw",
        "outputId": "93cfabba-e1e3-495e-ff14-a739f19cdd1e"
      },
      "execution_count": 4,
      "outputs": [
        {
          "output_type": "stream",
          "name": "stdout",
          "text": [
            "Keys: dict_keys(['name', 'age', 'grade'])\n",
            "Values: dict_values(['John', 20, 'A'])\n",
            "Items: dict_items([('name', 'John'), ('age', 20), ('grade', 'A')])\n"
          ]
        }
      ]
    }
  ]
}