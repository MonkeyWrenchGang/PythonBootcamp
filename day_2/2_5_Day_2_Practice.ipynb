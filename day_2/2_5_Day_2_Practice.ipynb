{
  "nbformat": 4,
  "nbformat_minor": 0,
  "metadata": {
    "colab": {
      "provenance": [],
      "authorship_tag": "ABX9TyMf74g5XSRu/qTbomEZkLtI",
      "include_colab_link": true
    },
    "kernelspec": {
      "name": "python3",
      "display_name": "Python 3"
    },
    "language_info": {
      "name": "python"
    }
  },
  "cells": [
    {
      "cell_type": "markdown",
      "metadata": {
        "id": "view-in-github",
        "colab_type": "text"
      },
      "source": [
        "<a href=\"https://colab.research.google.com/github/MonkeyWrenchGang/PythonBootcamp/blob/main/day_2/2_5_Day_2_Practice.ipynb\" target=\"_parent\"><img src=\"https://colab.research.google.com/assets/colab-badge.svg\" alt=\"Open In Colab\"/></a>"
      ]
    },
    {
      "cell_type": "markdown",
      "source": [
        "# List Practice\n",
        "\n",
        "## Exercise:\n",
        "1. Create a list called `friends_characters` and populate it with the names of five characters from the TV show \"Friends\". For example, you can include names like \"Rachel\", \"Ross\", \"Monica\", \"Chandler\", and \"Phoebe\".\n",
        "\n",
        "2. Select a variable from the list by its index and assign it to a new variable called `selected_character`. For example, you can select the character at index 2 and assign it to `selected_character`.\n",
        "\n",
        "3. Sort the `friends_characters` list in alphabetical order, using the .sort() method.\n",
        "\n",
        "4. Create a new list called `other_characters` and populate it with the \"Joey\", \"Gunther\", \"Janice\" and \"Officer Gary\".\n",
        "\n",
        "5. Create a new list called `combined_list` by concatenating the `friends_characters` list with the `other_characters` list.\n",
        "\n",
        "6. Append \"Richard\"  to the `friends_characters` by using the `append()` function to add it to the existing list. print the list out!\n"
      ],
      "metadata": {
        "id": "f3KSHB7SlxtX"
      }
    },
    {
      "cell_type": "code",
      "execution_count": null,
      "metadata": {
        "id": "ArcLrf44ltu3"
      },
      "outputs": [],
      "source": []
    },
    {
      "cell_type": "code",
      "source": [],
      "metadata": {
        "id": "MFEE-z1Hne0e"
      },
      "execution_count": null,
      "outputs": []
    },
    {
      "cell_type": "code",
      "source": [],
      "metadata": {
        "id": "jNzwnNMKne2i"
      },
      "execution_count": null,
      "outputs": []
    },
    {
      "cell_type": "code",
      "source": [],
      "metadata": {
        "id": "Ke9jsXRkne46"
      },
      "execution_count": null,
      "outputs": []
    },
    {
      "cell_type": "code",
      "source": [],
      "metadata": {
        "id": "cxWDkeCEne7e"
      },
      "execution_count": null,
      "outputs": []
    },
    {
      "cell_type": "markdown",
      "source": [
        "# Sample List Solution\n",
        "\n",
        "\n",
        "---\n",
        "\n"
      ],
      "metadata": {
        "id": "l38DDon7nfkp"
      }
    },
    {
      "cell_type": "code",
      "source": [
        "# Exercise 1\n",
        "friends_characters = [\"Rachel\", \"Ross\", \"Monica\", \"Chandler\", \"Phoebe\"]\n",
        "\n",
        "# Exercise 2\n",
        "selected_character = friends_characters[2]\n",
        "\n",
        "# Exercise 3\n",
        "friends_characters.sort()\n",
        "\n",
        "# Exercise 4\n",
        "other_characters = [\"Joey\", \"Gunther\", \"Janice\", \"Officer Gary\"]\n",
        "\n",
        "# Exercise 5\n",
        "combined_list = friends_characters + other_characters\n",
        "\n",
        "# Exercise 6\n",
        "friends_characters.append(\"Richard\")\n",
        "\n",
        "# Printing the final list\n",
        "print(friends_characters)\n"
      ],
      "metadata": {
        "id": "YH_OrhqxnsXZ"
      },
      "execution_count": null,
      "outputs": []
    },
    {
      "cell_type": "markdown",
      "source": [
        "# Dictionary Practice\n",
        "\n",
        "## Exercise:\n",
        "1. Create a dictionary called `marvel_characters` and populate it with the names of five Marvel characters as keys and their corresponding powers as values.\n",
        "\n",
        "- \"Iron Man\": \"Genius intellect and advanced technology\",\n",
        "- \"Spider-Man\": \"Agility and web-slinging\",\n",
        "- \"Captain America\": \"Enhanced strength and agility\",\n",
        "- \"Black Panther\": \"Superhuman senses and advanced technology\",\n",
        "- \"Thor\": \"Control over lightning and Mjolnir\"\n",
        "\n",
        "2. Select the \"Spider-Man\" character from the dictionary by its key and assign its power to a new variable called `selected_power`. print the selected_power using print()\n",
        "\n",
        "3. Add a new Marvel character, \"Black Widow\", to the `marvel_characters` dictionary with her power as \" espionage, martial arts, and various forms of combat\"\n",
        "print the dictionary out\n",
        "\n",
        "4. Remove the \"Captain America\" character and their power from the `marvel_characters` dictionary.\n",
        "\n",
        "5. Print all the `keys()` (character names) in the `marvel_characters` dictionary.\n",
        "\n",
        "6. Print all the `items()` in the `marvel_characters` dictionary.\n",
        "\n",
        "7. Print all the `values()` in the `marvel_characters` dictionary."
      ],
      "metadata": {
        "id": "uR6RZn2BoBle"
      }
    },
    {
      "cell_type": "code",
      "source": [],
      "metadata": {
        "id": "cxDBBhkSo9fq"
      },
      "execution_count": null,
      "outputs": []
    },
    {
      "cell_type": "code",
      "source": [],
      "metadata": {
        "id": "ENVySARKo9pz"
      },
      "execution_count": null,
      "outputs": []
    },
    {
      "cell_type": "code",
      "source": [],
      "metadata": {
        "id": "GtKTyNdwo9tL"
      },
      "execution_count": null,
      "outputs": []
    },
    {
      "cell_type": "code",
      "source": [],
      "metadata": {
        "id": "hwb4L1IEo9wB"
      },
      "execution_count": null,
      "outputs": []
    },
    {
      "cell_type": "code",
      "source": [],
      "metadata": {
        "id": "rRFowOmqo9zI"
      },
      "execution_count": null,
      "outputs": []
    },
    {
      "cell_type": "code",
      "source": [],
      "metadata": {
        "id": "C83X4Otko94W"
      },
      "execution_count": null,
      "outputs": []
    },
    {
      "cell_type": "code",
      "source": [],
      "metadata": {
        "id": "lIK52z4xo-AL"
      },
      "execution_count": null,
      "outputs": []
    },
    {
      "cell_type": "markdown",
      "source": [
        "# dictionary solutions\n",
        "\n",
        "\n",
        "---\n",
        "\n"
      ],
      "metadata": {
        "id": "0P-TdIMio-Mt"
      }
    },
    {
      "cell_type": "code",
      "source": [
        "# Exercise 1\n",
        "marvel_characters = {\n",
        "    \"Iron Man\": \"Genius intellect and advanced technology\",\n",
        "    \"Spider-Man\": \"Agility and web-slinging\",\n",
        "    \"Captain America\": \"Enhanced strength and agility\",\n",
        "    \"Black Panther\": \"Superhuman senses and advanced technology\",\n",
        "    \"Thor\": \"Control over lightning and Mjolnir\"\n",
        "}\n",
        "\n",
        "# Exercise 2\n",
        "selected_power = marvel_characters[\"Spider-Man\"]\n",
        "print(selected_power)\n",
        "\n",
        "# Exercise 3\n",
        "marvel_characters[\"Black Widow\"] = \"Espionage, martial arts, and various forms of combat\"\n",
        "print(marvel_characters)\n",
        "\n",
        "# Exercise 4\n",
        "del marvel_characters[\"Captain America\"]\n",
        "\n",
        "# Exercise 5\n",
        "print(marvel_characters.keys())\n",
        "\n",
        "# Exercise 6\n",
        "print(marvel_characters.items())\n",
        "\n",
        "# Exercise 7\n",
        "print(marvel_characters.values())\n"
      ],
      "metadata": {
        "id": "DbH39ZOmpBDE"
      },
      "execution_count": null,
      "outputs": []
    },
    {
      "cell_type": "markdown",
      "source": [
        "# Pandas Pratice\n",
        "\n",
        "\n",
        "---\n",
        "\n",
        "\n",
        "## Exercise 1: Import the Titanic Dataset\n",
        "\n",
        "1. Import the Pandas library using `import pandas as pd`.\n",
        "2. Use the `pd.read_csv()` function to read the Titanic dataset from a CSV file into a DataFrame called `titanic_df`.\n",
        "3. Print the first few rows of the DataFrame using the `.head()` method.\n",
        "\n",
        "url of data:\n",
        "```\n",
        "\"https://raw.githubusercontent.com/datasciencedojo/datasets/master/titanic.csv\"\n",
        "```\n",
        "\n",
        "## Exercise 2: Export the DataFrame to a CSV File\n",
        "\n",
        "1. Use the `.to_csv()` method on the `titanic_df` DataFrame to export it to a new CSV file called `titanic_export.csv`.\n",
        "2. Open the exported file and verify its contents.\n",
        "\n",
        "## Exercise 3: Extract a Series from the DataFrame\n",
        "\n",
        "1. Extract the \"Age\" column from the `titanic_df` DataFrame and assign it to a new variable called `age_series`.\n",
        "2. Print the first few values of the `age_series` using the `.head()` method.\n",
        "\n",
        "## Exercise 4: Count the Passengers by Sex\n",
        "\n",
        "1. Use the `.value_counts()` method on the \"Sex\" column of the `titanic_df` DataFrame to count the number of passengers by sex.\n",
        "2. Assign the result to a new variable called `sex_counts`.\n",
        "3. Print the `sex_counts` variable to display the counts.\n",
        "\n",
        "*Note: You can pass the argument `normalize=True` to normalize the counts as proportions instead of absolute counts.*\n",
        "\n",
        "## Exercise 5: Count the Passenger Classes\n",
        "\n",
        "1. Use the `.value_counts()` method on the \"Pclass\" column of the `titanic_df` DataFrame to count the number of passengers in each class.\n",
        "2. Assign the result to a new variable called `class_counts`.\n",
        "3. Print the `class_counts` variable to display the counts.\n",
        "\n",
        "*Note: You can pass the argument `normalize=True` to normalize the counts as proportions instead of absolute counts.*\n",
        "\n",
        "## Exercise 6: % Survived by Age Group\n",
        "\n",
        "\n",
        "1. Use the `.value_counts()` method on the \"Survived\" column of the `titanic_df` DataFrame.\n",
        "\n",
        "2. create two data sets by filtering results by age. first  `under_18` and `over_18` then use the survived column and value counts with (normalize = True) to get the survival percentages.\n",
        "\n",
        "3. were you more or less likely to survive if you were over 18 or under?\n"
      ],
      "metadata": {
        "id": "SfeXEbFEl155"
      }
    },
    {
      "cell_type": "code",
      "source": [],
      "metadata": {
        "id": "8WZKI0MUl2yG"
      },
      "execution_count": null,
      "outputs": []
    },
    {
      "cell_type": "code",
      "source": [],
      "metadata": {
        "id": "hcDRCSNul27e"
      },
      "execution_count": null,
      "outputs": []
    },
    {
      "cell_type": "code",
      "source": [],
      "metadata": {
        "id": "QQbRtZU5l3Ab"
      },
      "execution_count": null,
      "outputs": []
    },
    {
      "cell_type": "code",
      "source": [],
      "metadata": {
        "id": "8SPGAXQ2l3Cw"
      },
      "execution_count": null,
      "outputs": []
    },
    {
      "cell_type": "code",
      "source": [],
      "metadata": {
        "id": "VX_giXz7l3FG"
      },
      "execution_count": null,
      "outputs": []
    },
    {
      "cell_type": "code",
      "source": [],
      "metadata": {
        "id": "6LUV3gTul3Hc"
      },
      "execution_count": null,
      "outputs": []
    },
    {
      "cell_type": "markdown",
      "source": [
        "# Pandas Potential Solutions\n",
        "\n",
        "\n",
        "---\n",
        "\n"
      ],
      "metadata": {
        "id": "osUE797nl7mt"
      }
    },
    {
      "cell_type": "code",
      "source": [
        "import pandas as pd\n",
        "\n",
        "# Exercise 1: Import the Titanic Dataset\n",
        "titanic_df = pd.read_csv(\"https://raw.githubusercontent.com/datasciencedojo/datasets/master/titanic.csv\")\n",
        "print(titanic_df.head())\n",
        "\n",
        "# Exercise 2: Export the DataFrame to a CSV File\n",
        "titanic_df.to_csv(\"titanic_export.csv\", index=False)\n",
        "\n",
        "# Exercise 3: Extract a Series from the DataFrame\n",
        "age_series = titanic_df[\"Age\"]\n",
        "print(age_series.head())\n",
        "\n",
        "# Exercise 4: Count the Passengers by Sex\n",
        "sex_counts = titanic_df[\"Sex\"].value_counts(normalize=True)\n",
        "print(sex_counts)\n",
        "\n",
        "# Exercise 5: Count the Passenger Classes\n",
        "class_counts = titanic_df[\"Pclass\"].value_counts(normalize=True)\n",
        "print(class_counts)\n",
        "\n",
        "# Exercise 6: % Survived by Age Group\n",
        "under_18 = titanic_df[titanic_df[\"Age\"] < 18]\n",
        "over_18 = titanic_df[titanic_df[\"Age\"] >= 18]\n",
        "\n",
        "survived_under_18 = under_18[\"Survived\"].value_counts(normalize=True)\n",
        "survived_over_18 = over_18[\"Survived\"].value_counts(normalize=True)\n",
        "\n",
        "print(\"Survival percentage for passengers under 18:\")\n",
        "print(survived_under_18)\n",
        "\n",
        "print(\"Survival percentage for passengers over 18:\")\n",
        "print(survived_over_18)\n"
      ],
      "metadata": {
        "id": "IxnHMyXMl_G6"
      },
      "execution_count": null,
      "outputs": []
    }
  ]
}