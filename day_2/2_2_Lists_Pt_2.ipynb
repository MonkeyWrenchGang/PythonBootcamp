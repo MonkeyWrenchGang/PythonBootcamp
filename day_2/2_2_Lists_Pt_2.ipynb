{
  "nbformat": 4,
  "nbformat_minor": 0,
  "metadata": {
    "colab": {
      "provenance": [],
      "authorship_tag": "ABX9TyOYL0ZQsy6teagbryTn43TJ",
      "include_colab_link": true
    },
    "kernelspec": {
      "name": "python3",
      "display_name": "Python 3"
    },
    "language_info": {
      "name": "python"
    }
  },
  "cells": [
    {
      "cell_type": "markdown",
      "metadata": {
        "id": "view-in-github",
        "colab_type": "text"
      },
      "source": [
        "<a href=\"https://colab.research.google.com/github/MonkeyWrenchGang/PythonBootcamp/blob/main/day_2/2_2_Lists_Pt_2.ipynb\" target=\"_parent\"><img src=\"https://colab.research.google.com/assets/colab-badge.svg\" alt=\"Open In Colab\"/></a>"
      ]
    },
    {
      "cell_type": "markdown",
      "source": [
        "# Introduction to List Operations\n",
        "\n",
        "\n",
        "---\n",
        "\n",
        "\n",
        "\n",
        "In Python, lists offer various operations that allow us to manipulate and work with the data they contain. Let's explore some common list operations:\n",
        "\n",
        "## Concatenation\n",
        "\n",
        "Concatenation is the process of combining two or more lists into a single list. In Python, we use the + operator to concatenate lists. Here's an example:\n",
        "\n",
        "```python\n",
        "list1 = [1, 2, 3]\n",
        "list2 = [4, 5, 6]\n",
        "new_list = list1 + list2\n",
        "print(new_list)\n",
        "```\n",
        "\n",
        "## Repetition\n",
        "\n",
        "Repetition allows us to create a new list by repeating an existing list a certain number of times. We use the `*` operator to achieve list repetition. Here's an example:\n",
        "\n",
        "```python\n",
        "my_list = [1, 2, 3]\n",
        "repeated_list = my_list * 3\n",
        "print(repeated_list)\n",
        "```\n",
        "\n",
        "## Membership Testing\n",
        "\n",
        "Membership testing involves checking whether an element is present in a list. We use the `in` and `not in` operators for this purpose. Here's an example:\n",
        "\n",
        "```python\n",
        "my_list = [1, 2, 3, 4, 5]\n",
        "print(2 in my_list)  # Output: True\n",
        "print(6 in my_list)  # Output: False\n",
        "print(3 not in my_list)  # Output: False\n",
        "print(6 not in my_list)  # Output: True\n",
        "```\n",
        "## Length of a List\n",
        "\n",
        "The length of a list refers to the number of elements it contains. We can determine the length using the `len()` function. Here's an example:\n",
        "\n",
        "```python\n",
        "my_list = [1, 2, 3, 4, 5]\n",
        "length = len(my_list)\n",
        "print(length)\n",
        "```\n",
        "\n"
      ],
      "metadata": {
        "id": "8dGjBCWPlKSg"
      }
    },
    {
      "cell_type": "code",
      "source": [
        "list1 = [1, 2, 3]\n",
        "list2 = [4, 5, 6]\n",
        "new_list = list1 + list2\n",
        "print(new_list)\n"
      ],
      "metadata": {
        "id": "9P5oiXcdl-H8",
        "outputId": "48f99245-fa88-40a6-c3b0-2eed871e7f60",
        "colab": {
          "base_uri": "https://localhost:8080/"
        }
      },
      "execution_count": 1,
      "outputs": [
        {
          "output_type": "stream",
          "name": "stdout",
          "text": [
            "[1, 2, 3, 4, 5, 6]\n"
          ]
        }
      ]
    },
    {
      "cell_type": "markdown",
      "source": [
        "# Play with Fruit\n"
      ],
      "metadata": {
        "id": "doHbkDlrl-yY"
      }
    },
    {
      "cell_type": "code",
      "execution_count": null,
      "metadata": {
        "id": "5A3BD0srkyst"
      },
      "outputs": [],
      "source": [
        "# Concatenation\n",
        "fruits1 = [\"apple\", \"banana\"]\n",
        "fruits2 = [\"orange\", \"grape\"]\n",
        "all_fruits = fruits1 + fruits2  # all_fruits: [\"apple\", \"banana\", \"orange\", \"grape\"]\n",
        "\n",
        "# Repetition\n",
        "repeated_fruits = fruits1 * 3  # repeated_fruits: [\"apple\", \"banana\", \"apple\", \"banana\", \"apple\", \"banana\"]\n",
        "\n",
        "# Membership Testing\n",
        "if \"apple\" in fruits1:\n",
        "    print(\"Apple is present in the list.\")\n",
        "if \"kiwi\" not in fruits1:\n",
        "    print(\"Kiwi is not present in the list.\")\n",
        "\n",
        "# Length of a List\n",
        "count = len(fruits1)  # count: 2\n"
      ]
    },
    {
      "cell_type": "markdown",
      "source": [
        "# Exercises\n",
        "\n",
        "\n",
        "---\n",
        "\n",
        "\n",
        "\n",
        "### Exercise 1: Concatenation\n",
        "\n",
        "Create two lists of Star Wars characters: `jedi` and `sith`. Concatenate the two lists to create a new list called `star_wars_characters`. Print the resulting list.\n",
        "\n",
        "```python\n",
        "# Create two lists of Star Wars characters\n",
        "jedi = [\"Luke Skywalker\", \"Yoda\", \"Obi-Wan Kenobi\"]\n",
        "sith = [\"Darth Vader\", \"Emperor Palpatine\", \"Darth Maul\"]\n",
        "\n",
        "# Concatenate the two lists into star_wars_characters\n",
        "\n",
        "\n",
        "# Print the resulting list\n",
        "print(star_wars_characters)\n",
        "```\n",
        "\n",
        "### Exercise 2: Repetition\n",
        "\n",
        "Create a list of Star Wars planets called `planets`. Repeat the list three times and store the result in a new list called `repeated_planets`. Print the `repeated_planets` list.\n",
        "\n",
        "```python\n",
        "# Exercise 2: Repetition\n",
        "\n",
        "# Create a list of Star Wars planets\n",
        "planets = [\"Tatooine\", \"Hoth\", \"Naboo\"]\n",
        "\n",
        "# Repeat the list three times : repeated_planets\n",
        "\n",
        "\n",
        "# Print the repeated_planets list\n",
        "print(repeated_planets)\n",
        "\n",
        "```\n",
        "\n",
        "### Exercise 3: Membership Testing\n",
        "\n",
        "Create a list of Star Wars droids called `droids`. Prompt the user to enter the name of a droid. Check if the entered droid is present in the `droids` list using membership testing. Display an appropriate message based on the result.\n",
        "\n",
        "```python\n",
        "# Exercise 3: Membership Testing\n",
        "\n",
        "# Create a list of Star Wars droids\n",
        "droids = [\"R2-D2\", \"C-3PO\", \"BB-8\"]\n",
        "\n",
        "# Prompt the user to enter the name of a droid\n",
        "user_input = input(\"Enter the name of a Star Wars droid: \")\n",
        "\n",
        "# Check if the entered droid is present in the droids list\n",
        "if # put a condtition to test :\n",
        "    print(f\"{user_input} is a Star Wars droid.\")\n",
        "else:\n",
        "    print(f\"{user_input} is not a Star Wars droid.\")\n",
        "\n",
        "```\n",
        "\n",
        "### Exercise 4: Length of a List\n",
        "\n",
        "Create a list of Star Wars vehicles called `vehicles`. Calculate the length of the `vehicles` list using the `len()` function and store it in a variable called `num_vehicles`. Print the value of `num_vehicles`.\n",
        "\n",
        "```python\n",
        "\n",
        "# Create a list of Star Wars vehicles\n",
        "vehicles = [\"X-wing\", \"TIE fighter\", \"Millennium Falcon\", \"AT-AT\"]\n",
        "\n",
        "# Calculate the length of the vehicles list num_vehicles\n",
        "\n",
        "# Print the value of num_vehicles\n",
        "print(\"Number of vehicles:\", num_vehicles)\n",
        "```"
      ],
      "metadata": {
        "id": "DMd2dPK8mA8s"
      }
    },
    {
      "cell_type": "code",
      "source": [],
      "metadata": {
        "id": "ct2qxWEQmBPq"
      },
      "execution_count": null,
      "outputs": []
    },
    {
      "cell_type": "markdown",
      "source": [
        "# sort\n"
      ],
      "metadata": {
        "id": "xGJ7ykN7obZw"
      }
    },
    {
      "cell_type": "code",
      "source": [
        "numbers = [5, 2, 8, 1, 3]\n",
        "numbers.sort()\n",
        "print(numbers)  # Output: [1, 2, 3, 5, 8]"
      ],
      "metadata": {
        "colab": {
          "base_uri": "https://localhost:8080/"
        },
        "id": "9NuvzVq8oc5V",
        "outputId": "6084d788-e9f7-431f-ab45-bc54030a8d7a"
      },
      "execution_count": null,
      "outputs": [
        {
          "output_type": "stream",
          "name": "stdout",
          "text": [
            "[1, 2, 3, 5, 8]\n"
          ]
        }
      ]
    },
    {
      "cell_type": "code",
      "source": [
        "fruits = ['apple', 'banana', 'cherry']\n",
        "fruits.reverse()\n",
        "print(fruits)  # Output: ['cherry', 'banana', 'apple']\n"
      ],
      "metadata": {
        "id": "8AZ-TOocozgO"
      },
      "execution_count": null,
      "outputs": []
    },
    {
      "cell_type": "code",
      "source": [
        "numbers = [1, 2, 3, 2, 4, 2, 5]\n",
        "count_2 = numbers.count(2)\n",
        "print(count_2)  # Output: 3\n"
      ],
      "metadata": {
        "colab": {
          "base_uri": "https://localhost:8080/"
        },
        "id": "6dq-qcYOpEPY",
        "outputId": "b3cf6acd-cad0-4349-f01d-e294d0772deb"
      },
      "execution_count": null,
      "outputs": [
        {
          "output_type": "stream",
          "name": "stdout",
          "text": [
            "3\n"
          ]
        }
      ]
    },
    {
      "cell_type": "markdown",
      "source": [
        "# Exercise: Sorting and Counting South Park Characters\n",
        "\n",
        "1. Create a list called `south_park_characters` containing the following South Park character names: \"Stan\", \"Kyle\", \"Cartman\", \"Kenny\", \"Butters\", \"Randy\", \"Chef\", \"Mr. Garrison\", \"Timmy\".\n",
        "\n",
        "2. Use the `sort()` method to sort the `south_park_characters` list in alphabetical order.\n",
        "\n",
        "3. Print the sorted list of characters.\n",
        "\n",
        "4. Use the `count()` method to count the number of times the character \"Kenny\" appears in the `south_park_characters` list.\n",
        "\n",
        "5. Print the count of \"Kenny\" occurrences.\n",
        "\n",
        "6. Add a few more instances of the character \"Kenny\" to the `south_park_characters` list.\n",
        "\n",
        "7. Use the `count()` method again to verify the updated count of \"Kenny\" occurrences.\n",
        "\n",
        "8. Print the final count of \"Kenny\" occurrences.\n",
        "\n",
        "\n"
      ],
      "metadata": {
        "id": "8RGVk80S21Qi"
      }
    },
    {
      "cell_type": "code",
      "source": [],
      "metadata": {
        "id": "v7pEiO3V3AUU"
      },
      "execution_count": null,
      "outputs": []
    },
    {
      "cell_type": "markdown",
      "source": [
        "# sample solutions\n",
        "\n",
        "\n",
        "---\n",
        "\n"
      ],
      "metadata": {
        "id": "dDlAETlpnSRn"
      }
    },
    {
      "cell_type": "code",
      "source": [
        "# Exercise 1: Concatenation\n",
        "\n",
        "jedi = [\"Luke Skywalker\", \"Yoda\", \"Obi-Wan Kenobi\"]\n",
        "sith = [\"Darth Vader\", \"Emperor Palpatine\", \"Darth Maul\"]\n",
        "star_wars_characters = jedi + sith\n",
        "print(\"Star Wars Characters:\", star_wars_characters)\n",
        "\n",
        "# Exercise 2: Repetition\n",
        "\n",
        "planets = [\"Tatooine\", \"Hoth\", \"Naboo\"]\n",
        "repeated_planets = planets * 3\n",
        "print(\"Repeated Planets:\", repeated_planets)\n",
        "\n",
        "# Exercise 3: Membership Testing\n",
        "\n",
        "droids = [\"R2-D2\", \"C-3PO\", \"BB-8\"]\n",
        "user_input = input(\"Enter the name of a Star Wars droid: \")\n",
        "if user_input in droids:\n",
        "    print(f\"{user_input} is a Star Wars droid.\")\n",
        "else:\n",
        "    print(f\"{user_input} is not a Star Wars droid.\")\n",
        "\n",
        "# Exercise 4: Length of a List\n",
        "\n",
        "vehicles = [\"X-wing\", \"TIE fighter\", \"Millennium Falcon\", \"AT-AT\"]\n",
        "num_vehicles = len(vehicles)\n",
        "print(\"Number of vehicles:\", num_vehicles)\n"
      ],
      "metadata": {
        "id": "V_3GD7q-nTOy"
      },
      "execution_count": null,
      "outputs": []
    },
    {
      "cell_type": "code",
      "source": [
        "# Exercise: Sorting and Counting South Park Characters\n",
        "\n",
        "# 1. Create a list of South Park characters\n",
        "south_park_characters = [\"Stan\", \"Kyle\", \"Cartman\", \"Kenny\", \"Butters\", \"Randy\", \"Chef\", \"Mr. Garrison\", \"Timmy\"]\n",
        "\n",
        "# 2. Sort the south_park_characters list in alphabetical order\n",
        "south_park_characters.sort()\n",
        "\n",
        "# 3. Print the sorted list of characters\n",
        "print(\"Sorted characters:\", south_park_characters)\n",
        "\n",
        "# 4. Count the number of times \"Kenny\" appears in the list\n",
        "kenny_count = south_park_characters.count(\"Kenny\")\n",
        "\n",
        "# 5. Print the count of \"Kenny\" occurrences\n",
        "print(\"Count of 'Kenny' occurrences:\", kenny_count)\n",
        "\n",
        "# 6. Add a few more instances of \"Kenny\" to the list\n",
        "south_park_characters.extend([\"Kenny\", \"Kenny\", \"Kenny\"])\n",
        "\n",
        "# 7. Verify the updated count of \"Kenny\" occurrences\n",
        "kenny_count_updated = south_park_characters.count(\"Kenny\")\n",
        "\n",
        "# 8. Print the final count of \"Kenny\" occurrences\n",
        "print(\"Updated count of 'Kenny' occurrences:\", kenny_count_updated)\n"
      ],
      "metadata": {
        "id": "I10nAllp3Fo5"
      },
      "execution_count": null,
      "outputs": []
    }
  ]
}