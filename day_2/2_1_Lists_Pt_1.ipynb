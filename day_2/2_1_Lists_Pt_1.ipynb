{
  "nbformat": 4,
  "nbformat_minor": 0,
  "metadata": {
    "colab": {
      "provenance": [],
      "authorship_tag": "ABX9TyN7I9CLpjbk6cq+SrtRH7MS",
      "include_colab_link": true
    },
    "kernelspec": {
      "name": "python3",
      "display_name": "Python 3"
    },
    "language_info": {
      "name": "python"
    }
  },
  "cells": [
    {
      "cell_type": "markdown",
      "metadata": {
        "id": "view-in-github",
        "colab_type": "text"
      },
      "source": [
        "<a href=\"https://colab.research.google.com/github/MonkeyWrenchGang/PythonBootcamp/blob/main/day_2/2_1_Lists_Pt_1.ipynb\" target=\"_parent\"><img src=\"https://colab.research.google.com/assets/colab-badge.svg\" alt=\"Open In Colab\"/></a>"
      ]
    },
    {
      "cell_type": "markdown",
      "source": [
        "# What is a List?\n",
        "\n",
        "\n",
        "---\n",
        "\n",
        "\n",
        "In Python, a list is a versatile data structure that allows you to store and manipulate collections of items. It is an ordered sequence of elements, enclosed in square brackets [ ]. Each element in a list can be of any data type, such as numbers, strings, or even other lists.\n",
        "\n",
        "Lists are important because they enable us to work with multiple values as a single entity. They provide flexibility, allowing us to perform various operations on the elements, including adding, modifying, and removing items\n",
        "\n",
        "## Creating a List\n",
        "To create a list, you can simply assign values to a variable using square brackets:\n",
        "\n",
        "```python\n",
        "# create a list\n",
        "south_park_characters = [\"Stan Marsh\", \"Kyle Broflovski\", \"Eric Cartman\"]\n",
        "\n",
        "```"
      ],
      "metadata": {
        "id": "xM4EF5x98EF8"
      }
    },
    {
      "cell_type": "code",
      "source": [],
      "metadata": {
        "id": "DuIlZoJOhzMj"
      },
      "execution_count": null,
      "outputs": []
    },
    {
      "cell_type": "markdown",
      "source": [
        "## List Operation Exercise\n",
        "\n",
        "Lists offer a variety of operations that allow us to work with and manipulate the data they contain. Let's explore some of these operations using South Park characters as examples:\n",
        "\n",
        "### 1. Creating a List of South Park Characters:\n",
        "\n",
        "- Create an empty list called `south_park_characters`.\n",
        "- Use the `append()` function to add characters to the list one by one.\n",
        "\n",
        "```python\n",
        "# Create an empty list called south_park_characters\n",
        "south_park_characters = []\n",
        "\n",
        "# Use the append() function to add characters to the list one by one\n",
        "south_park_characters.append(\"Stan Marsh\")\n",
        "south_park_characters.append(\"Kyle Broflovski\")\n",
        "south_park_characters.append(\"Eric Cartman\")\n",
        "south_park_characters.append(\"Kenny McCormick\")\n",
        "\n",
        "# Print the updated list\n",
        "print(south_park_characters)\n",
        "\n",
        "```\n",
        "\n",
        "### 2. Appending a New Character:\n",
        "\n",
        "- Add a new character, \"Kenny McCormick\", to the end of the `south_park_characters` list using the `append()` function.\n",
        "\n",
        "\n",
        "### 3. Inserting a Character at a Specific Position:\n",
        "\n",
        "- Insert \"Eric Cartman\" at the second position in the `south_park_characters` list using the `insert()` function.\n",
        "\n",
        "\n",
        "### 4. Modifying a Character's Name:\n",
        "\n",
        "- Update the name of the third character in the `south_park_characters` list to \"Stan Marsh\" by directly assigning a new value to that index.\n",
        "\n",
        "### 5. Removing a Character:\n",
        "\n",
        "- Remove \"Kenny McCormick\" from the `south_park_characters` list using the `remove()` function.\n",
        "\n",
        "### 6. Popping a Character:\n",
        "\n",
        "- Remove and retrieve the last character from the `south_park_characters` list using the `pop()` function.\n",
        "\n",
        "By practicing these operations, you'll become familiar with creating, modifying, and manipulating lists effectively.\n",
        "\n"
      ],
      "metadata": {
        "id": "v2nhwXLhhypK"
      }
    },
    {
      "cell_type": "code",
      "source": [
        "# 1"
      ],
      "metadata": {
        "id": "8elmJNU9i8C1"
      },
      "execution_count": null,
      "outputs": []
    },
    {
      "cell_type": "code",
      "source": [
        "# 2"
      ],
      "metadata": {
        "id": "eJbh12BQi8MM"
      },
      "execution_count": null,
      "outputs": []
    },
    {
      "cell_type": "code",
      "source": [
        "# 3"
      ],
      "metadata": {
        "id": "kXXIb1W7i8U0"
      },
      "execution_count": null,
      "outputs": []
    },
    {
      "cell_type": "code",
      "source": [
        "# 4"
      ],
      "metadata": {
        "id": "FrS-ew1Ti8lh"
      },
      "execution_count": null,
      "outputs": []
    },
    {
      "cell_type": "code",
      "source": [
        "# 5"
      ],
      "metadata": {
        "id": "bcBkg9Eki8uC"
      },
      "execution_count": null,
      "outputs": []
    },
    {
      "cell_type": "code",
      "execution_count": null,
      "metadata": {
        "id": "4y1TOV_p8BtG"
      },
      "outputs": [],
      "source": [
        "# 6"
      ]
    },
    {
      "cell_type": "code",
      "source": [],
      "metadata": {
        "id": "e9lZb_iv8zfo"
      },
      "execution_count": null,
      "outputs": []
    },
    {
      "cell_type": "markdown",
      "source": [
        "# example solutions \n",
        "\n",
        "\n",
        "---\n",
        "\n"
      ],
      "metadata": {
        "id": "fqCdOawei_T9"
      }
    },
    {
      "cell_type": "code",
      "source": [
        "# Exercise 1: Creating a List of South Park Characters\n",
        "south_park_characters = []\n",
        "south_park_characters.append(\"Stan Marsh\")\n",
        "south_park_characters.append(\"Kyle Broflovski\")\n",
        "south_park_characters.append(\"Eric Cartman\")\n",
        "print(south_park_characters)\n",
        "\n",
        "# Exercise 2: Appending a New Character\n",
        "south_park_characters.append(\"Kenny McCormick\")\n",
        "print(south_park_characters)\n",
        "\n",
        "# Exercise 3: Inserting a Character at a Specific Position\n",
        "south_park_characters.insert(1, \"Butters Stotch\")\n",
        "print(south_park_characters)\n",
        "\n",
        "# Exercise 4: Modifying a Character's Name\n",
        "south_park_characters[2] = \"Randy Marsh\"\n",
        "print(south_park_characters)\n",
        "\n",
        "# Exercise 5: Removing a Character\n",
        "south_park_characters.remove(\"Butters Stotch\")\n",
        "print(south_park_characters)\n",
        "\n",
        "# Exercise 6: Popping a Character\n",
        "popped_character = south_park_characters.pop()\n",
        "\n",
        "# Print the character that was popped\n",
        "print(\"Popped Character:\", popped_character)\n",
        "\n",
        "# Print the final list of South Park characters\n",
        "print(\"final list of characters:\",south_park_characters)\n",
        "\n",
        "\n"
      ],
      "metadata": {
        "id": "WG1ZjlakjGgG"
      },
      "execution_count": null,
      "outputs": []
    }
  ]
}