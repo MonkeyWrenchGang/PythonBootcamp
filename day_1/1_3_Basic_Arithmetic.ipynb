{
  "nbformat": 4,
  "nbformat_minor": 0,
  "metadata": {
    "colab": {
      "provenance": [],
      "authorship_tag": "ABX9TyOhuaKHPob51t2Gp4fVwkxi",
      "include_colab_link": true
    },
    "kernelspec": {
      "name": "python3",
      "display_name": "Python 3"
    },
    "language_info": {
      "name": "python"
    }
  },
  "cells": [
    {
      "cell_type": "markdown",
      "metadata": {
        "id": "view-in-github",
        "colab_type": "text"
      },
      "source": [
        "<a href=\"https://colab.research.google.com/github/MonkeyWrenchGang/MGTPython/blob/main/day_1/1_3_Basic_Arithmetic.ipynb\" target=\"_parent\"><img src=\"https://colab.research.google.com/assets/colab-badge.svg\" alt=\"Open In Colab\"/></a>"
      ]
    },
    {
      "cell_type": "markdown",
      "source": [
        "# Arithmetic Operations\n",
        "\n",
        "---\n",
        "\n",
        "In this code snippet, we perform various arithmetic operations:\n",
        "\n",
        "- Addition: 5 + 3\n",
        "- Subtraction: 10 - 2\n",
        "- Multiplication: 4 * 5\n",
        "- Division: 15 / 3\n",
        "- Exponentiation: 2 ** 3\n",
        "- Modulo: 10 % 3\n",
        "\n",
        "The results of each operation are stored in different variables `(x, y, z, a, b, c)` and then printed using the `print()` function.\n"
      ],
      "metadata": {
        "id": "M2vu06TDgkiI"
      }
    },
    {
      "cell_type": "code",
      "execution_count": 1,
      "metadata": {
        "colab": {
          "base_uri": "https://localhost:8080/"
        },
        "id": "ZzsUk6BXgWz5",
        "outputId": "0e4816ca-5833-438d-d037-d7e26a678522"
      },
      "outputs": [
        {
          "output_type": "stream",
          "name": "stdout",
          "text": [
            "Addition: 8\n",
            "Subtraction: 8\n",
            "Multiplication: 20\n",
            "Division: 5.0\n",
            "Exponentiation: 8\n",
            "Modulo: 1\n"
          ]
        }
      ],
      "source": [
        "\n",
        "\n",
        "# Addition\n",
        "x = 5 + 3\n",
        "print(\"Addition:\", x)  # Output: 8\n",
        "\n",
        "# Subtraction\n",
        "y = 10 - 2\n",
        "print(\"Subtraction:\", y)  # Output: 8\n",
        "\n",
        "# Multiplication\n",
        "z = 4 * 5\n",
        "print(\"Multiplication:\", z)  # Output: 20\n",
        "\n",
        "# Division\n",
        "a = 15 / 3\n",
        "print(\"Division:\", a)  # Output: 5.0\n",
        "\n",
        "# Exponentiation\n",
        "b = 2 ** 3\n",
        "print(\"Exponentiation:\", b)  # Output: 8\n",
        "\n",
        "# Modulo\n",
        "c = 10 % 3\n",
        "print(\"Modulo:\", c)  # Output: 1\n"
      ]
    },
    {
      "cell_type": "markdown",
      "source": [
        "# Type Conversion\n",
        "\n",
        "\n",
        "---\n",
        "\n"
      ],
      "metadata": {
        "id": "Qu71UhhvhNDZ"
      }
    },
    {
      "cell_type": "code",
      "source": [
        "\n",
        "\n",
        "# Integer to float\n",
        "x = 5\n",
        "float_x = float(x)\n",
        "print(\"Integer to float  :\", float_x)  # Output: 5.0\n",
        "\n",
        "# Float to integer\n",
        "y = 3.14\n",
        "int_y = int(y)\n",
        "print(\"Float to integer  :\", int_y)  # Output: 3\n",
        "\n",
        "\n",
        "# String to Integer\n",
        "z = \"50\"\n",
        "int_z = int(z)\n",
        "print(\"String to Integer :\", int_z )  # Output: 50\n",
        "\n",
        "# String to Float\n",
        "a = \"5.123\"\n",
        "float_a = float(a)\n",
        "print(\"String to Float :\", float_a )  # Output: 5.123"
      ],
      "metadata": {
        "colab": {
          "base_uri": "https://localhost:8080/"
        },
        "id": "tqwMZ67YhNRf",
        "outputId": "07772c99-cde9-4ed3-ebff-e35709036436"
      },
      "execution_count": 6,
      "outputs": [
        {
          "output_type": "stream",
          "name": "stdout",
          "text": [
            "Integer to float  : 5.0\n",
            "Float to integer  : 3\n",
            "String to Integer : 50\n",
            "String to Float : 5.123\n"
          ]
        }
      ]
    },
    {
      "cell_type": "code",
      "source": [
        "# String-Float to Int = Error\n",
        "a = \"5.123\"\n",
        "float_a = int(a)\n",
        "print(\"String-Float  to Integer:\", float_a )  # Output: Error"
      ],
      "metadata": {
        "colab": {
          "base_uri": "https://localhost:8080/",
          "height": 221
        },
        "id": "0QOwXSHthsw3",
        "outputId": "7d94a5ab-f540-48f3-b58c-c66405ef669d"
      },
      "execution_count": 7,
      "outputs": [
        {
          "output_type": "error",
          "ename": "ValueError",
          "evalue": "ignored",
          "traceback": [
            "\u001b[0;31m---------------------------------------------------------------------------\u001b[0m",
            "\u001b[0;31mValueError\u001b[0m                                Traceback (most recent call last)",
            "\u001b[0;32m<ipython-input-7-03e67caaa244>\u001b[0m in \u001b[0;36m<cell line: 3>\u001b[0;34m()\u001b[0m\n\u001b[1;32m      1\u001b[0m \u001b[0;31m# String-Float to Int = Error\u001b[0m\u001b[0;34m\u001b[0m\u001b[0;34m\u001b[0m\u001b[0m\n\u001b[1;32m      2\u001b[0m \u001b[0ma\u001b[0m \u001b[0;34m=\u001b[0m \u001b[0;34m\"5.123\"\u001b[0m\u001b[0;34m\u001b[0m\u001b[0;34m\u001b[0m\u001b[0m\n\u001b[0;32m----> 3\u001b[0;31m \u001b[0mfloat_a\u001b[0m \u001b[0;34m=\u001b[0m \u001b[0mint\u001b[0m\u001b[0;34m(\u001b[0m\u001b[0ma\u001b[0m\u001b[0;34m)\u001b[0m\u001b[0;34m\u001b[0m\u001b[0;34m\u001b[0m\u001b[0m\n\u001b[0m\u001b[1;32m      4\u001b[0m \u001b[0mprint\u001b[0m\u001b[0;34m(\u001b[0m\u001b[0;34m\"String to Float :\"\u001b[0m\u001b[0;34m,\u001b[0m \u001b[0mfloat_a\u001b[0m \u001b[0;34m)\u001b[0m  \u001b[0;31m# Output: 5.123\u001b[0m\u001b[0;34m\u001b[0m\u001b[0;34m\u001b[0m\u001b[0m\n",
            "\u001b[0;31mValueError\u001b[0m: invalid literal for int() with base 10: '5.123'"
          ]
        }
      ]
    }
  ]
}