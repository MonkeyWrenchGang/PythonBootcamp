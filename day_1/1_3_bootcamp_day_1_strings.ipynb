{
  "nbformat": 4,
  "nbformat_minor": 0,
  "metadata": {
    "colab": {
      "provenance": [],
      "authorship_tag": "ABX9TyPbr+3eXxG4+iJgUBdGThkY",
      "include_colab_link": true
    },
    "kernelspec": {
      "name": "python3",
      "display_name": "Python 3"
    },
    "language_info": {
      "name": "python"
    }
  },
  "cells": [
    {
      "cell_type": "markdown",
      "metadata": {
        "id": "view-in-github",
        "colab_type": "text"
      },
      "source": [
        "<a href=\"https://colab.research.google.com/github/MonkeyWrenchGang/PythonBootcamp/blob/main/day_1/1_3_bootcamp_day_1_strings.ipynb\" target=\"_parent\"><img src=\"https://colab.research.google.com/assets/colab-badge.svg\" alt=\"Open In Colab\"/></a>"
      ]
    },
    {
      "cell_type": "markdown",
      "source": [
        "# All about Strings\n",
        "\n",
        "---\n",
        "\n",
        "Strings are a fundamental data type in Python. They represent sequences of characters enclosed in single quotes `('')` or double quotes `(\"\")`. \n",
        "\n",
        "Examples: \"Hello\", 'Python', \"123\"\n",
        "\n",
        "---\n",
        "\n",
        "In this notebook, we will explore various aspects of working with strings in Python. Strings offer a wide range of functionalities and operations that enable us to manipulate and analyze text data effectively.\n",
        "\n",
        "Throughout this notebook, we will cover the following topics:\n",
        "\n",
        "1. Creating and Initializing Strings\n",
        "2. String Manipulation: Concatenation, Slicing, and Formatting\n",
        "3. String Methods: Common Operations and Transformations\n",
        "\n",
        "---\n",
        "\n",
        "## String Methods\n",
        "\n",
        "Python provides a set of built-in string methods that allow us to perform common operations and transformations on strings. Here are some essential string methods:\n",
        "\n",
        "- `len()`: Returns the length of a string.\n",
        "- `upper()`: Converts a string to uppercase.\n",
        "- `lower()`: Converts a string to lowercase.\n",
        "- `split()`: Splits a string into a list of substrings based on a specified separator.\n",
        "- `strip()`: Removes leading and trailing whitespace characters from a string.\n",
        "\n",
        "Using these string methods, we can perform various tasks like counting the length of a string, changing the case of characters, splitting a string into parts, and removing unwanted spaces.\n",
        "\n",
        "Throughout this notebook, we will explore these string methods in detail and provide examples to demonstrate their usage and functionality.\n",
        "\n",
        "---\n",
        "\n",
        "By the end of this notebook, you will have a solid understanding of how to work with strings and leverage their power in your Python programs.\n",
        "\n",
        "Let's dive into the fascinating world of strings!\n",
        "\n",
        "\n",
        "\n"
      ],
      "metadata": {
        "id": "8JWm9Kv0ZSZv"
      }
    },
    {
      "cell_type": "markdown",
      "source": [
        "## Concatenation \n",
        "\n",
        "The `+` operator concatenates (joins) two strings together."
      ],
      "metadata": {
        "id": "6tzmKq1mZKqL"
      }
    },
    {
      "cell_type": "code",
      "execution_count": null,
      "metadata": {
        "colab": {
          "base_uri": "https://localhost:8080/"
        },
        "id": "odR3p2m-ZIVA",
        "outputId": "d7516140-a1a2-45fe-92da-11855fcd8cdc"
      },
      "outputs": [
        {
          "output_type": "stream",
          "name": "stdout",
          "text": [
            "Hello, Alice\n"
          ]
        }
      ],
      "source": [
        "greeting = \"Hello\"\n",
        "name = \"Alice\"\n",
        "message = greeting + \", \" + name\n",
        "print(message)  # Output: Hello, Alice"
      ]
    },
    {
      "cell_type": "markdown",
      "source": [
        "## Repetition\n",
        "\n",
        "The `*` operator repeats a string a specified number of times."
      ],
      "metadata": {
        "id": "e59mt-b-ZVON"
      }
    },
    {
      "cell_type": "code",
      "source": [
        "text = \"Python\"\n",
        "repeated_text = text * 3\n",
        "print(repeated_text)  # Output: PythonPythonPython\n"
      ],
      "metadata": {
        "colab": {
          "base_uri": "https://localhost:8080/"
        },
        "id": "24LnhS26ZVWj",
        "outputId": "41c50c64-2ea2-4c3e-c813-c0bc09e2e9f1"
      },
      "execution_count": null,
      "outputs": [
        {
          "output_type": "stream",
          "name": "stdout",
          "text": [
            "PythonPythonPython\n"
          ]
        }
      ]
    },
    {
      "cell_type": "markdown",
      "source": [
        "## Accessing Characters\n",
        "\n",
        "Strings are Zero [0] indexed. \n"
      ],
      "metadata": {
        "id": "wlO8P0zoZioz"
      }
    },
    {
      "cell_type": "code",
      "source": [
        "word = \"Python\"\n",
        "first_character = word[0]\n",
        "print(first_character)  # Output: P"
      ],
      "metadata": {
        "colab": {
          "base_uri": "https://localhost:8080/"
        },
        "id": "k1WKMcB1Zix6",
        "outputId": "7a1fe87e-36cb-402a-e353-9567d551bdd0"
      },
      "execution_count": null,
      "outputs": [
        {
          "output_type": "stream",
          "name": "stdout",
          "text": [
            "P\n"
          ]
        }
      ]
    },
    {
      "cell_type": "markdown",
      "source": [
        "\n",
        "## Slicing [start:end]\n"
      ],
      "metadata": {
        "id": "tvGtmBfNabl0"
      }
    },
    {
      "cell_type": "code",
      "source": [
        "phrase = \"Hello, World!\"\n",
        "substring = phrase[7:12]\n",
        "print(substring)  # Output: World"
      ],
      "metadata": {
        "colab": {
          "base_uri": "https://localhost:8080/"
        },
        "id": "y-4ZcsS5abuZ",
        "outputId": "58c188b3-72cc-4811-9af5-ae9d50c7dae4"
      },
      "execution_count": null,
      "outputs": [
        {
          "output_type": "stream",
          "name": "stdout",
          "text": [
            "World\n"
          ]
        }
      ]
    },
    {
      "cell_type": "markdown",
      "source": [
        "## String Methods \n",
        "\n",
        "\n",
        "---\n",
        "\n",
        "## String Methods\n",
        "\n",
        "Python provides a set of built-in string methods that allow us to perform common operations and transformations on strings. These methods enable us to manipulate and extract information from strings efficiently. Let's explore some of the most commonly used string methods:\n",
        "\n",
        "### `len()`\n",
        "\n",
        "The `len()` method returns the length of a string, which is the number of characters it contains. It is useful when we need to determine the size or check the length of a string.\n",
        "\n",
        "Example:\n",
        "```python\n",
        "text = \"Hello, world!\"\n",
        "length = len(text)\n",
        "print(length)  # Output: 13\n",
        "```\n",
        "### `upper()`\n",
        "\n",
        "The upper() method converts all characters in a string to uppercase. It is helpful when we want to standardize the case of the characters or compare strings in a case-insensitive manner.\n",
        "\n",
        "```python\n",
        "text = \"Hello, world!\"\n",
        "uppercase_text = text.upper()\n",
        "print(uppercase_text)  # Output: HELLO, WORLD!\n",
        "\n",
        "```\n",
        "### `lower()`\n",
        "The lower() method converts all characters in a string to lowercase. It is useful when we want to standardize the case of the characters or perform case-insensitive operations.\n",
        "\n",
        "```python\n",
        "text = \"Hello, world!\"\n",
        "lowercase_text = text.lower()\n",
        "print(lowercase_text)  # Output: hello, world!\n",
        "\n",
        "```\n",
        "### `split()`\n",
        "The split() method splits a string into a **list of substrings** based on a specified separator. It is helpful when we want to separate a string into meaningful parts or extract specific information.\n",
        "\n",
        "```python\n",
        "text = \"Hello, world!\"\n",
        "words = text.split()\n",
        "print(words)  # Output: ['Hello,', 'world!']\n",
        "```\n",
        "\n",
        "### `strip()`\n",
        "The strip() method removes leading and trailing whitespace characters from a string. It is useful when we want to clean up input data by removing unwanted spaces before or after the text.\n",
        "\n",
        "```python\n",
        "text = \"   Hello, world!   \"\n",
        "clean_text = text.strip()\n",
        "print(clean_text)  # Output: \"Hello, world!\"\n",
        "```\n"
      ],
      "metadata": {
        "id": "1HrnbcEOa5vh"
      }
    },
    {
      "cell_type": "markdown",
      "source": [
        "Let's see it in action."
      ],
      "metadata": {
        "id": "6JudKTf0q7Ce"
      }
    },
    {
      "cell_type": "code",
      "source": [
        "text = \"   Python is Fun!   \"\n",
        "print(len(text))            # Output: 20\n",
        "print(text.lower())         # Output:    python is fun!\n",
        "print(text.upper())         # Output:    PYTHON IS FUN!\n",
        "print(text.split())         # Output: ['Python', 'is', 'Fun!']\n",
        "print(text.strip())         # Output: Python is Fun!\n"
      ],
      "metadata": {
        "colab": {
          "base_uri": "https://localhost:8080/"
        },
        "id": "UEYnpeVybJGj",
        "outputId": "94d85bf2-7284-41df-ef0c-48a980505f39"
      },
      "execution_count": null,
      "outputs": [
        {
          "output_type": "stream",
          "name": "stdout",
          "text": [
            "20\n",
            "   python is fun!   \n",
            "   PYTHON IS FUN!   \n",
            "['Python', 'is', 'Fun!']\n",
            "Python is Fun!\n"
          ]
        }
      ]
    },
    {
      "cell_type": "markdown",
      "source": [
        "# Exercises\n",
        "\n",
        "Here are 5 exercises related to the string methods len(), upper(), lower(), split(), and strip():\n",
        "\n",
        "## Exercise 1: Character Counter\n",
        "\n",
        "Write a program that prompts the user to enter a string and uses the len() method to count and display the number of characters in the string.\n",
        "\n",
        "here is a starter prompt.\n",
        "```python\n",
        "text = input(\"Enter a string: \")\n",
        "# do something\n",
        "print(\"Uppercase version of the string:\", text_len)\n",
        "```\n"
      ],
      "metadata": {
        "id": "nwLbidAqrKLt"
      }
    },
    {
      "cell_type": "code",
      "source": [
        "# ex 1."
      ],
      "metadata": {
        "id": "JSAmgrpOrRL9"
      },
      "execution_count": null,
      "outputs": []
    },
    {
      "cell_type": "markdown",
      "source": [
        "## Exercise 2: Uppercase Converter\n",
        "\n",
        "Write a program that prompts the user to enter a string and uses the upper() method to convert the string to uppercase. Display the uppercase version of the string.\n",
        "\n",
        "here is a starter prompt.\n",
        "```python\n",
        "text = input(\"Enter a string: \")\n",
        "# do something:\n",
        "print(\"Uppercase version of the string:\", uppercase_text)\n",
        "```"
      ],
      "metadata": {
        "id": "gZVDjTHZrcLa"
      }
    },
    {
      "cell_type": "code",
      "source": [],
      "metadata": {
        "id": "EphQMs1qrtFc"
      },
      "execution_count": null,
      "outputs": []
    },
    {
      "cell_type": "markdown",
      "source": [
        "## Exercise 3: Lowercase Converter\n",
        "\n",
        "Write a program that prompts the user to enter a string and uses the lower() method to convert the string to lowercase. Display the lowercase version of the string.\n",
        "\n",
        "here is a starter prompt.\n",
        "```python\n",
        "text = input(\"Enter a string: \")\n",
        "# do something:\n",
        "print(\"Lowercase version of the string:\", lowercase_text)\n",
        "```"
      ],
      "metadata": {
        "id": "sdF7zWevrsgc"
      }
    },
    {
      "cell_type": "code",
      "source": [],
      "metadata": {
        "id": "abCdSUaUr1Zc"
      },
      "execution_count": null,
      "outputs": []
    },
    {
      "cell_type": "markdown",
      "source": [
        "### Exercise 4: Word Splitter\n",
        "\n",
        "Write a program that prompts the user to enter a sentence and uses the split() method to split the sentence into individual words. Display the list of words.\n",
        "\n",
        "```python\n",
        "sentence = input(\"Enter a sentence: \")\n",
        "# do something \n",
        "print(\"List of words:\", words)\n",
        "```"
      ],
      "metadata": {
        "id": "ES8Utg3jr1jY"
      }
    },
    {
      "cell_type": "code",
      "source": [],
      "metadata": {
        "id": "5L6air5hsAod"
      },
      "execution_count": null,
      "outputs": []
    },
    {
      "cell_type": "markdown",
      "source": [
        "### Exercise 5: Text Cleaner\n",
        "\n",
        "Write a program that prompts the user to enter a string with leading and trailing spaces, and uses the strip() method to remove the extra spaces. Display the cleaned version of the string.\n",
        "\n",
        "```python\n",
        "text = input(\"Enter a string with leading and trailing spaces: \")\n",
        "# do something \n",
        "print(\"Cleaned version of the string:\", clean_text)\n",
        "```"
      ],
      "metadata": {
        "id": "-uGbERMNsAzb"
      }
    },
    {
      "cell_type": "code",
      "source": [],
      "metadata": {
        "id": "a3kRfgecsIeW"
      },
      "execution_count": null,
      "outputs": []
    },
    {
      "cell_type": "markdown",
      "source": [
        "Sample solutions: \n"
      ],
      "metadata": {
        "id": "A0FEoL3CsI2R"
      }
    },
    {
      "cell_type": "code",
      "source": [
        "text = input(\"Enter a string: \")\n",
        "length = len(text)\n",
        "print(\"The number of characters in the string:\", length)\n",
        "\n",
        "text = input(\"Enter a string: \")\n",
        "uppercase_text = text.upper()\n",
        "print(\"Uppercase version of the string:\", uppercase_text)\n",
        "\n",
        "text = input(\"Enter a string: \")\n",
        "lowercase_text = text.lower()\n",
        "print(\"Lowercase version of the string:\", lowercase_text)\n",
        "\n",
        "sentence = input(\"Enter a sentence: \")\n",
        "words = sentence.split()\n",
        "print(\"List of words:\", words)\n",
        "\n",
        "text = input(\"Enter a string with leading and trailing spaces: \")\n",
        "clean_text = text.strip()\n",
        "print(\"Cleaned version of the string:\", clean_text)\n"
      ],
      "metadata": {
        "id": "j6U6iABUsKqa"
      },
      "execution_count": null,
      "outputs": []
    }
  ]
}