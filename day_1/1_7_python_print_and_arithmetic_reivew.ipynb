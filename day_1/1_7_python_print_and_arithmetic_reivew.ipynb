{
  "nbformat": 4,
  "nbformat_minor": 0,
  "metadata": {
    "colab": {
      "provenance": [],
      "authorship_tag": "ABX9TyMzDJFGMm8DeZu+E+R3FN5n",
      "include_colab_link": true
    },
    "kernelspec": {
      "name": "python3",
      "display_name": "Python 3"
    },
    "language_info": {
      "name": "python"
    }
  },
  "cells": [
    {
      "cell_type": "markdown",
      "metadata": {
        "id": "view-in-github",
        "colab_type": "text"
      },
      "source": [
        "<a href=\"https://colab.research.google.com/github/MonkeyWrenchGang/PythonBootcamp/blob/main/day_1/1_7_python_print_and_arithmetic_reivew.ipynb\" target=\"_parent\"><img src=\"https://colab.research.google.com/assets/colab-badge.svg\" alt=\"Open In Colab\"/></a>"
      ]
    },
    {
      "cell_type": "markdown",
      "source": [
        "# Printing\n",
        "\n",
        "\n",
        "---\n",
        "\n",
        "\n",
        "One of the fundamental tasks in programming is to instruct a computer to print a message. In Python, this can be accomplished using the print() function. By placing the desired message inside the parentheses and enclosing it in quotation marks, we can prompt the computer to display the message on the screen.\n",
        "\n",
        "For example, let's consider the code snippet below, where we instruct the computer to print the message `\"Hello, world!\"`:"
      ],
      "metadata": {
        "id": "A-zve0OczyCf"
      }
    },
    {
      "cell_type": "code",
      "execution_count": null,
      "metadata": {
        "colab": {
          "base_uri": "https://localhost:8080/"
        },
        "id": "Prf657zOzpeX",
        "outputId": "a3fc170c-2a05-4663-ffc1-59add70ddd48"
      },
      "outputs": [
        {
          "output_type": "stream",
          "name": "stdout",
          "text": [
            "Hello, world!\n"
          ]
        }
      ],
      "source": [
        "print(\"Hello, world!\")"
      ]
    },
    {
      "cell_type": "markdown",
      "source": [
        "When you run this code, the computer will execute the print() function and display the message \"Hello, world!\" in the console.\n",
        "\n",
        "Printing messages is a basic yet vital aspect of programming, serving as a starting point for various tasks and programs."
      ],
      "metadata": {
        "id": "lTQyJ7850FSw"
      }
    },
    {
      "cell_type": "markdown",
      "source": [
        "# Code Cells and Output\n",
        "\n",
        "\n",
        "---\n",
        "\n",
        "Notebook have code and text (markdown) cells where we write code and text. When we write code and run it  below each code cell, we find the computer's response, also known as the output of the code. This setup allows us to observe the execution of the code and its corresponding output.\n",
        "\n",
        "Let's take a look at an example. In the following code cell, we perform an arithmetic operation, specifically addition, by adding 8 to 15. The resulting value, which is 23, is then printed as the output. It's worth noting that unlike when printing text, we don't enclose the numerical value in quotation marks."
      ],
      "metadata": {
        "id": "xyWR8kSm0Vfe"
      }
    },
    {
      "cell_type": "code",
      "source": [
        "print(8 + 15)"
      ],
      "metadata": {
        "colab": {
          "base_uri": "https://localhost:8080/"
        },
        "id": "Sr8pgHRc0Fbn",
        "outputId": "945b1017-18ea-4ca7-c222-4959b4e19b4f"
      },
      "execution_count": null,
      "outputs": [
        {
          "output_type": "stream",
          "name": "stdout",
          "text": [
            "23\n"
          ]
        }
      ]
    },
    {
      "cell_type": "markdown",
      "source": [
        "## Dynamic Typing in Python\n",
        "\n",
        "Python, unlike some other programming languages, employs dynamic typing. This means that the data type of a variable is determined during runtime, based on the value assigned to it.\n",
        "\n",
        "For instance, consider the following code snippet:\n"
      ],
      "metadata": {
        "id": "HUv9_hr403L_"
      }
    },
    {
      "cell_type": "code",
      "source": [
        "result = 15 + 9\n",
        "print(result)"
      ],
      "metadata": {
        "colab": {
          "base_uri": "https://localhost:8080/"
        },
        "id": "PmfN3iaV1KDR",
        "outputId": "2c3ab7de-c17f-49a8-db9c-b83d155f9201"
      },
      "execution_count": null,
      "outputs": [
        {
          "output_type": "stream",
          "name": "stdout",
          "text": [
            "24\n"
          ]
        }
      ]
    },
    {
      "cell_type": "markdown",
      "source": [
        "## Arithmetic Operations\n",
        "\n",
        "Here's a Markdown table showcasing different arithmetic operations in Python along with an example:\n",
        "\n",
        "| Operation   | Symbol | Example              |\n",
        "|-------------|--------|----------------------|\n",
        "| Addition    | +      | 2 + 3 = 5            |\n",
        "| Subtraction | -      | 5 - 2 = 3            |\n",
        "| Multiplication | *  | 2 * 3 = 6            |\n",
        "| Division    | /      | 10 / 5 = 2           |\n",
        "| Floor Division | // | 10 // 3 = 3          |\n",
        "| Exponentiation | ** | 2 ** 3 = 8           |\n",
        "| Modulo      | %      | 10 % 3 = 1           |\n",
        "\n",
        "And of course, you can control the order of operations in long calculations with parentheses. Python follows the PEMDAS rule when deciding the order of operations.\n",
        "\n"
      ],
      "metadata": {
        "id": "BfktQ3011U_w"
      }
    },
    {
      "cell_type": "code",
      "source": [
        "# Calculate the average of three exam scores with weighted percentages\n",
        "exam1 = 85\n",
        "exam2 = 90\n",
        "exam3 = 92\n",
        "\n",
        "weight1 = 0.4\n",
        "weight2 = 0.4\n",
        "weight3 = 0.2\n",
        "\n",
        "# Calculate the weighted average using parentheses to control the order of operations\n",
        "weighted_average = (exam1 * weight1) + (exam2 * weight2) + (exam3 * weight3)\n",
        "\n",
        "# Print the result\n",
        "print(\"Weighted Average:\", weighted_average)\n"
      ],
      "metadata": {
        "colab": {
          "base_uri": "https://localhost:8080/"
        },
        "id": "KoWWh86j1VKL",
        "outputId": "cb20db6d-bcf1-4f90-b1ba-2bb967ccfe3b"
      },
      "execution_count": null,
      "outputs": [
        {
          "output_type": "stream",
          "name": "stdout",
          "text": [
            "Weighted Average: 88.4\n"
          ]
        }
      ]
    },
    {
      "cell_type": "markdown",
      "source": [
        "\n",
        "\n",
        "## Using Comments to Annotate Code\n",
        "\n",
        "Comments are  annotations that provide explanations and context for your code. They serve multiple purposes, including aiding other people in understanding your code and helping you remember the intention behind your code when revisiting it after a period of time. While our current code is concise, comments become even more crucial as your code complexity increases .\n",
        "\n",
        "A good example of commenting code is when you have a complex algorithm or a piece of code that performs a non-obvious task. Here's an example:"
      ],
      "metadata": {
        "id": "2MmplQp98Zak"
      }
    },
    {
      "cell_type": "code",
      "source": [
        "# Generate Fibonacci sequence\n",
        "def fibonacci(n):\n",
        "    # Check if n is less than or equal to 0\n",
        "    if n <= 0:\n",
        "        return []\n",
        "\n",
        "    # Create a list to store the Fibonacci sequence\n",
        "    sequence = [0, 1]\n",
        "\n",
        "    # Generate Fibonacci sequence up to n\n",
        "    while len(sequence) < n:\n",
        "        next_num = sequence[-1] + sequence[-2]\n",
        "        sequence.append(next_num)\n",
        "\n",
        "    # Return the generated Fibonacci sequence\n",
        "    return sequence\n",
        "\n",
        "# Get Fibonacci sequence up to the 10th number\n",
        "fib_sequence = fibonacci(10)\n",
        "\n",
        "# Print the Fibonacci sequence\n",
        "print(fib_sequence)\n"
      ],
      "metadata": {
        "colab": {
          "base_uri": "https://localhost:8080/"
        },
        "id": "kl3kUs_V8ZnU",
        "outputId": "66865c73-fc1c-4258-9b22-08c6c884d10a"
      },
      "execution_count": null,
      "outputs": [
        {
          "output_type": "stream",
          "name": "stdout",
          "text": [
            "[0, 1, 1, 2, 3, 5, 8, 13, 21, 34]\n"
          ]
        }
      ]
    },
    {
      "cell_type": "markdown",
      "source": [
        "## Commenting Code in Python\n",
        "\n",
        "In Python, you can indicate that a line is a comment by using the pound sign (#) as the first character on that line.\n",
        "\n",
        "When Python encounters a line starting with a pound sign, it recognizes it as a **comment and ignores it** during execution. This is crucial because Python follows strict rules, just like any language, and any code that doesn't adhere to these rules will result in errors."
      ],
      "metadata": {
        "id": "HkxEda5b9F7h"
      }
    },
    {
      "cell_type": "code",
      "source": [
        "Multiply 5 by 6"
      ],
      "metadata": {
        "colab": {
          "base_uri": "https://localhost:8080/",
          "height": 132
        },
        "id": "6SlY-Avg9GFu",
        "outputId": "5f8b25dd-7f67-444c-a173-c73d9ecd6467"
      },
      "execution_count": null,
      "outputs": [
        {
          "output_type": "error",
          "ename": "SyntaxError",
          "evalue": "ignored",
          "traceback": [
            "\u001b[0;36m  File \u001b[0;32m\"<ipython-input-8-f89b707094c6>\"\u001b[0;36m, line \u001b[0;32m1\u001b[0m\n\u001b[0;31m    Multiply 5 by 6\u001b[0m\n\u001b[0m             ^\u001b[0m\n\u001b[0;31mSyntaxError\u001b[0m\u001b[0;31m:\u001b[0m invalid syntax\n"
          ]
        }
      ]
    },
    {
      "cell_type": "markdown",
      "source": [
        "## Working with Variables\n",
        "\n",
        "\n",
        "---\n",
        "\n",
        "\n",
        "When programming, variables allow us to store and manipulate data for later use. You can assign values to variables and perform operations on them. Let's explore how to create and work with variables in Python:\n"
      ],
      "metadata": {
        "id": "G51kb-BA9WQD"
      }
    },
    {
      "cell_type": "code",
      "source": [
        "# Create a variable called test_var and give it a value of 4*5\n",
        "test_var = 4 * 5\n",
        "\n",
        "# Print the value of test_var\n",
        "print(test_var)"
      ],
      "metadata": {
        "colab": {
          "base_uri": "https://localhost:8080/"
        },
        "id": "hQHQ3Cgy9gho",
        "outputId": "df012f51-0efa-4be0-ed56-a2087715270c"
      },
      "execution_count": null,
      "outputs": [
        {
          "output_type": "stream",
          "name": "stdout",
          "text": [
            "20\n"
          ]
        }
      ]
    },
    {
      "cell_type": "markdown",
      "source": [
        "## Working with Variables\n",
        "\n",
        "To work with a variable in Python, you need to follow certain guidelines and conventions. Here's a breakdown of the process:\n",
        "\n",
        "1. Variable Naming:\n",
        "   - Select a name that is both concise and descriptive. This helps in understanding the purpose and contents of the variable.\n",
        "   - Variable names cannot contain spaces. For example, \"test var\" is not allowed.\n",
        "   - Variable names can only consist of letters, numbers, and underscores. Special characters like exclamation marks or punctuation are not permitted. For instance, \"test_var!\" is not allowed.\n",
        "   - Variable names must begin with a letter or an underscore. They cannot start with a number. For example, \"1_var\" is not allowed.\n",
        "\n",
        "2. Creating a Variable:\n",
        "   - To create a variable, you use the assignment operator `=` to assign a desired value to it.\n",
        "\n",
        "3. Viewing Variable Values:\n",
        "   - You can examine the value assigned to a variable by using the `print()` function and passing the variable name as an argument.\n",
        "\n",
        "As you gain experience, you'll become more proficient in selecting meaningful and appropriate names for your Python variables. Initially, it may feel uncomfortable, but exposure to different Python code will help you improve your naming skills.\n",
        "\n",
        "Remember, variables are used for storing and manipulating data, and choosing appropriate names contributes to code readability and maintainability.\n",
        "\n",
        "### Manipulating Variables\n",
        "In Python, you have the flexibility to change the value assigned to a variable by reassigning a new value to it. This allows you to update and manipulate variables as needed.\n",
        "\n",
        "Consider the following code cell where we change the value of a variable named my_var from 3 to 100:\n"
      ],
      "metadata": {
        "id": "FvfmTXRu9-8f"
      }
    },
    {
      "cell_type": "code",
      "source": [
        "my_var = 3\n",
        "print(my_var)\n",
        "my_var = 100\n",
        "print(my_var)"
      ],
      "metadata": {
        "colab": {
          "base_uri": "https://localhost:8080/"
        },
        "id": "I8PWhvgh9_OM",
        "outputId": "3ced01b8-fb38-4474-dd3b-1c3d21631cd5"
      },
      "execution_count": null,
      "outputs": [
        {
          "output_type": "stream",
          "name": "stdout",
          "text": [
            "3\n",
            "100\n"
          ]
        }
      ]
    },
    {
      "cell_type": "markdown",
      "source": [
        "In this example, we initially assign the value 3 to the variable my_var. However, we then update its value by assigning 100 to my_var. This operation overrides the previous value of my_var with the new value 100."
      ],
      "metadata": {
        "id": "P63nSSeK-ZCO"
      }
    },
    {
      "cell_type": "markdown",
      "source": [
        "NOTE: Whenever you define a variable in one code cell, all of the code cells that follow also have access to the variable. \n",
        "\n",
        "For instance, we use the next code cell to access the values of my_var (from the code cell above) and test_var (from earlier in this tutorial)."
      ],
      "metadata": {
        "id": "qcnh2_Ou-abU"
      }
    },
    {
      "cell_type": "code",
      "source": [
        "print(my_var)\n",
        "print(test_var)"
      ],
      "metadata": {
        "colab": {
          "base_uri": "https://localhost:8080/"
        },
        "id": "Rtipzxea-ZxH",
        "outputId": "ccefe093-d7bd-4976-ea06-6ecc0bf590d2"
      },
      "execution_count": null,
      "outputs": [
        {
          "output_type": "stream",
          "name": "stdout",
          "text": [
            "100\n",
            "20\n"
          ]
        }
      ]
    },
    {
      "cell_type": "markdown",
      "source": [
        "## Working with Multiple Variables\n",
        "\n",
        "In python, it's common to work with multiple variables, particularly when performing complex calculations that involve multiple inputs. This approach allows us to break down the problem into smaller parts and make our code more readable and manageable.\n",
        "\n",
        "Let's consider the following example where we calculate the number of seconds in four years using five inputs:"
      ],
      "metadata": {
        "id": "PySyIuzf-Z8F"
      }
    },
    {
      "cell_type": "code",
      "source": [
        "seconds_per_minute = 60\n",
        "minutes_per_hour = 60\n",
        "hours_per_day = 24\n",
        "days_per_year = 365\n",
        "years = 4\n",
        "\n",
        "seconds_in_four_years = seconds_per_minute * minutes_per_hour * hours_per_day * days_per_year * years\n",
        "print(seconds_in_four_years)"
      ],
      "metadata": {
        "colab": {
          "base_uri": "https://localhost:8080/"
        },
        "id": "1M2trMS6-2gc",
        "outputId": "f75bd7e5-3e23-474f-ee0e-887d169bd69e"
      },
      "execution_count": null,
      "outputs": [
        {
          "output_type": "stream",
          "name": "stdout",
          "text": [
            "126144000\n"
          ]
        }
      ]
    },
    {
      "cell_type": "markdown",
      "source": [
        "### What about leap years? \n",
        "\n",
        "> FUNFACT: The Gregorian calendar, introduced by Pope Gregory XIII in 1582, established rules to ensure the synchronization of the calendar year with the solar year, which is approximately 365.2425 days long. According to the Gregorian calendar rules:\n",
        "\n",
        "1. A year is a leap year if it is evenly divisible by 4.\n",
        "2. However, if a year is evenly divisible by 100, it is not a leap year, unless...\n",
        "3. If a year is evenly divisible by 400, it is a leap year.\n",
        "\n",
        "These rules help to account for the slight discrepancy between the calendar year and the time it takes for the Earth to complete one orbit around the Sun.\n",
        "\n"
      ],
      "metadata": {
        "id": "pVVICMzA_FZk"
      }
    },
    {
      "cell_type": "code",
      "source": [
        "# Update to include leap years\n",
        "days_per_year = 365.25\n",
        "\n",
        "# Calculate number of seconds in four years\n",
        "seconds_in_four_years = seconds_per_minute * minutes_per_hour * hours_per_day * days_per_year * years\n",
        "print(seconds_in_four_years)"
      ],
      "metadata": {
        "colab": {
          "base_uri": "https://localhost:8080/"
        },
        "id": "95Tvbu-8_Fh4",
        "outputId": "9e06e478-a2d8-454d-c0c2-3a44e430754f"
      },
      "execution_count": null,
      "outputs": [
        {
          "output_type": "stream",
          "name": "stdout",
          "text": [
            "126230400.0\n"
          ]
        }
      ]
    },
    {
      "cell_type": "markdown",
      "source": [
        "> Note: You might have observed that in the second calculation, a .0 was added to the end of the resulting number, which may appear unnecessary or unexpected. This occurrence is due to the nature of the values used in the calculation.\n",
        "\n",
        "> In the first calculation, only whole numbers were multiplied together, resulting in an integer value. However, in the second calculation, a number with a fractional part (365.25) was involved. As a result, Python considers the calculation as involving floating-point numbers, which can have decimal precision.\n",
        "\n",
        "> To maintain consistency and avoid potential loss of precision, Python automatically includes the .0 at the end of the resulting number, indicating that it is a floating-point value."
      ],
      "metadata": {
        "id": "YAjOwc3f_183"
      }
    },
    {
      "cell_type": "markdown",
      "source": [
        "# Debugging\n",
        "\n",
        "\n",
        "---\n",
        "\n",
        "\n",
        "Debugging is a skill unto itself. When working with variables, it's common to encounter errors, particularly due to typographical mistakes. These errors can occur when there are typos in variable names, leading to unexpected behavior in your code. One such error is the \"NameError\" that occurs when a variable is referenced with a misspelled or undefined name.\n",
        "\n",
        "For example, consider the following code snippet:"
      ],
      "metadata": {
        "id": "dYx9kGC1_3V5"
      }
    },
    {
      "cell_type": "code",
      "source": [
        "hours_per_day = 24\n",
        "#hours_per_dae = 24  # Typo: incorrect variable name\n",
        "\n",
        "# Attempt to print the value of the misspelled variable\n",
        "print(hours_per_dae)\n"
      ],
      "metadata": {
        "colab": {
          "base_uri": "https://localhost:8080/",
          "height": 203
        },
        "id": "uPer3u76_2kq",
        "outputId": "19bb1dce-f949-4bdd-edcb-bb2ecb53d949"
      },
      "execution_count": null,
      "outputs": [
        {
          "output_type": "error",
          "ename": "NameError",
          "evalue": "ignored",
          "traceback": [
            "\u001b[0;31m---------------------------------------------------------------------------\u001b[0m",
            "\u001b[0;31mNameError\u001b[0m                                 Traceback (most recent call last)",
            "\u001b[0;32m<ipython-input-19-03360016263d>\u001b[0m in \u001b[0;36m<cell line: 5>\u001b[0;34m()\u001b[0m\n\u001b[1;32m      3\u001b[0m \u001b[0;34m\u001b[0m\u001b[0m\n\u001b[1;32m      4\u001b[0m \u001b[0;31m# Attempt to print the value of the misspelled variable\u001b[0m\u001b[0;34m\u001b[0m\u001b[0;34m\u001b[0m\u001b[0m\n\u001b[0;32m----> 5\u001b[0;31m \u001b[0mprint\u001b[0m\u001b[0;34m(\u001b[0m\u001b[0mhours_per_dae\u001b[0m\u001b[0;34m)\u001b[0m\u001b[0;34m\u001b[0m\u001b[0;34m\u001b[0m\u001b[0m\n\u001b[0m",
            "\u001b[0;31mNameError\u001b[0m: name 'hours_per_dae' is not defined"
          ]
        }
      ]
    },
    {
      "cell_type": "markdown",
      "source": [],
      "metadata": {
        "id": "G3CGFrakANKd"
      }
    },
    {
      "cell_type": "markdown",
      "source": [],
      "metadata": {
        "id": "VUnC8vonANRy"
      }
    },
    {
      "cell_type": "code",
      "source": [],
      "metadata": {
        "id": "9RzeDty0ANsp"
      },
      "execution_count": null,
      "outputs": []
    }
  ]
}