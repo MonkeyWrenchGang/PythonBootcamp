{
  "nbformat": 4,
  "nbformat_minor": 0,
  "metadata": {
    "colab": {
      "provenance": [],
      "authorship_tag": "ABX9TyNZA/IoUi8L3TmuOftmAuXj",
      "include_colab_link": true
    },
    "kernelspec": {
      "name": "python3",
      "display_name": "Python 3"
    },
    "language_info": {
      "name": "python"
    }
  },
  "cells": [
    {
      "cell_type": "markdown",
      "metadata": {
        "id": "view-in-github",
        "colab_type": "text"
      },
      "source": [
        "<a href=\"https://colab.research.google.com/github/MonkeyWrenchGang/PythonBootcamp/blob/main/day_1/1_2_Basic_Arithmetic.ipynb\" target=\"_parent\"><img src=\"https://colab.research.google.com/assets/colab-badge.svg\" alt=\"Open In Colab\"/></a>"
      ]
    },
    {
      "cell_type": "markdown",
      "source": [
        "# Arithmetic Operations\n",
        "\n",
        "---\n",
        "\n",
        "In this code snippet, we perform various arithmetic operations:\n",
        "\n",
        "- Addition: 5 + 3\n",
        "- Subtraction: 10 - 2\n",
        "- Multiplication: 4 * 5\n",
        "- Division: 15 / 3\n",
        "- Exponentiation: 2 ** 3\n",
        "- Modulo: 10 % 3\n",
        "\n",
        "The results of each operation are stored in different variables `(x, y, z, a, b, c)` and then printed using the `print()` function.\n"
      ],
      "metadata": {
        "id": "M2vu06TDgkiI"
      }
    },
    {
      "cell_type": "code",
      "execution_count": 1,
      "metadata": {
        "colab": {
          "base_uri": "https://localhost:8080/"
        },
        "id": "ZzsUk6BXgWz5",
        "outputId": "0e4816ca-5833-438d-d037-d7e26a678522"
      },
      "outputs": [
        {
          "output_type": "stream",
          "name": "stdout",
          "text": [
            "Addition: 8\n",
            "Subtraction: 8\n",
            "Multiplication: 20\n",
            "Division: 5.0\n",
            "Exponentiation: 8\n",
            "Modulo: 1\n"
          ]
        }
      ],
      "source": [
        "\n",
        "\n",
        "# Addition\n",
        "x = 5 + 3\n",
        "print(\"Addition:\", x)  # Output: 8\n",
        "\n",
        "# Subtraction\n",
        "y = 10 - 2\n",
        "print(\"Subtraction:\", y)  # Output: 8\n",
        "\n",
        "# Multiplication\n",
        "z = 4 * 5\n",
        "print(\"Multiplication:\", z)  # Output: 20\n",
        "\n",
        "# Division\n",
        "a = 15 / 3\n",
        "print(\"Division:\", a)  # Output: 5.0\n",
        "\n",
        "# Exponentiation\n",
        "b = 2 ** 3\n",
        "print(\"Exponentiation:\", b)  # Output: 8\n",
        "\n",
        "# Modulo\n",
        "c = 10 % 3\n",
        "print(\"Modulo:\", c)  # Output: 1\n"
      ]
    }
  ]
}