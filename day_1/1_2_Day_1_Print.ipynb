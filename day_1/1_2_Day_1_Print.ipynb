{
  "nbformat": 4,
  "nbformat_minor": 0,
  "metadata": {
    "colab": {
      "provenance": [],
      "authorship_tag": "ABX9TyMt1kZs6X6kZvppHmkQwVqt",
      "include_colab_link": true
    },
    "kernelspec": {
      "name": "python3",
      "display_name": "Python 3"
    },
    "language_info": {
      "name": "python"
    }
  },
  "cells": [
    {
      "cell_type": "markdown",
      "metadata": {
        "id": "view-in-github",
        "colab_type": "text"
      },
      "source": [
        "<a href=\"https://colab.research.google.com/github/MonkeyWrenchGang/PythonBootcamp/blob/main/day_1/1_2_Day_1_Print.ipynb\" target=\"_parent\"><img src=\"https://colab.research.google.com/assets/colab-badge.svg\" alt=\"Open In Colab\"/></a>"
      ]
    },
    {
      "cell_type": "markdown",
      "source": [
        "# Introduction to print\n",
        "\n",
        "\n",
        "---\n",
        "\n",
        "The print function is used to display output in Python.\n",
        "It allows you to output text, variables, and expressions to the console.\n",
        "\n",
        "Let's see it in action.. "
      ],
      "metadata": {
        "id": "ktSKXBNGiaRc"
      }
    },
    {
      "cell_type": "code",
      "execution_count": 1,
      "metadata": {
        "colab": {
          "base_uri": "https://localhost:8080/"
        },
        "id": "kG2uk-lniWoL",
        "outputId": "40d8ddd7-ed65-4ff1-b74c-e1fabf59f570"
      },
      "outputs": [
        {
          "output_type": "stream",
          "name": "stdout",
          "text": [
            "Hello, World!\n",
            "Number: 42\n",
            "Value: 3.14 PI\n",
            "Hello-World\n",
            "Hello World!\n"
          ]
        }
      ],
      "source": [
        "print(\"Hello, World!\")              # Output: Hello, World!\n",
        "print(\"Number:\", 42)                # Output: Number: 42\n",
        "print(\"Value:\", 3.14, \"PI\")         # Output: Value: 3.14 PI\n",
        "print(\"Hello\", \"World\", sep='-')    # Output: Hello-World\n",
        "print(\"Hello\", end=' ')             # Output: Hello (without newline)\n",
        "print(\"World!\")                     # Output: World! (on the same line)\n"
      ]
    }
  ]
}