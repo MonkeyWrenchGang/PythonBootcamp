{
  "nbformat": 4,
  "nbformat_minor": 0,
  "metadata": {
    "colab": {
      "provenance": [],
      "mount_file_id": "1oaI3bWBaigJVHwsWYrAM1PirRQaR5AiY",
      "authorship_tag": "ABX9TyNMrAZRGAuwsH1JxMjjNW2a",
      "include_colab_link": true
    },
    "kernelspec": {
      "name": "python3",
      "display_name": "Python 3"
    },
    "language_info": {
      "name": "python"
    }
  },
  "cells": [
    {
      "cell_type": "markdown",
      "metadata": {
        "id": "view-in-github",
        "colab_type": "text"
      },
      "source": [
        "<a href=\"https://colab.research.google.com/github/MonkeyWrenchGang/PythonBootcamp/blob/main/day_1/bootcamp_day_1_practice.ipynb\" target=\"_parent\"><img src=\"https://colab.research.google.com/assets/colab-badge.svg\" alt=\"Open In Colab\"/></a>"
      ]
    },
    {
      "cell_type": "markdown",
      "source": [
        "# Introduction to Python Variables and Operations\n",
        "\n",
        "\n",
        "---\n",
        "\n",
        "## Objective:\n",
        "In this notebook, you will work on the basics of Python variables and operations. You pratice how to assign values to variables, perform arithmetic operations, and utilize common built-in functions in Python.\n",
        "\n",
        "## Tasks:\n",
        "\n",
        "### 1. Variables and Assignments:\n",
        "- Create variables to store different types of data (strings, integers, floats).\n",
        "- Assign values to variables using the assignment operator.\n",
        "- Print the values of the variables using the `print()` function.\n",
        "\n",
        "### 2. Arithmetic Operations:\n",
        "- Perform basic arithmetic operations (addition, subtraction, multiplication, division, exponentiation) using variables.\n",
        "- Utilize the appropriate operators (`+`, `-`, `*`, `/`, `**`) for each operation.\n",
        "- Print the results of the arithmetic operations using `print()`.\n",
        "\n",
        "### 3. String Manipulation:\n",
        "- Create variables to store strings.\n",
        "- Concatenate strings using the `+` operator.\n",
        "- Use string formatting techniques to incorporate variables into strings.\n",
        "- Print the modified strings using `print()`.\n",
        "\n",
        "### 4. Built-in Functions:\n",
        "- Utilize common built-in functions in Python (e.g., `len()`, `type()`, `int()`, `float()`, `str()`).\n",
        "- Apply these functions to variables and print the results.\n",
        "\n",
        "**Bonus Task:**\n",
        "\n",
        "### 5. User Input and Conditional Statements:\n",
        "- Prompt the user to enter a number.\n",
        "- Use conditional statements (e.g., `if`, `else`) to check if the number is positive or negative.\n",
        "- Display an appropriate message based on the user's input.\n",
        "\n",
        "\n",
        "\n",
        "\n"
      ],
      "metadata": {
        "id": "03vU8Bb5Vg1h"
      }
    },
    {
      "cell_type": "markdown",
      "source": [
        "# Task 1: Creating Variables \n",
        "\n",
        "\n",
        "---\n",
        "\n",
        "In this task, we introduce the concept of variables and demonstrate how to create variables to store different types of data. We create three variables: name (string), age (integer), and height (float). Then, we assign values to these variables using the assignment operator (=). Finally, we use the `print()` function to display the values of the variables.\n",
        "\n",
        "copy and paste the following code into a code cell:\n",
        "\n",
        "```python\n",
        "# Create variables\n",
        "name = \"John Doe\"  # string variable\n",
        "age = 25  # integer variable\n",
        "height_inch = 72  # integer \n",
        "height_meters = height_inch * 0.0254\n",
        "# Print variable values\n",
        "print(\"Name:\", name)\n",
        "print(\"Age:\", age)\n",
        "print(\"Height: {} in inches\".format(height_inch))\n",
        "print(\"Height: {} in meters\".format(height_meters))\n",
        "```\n",
        "\n",
        "**Change the name name, age and height and run the code** "
      ],
      "metadata": {
        "id": "brZJE19-WIOG"
      }
    },
    {
      "cell_type": "code",
      "execution_count": null,
      "metadata": {
        "colab": {
          "base_uri": "https://localhost:8080/"
        },
        "id": "qK9CySTRVgcR",
        "outputId": "a10374f9-220d-4939-9d7e-bb1a34d13a6e"
      },
      "outputs": [
        {
          "output_type": "stream",
          "name": "stdout",
          "text": [
            "Name: John Doe\n",
            "Age: 25\n",
            "Height: 72 in inches\n",
            "Height: 1.8288 in meters\n"
          ]
        }
      ],
      "source": [
        "\n"
      ]
    },
    {
      "cell_type": "markdown",
      "source": [
        "# Task 2: Arithmetic Operations:\n",
        "\n",
        "\n",
        "---\n",
        "\n",
        "In this task, we demonstrate how to perform basic arithmetic operations using variables. We create two variables, num1 and num2, and assign them values. Then, we perform different arithmetic operations using the appropriate operators `(+, -, *, /, **)` and store the results in separate variables (result_addition, result_subtraction, etc.). Finally, we use the `print()` function to display the results of the arithmetic operations.\n",
        "\n",
        "\n",
        "- Perform basic arithmetic operations (addition, subtraction, multiplication, division, exponentiation) using variables.\n",
        "- Utilize the appropriate operators (+, -, *, /, **) for each operation.\n",
        "- Print the results of the arithmetic operations using print().\n",
        "\n",
        "copy and paste the code below: \n",
        "\n",
        "```python\n",
        "# Perform arithmetic operations\n",
        "num1 = 10\n",
        "num2 = 5\n",
        "\n",
        "# Addition\n",
        "result_addition = num1 + num2\n",
        "\n",
        "# Subtraction\n",
        "result_subtraction = num1 - num2\n",
        "\n",
        "# Multiplication\n",
        "result_multiplication = num1 * num2\n",
        "\n",
        "# Division\n",
        "result_division = num1 / num2\n",
        "\n",
        "# Exponentiation\n",
        "result_exponentiation = num1 ** num2\n",
        "\n",
        "# Modulo \n",
        "\n",
        "result_modulo = num1 % num2\n",
        "\n",
        "# Print results\n",
        "print(\"Addition:\", result_addition)\n",
        "print(\"Subtraction:\", result_subtraction)\n",
        "print(\"Multiplication:\", result_multiplication)\n",
        "print(\"Division:\", result_division)\n",
        "print(\"Exponentiation:\", result_exponentiation)\n",
        "print(\"Modulo:\", result_modulo)\n",
        "```\n",
        "\n",
        "**change num1 to 33 and num2 to 7**"
      ],
      "metadata": {
        "id": "VocGYIkyXLOp"
      }
    },
    {
      "cell_type": "code",
      "source": [],
      "metadata": {
        "colab": {
          "base_uri": "https://localhost:8080/"
        },
        "id": "J9uzkxlWXm95",
        "outputId": "ea6f9ee6-18b4-41d2-9733-6aff5d193536"
      },
      "execution_count": null,
      "outputs": [
        {
          "output_type": "stream",
          "name": "stdout",
          "text": [
            "Addition: 40\n",
            "Subtraction: 26\n",
            "Multiplication: 231\n",
            "Division: 4.714285714285714\n",
            "Exponentiation: 42618442977\n",
            "Modulo: 5\n"
          ]
        }
      ]
    },
    {
      "cell_type": "markdown",
      "source": [
        "# Task 3: String Manipulation:\n",
        "\n",
        "\n",
        "---\n",
        "In this task, we explore different techniques for manipulating strings. We create variables name and age to store string and integer values, respectively. Then, we demonstrate string concatenation using the + operator to combine strings and variables. Next, we use the `.format()` method to incorporate variables into a string by using curly braces `{}` as placeholders. Finally, we introduce f-strings (formatted string literals), a convenient string formatting method available in Python 3.6 and above, to embed variables directly within a string using curly braces `{}` and prefixing the string with `f\"{variable}\"`.\n",
        "\n",
        "\n",
        "- Create variables to store strings.\n",
        "- Concatenate strings using the + operator.\n",
        "- Use string formatting `.format()` \n",
        "- Use f-strings formatting `f\"{variable}\"` \n",
        "- Print the modified strings using `print()`.\n",
        "\n",
        "copy and paste the code below: \n",
        "\n",
        "```python\n",
        "# String Manipulation\n",
        "name = \"John\"\n",
        "age = 25\n",
        "\n",
        "# Concatenation\n",
        "greeting = \"Hello, \" + name + \"!\"\n",
        "print(greeting)\n",
        "\n",
        "# String Formatting\n",
        "message = \"Your name is {} and are {} years old.\".format(name, age)\n",
        "print(message)\n",
        "\n",
        "# f-strings (Python 3.6+)\n",
        "info = f\"Name: {name}, Age: {age}\"\n",
        "print(info)\n",
        "\n",
        "```\n",
        "**change name and age as well as any other strings in there**"
      ],
      "metadata": {
        "id": "7MkXYPcXX6L1"
      }
    },
    {
      "cell_type": "code",
      "source": [],
      "metadata": {
        "colab": {
          "base_uri": "https://localhost:8080/"
        },
        "id": "WgHHIf8vYDNb",
        "outputId": "f92e76e3-fa5c-4802-df12-26a64a601d61"
      },
      "execution_count": null,
      "outputs": [
        {
          "output_type": "stream",
          "name": "stdout",
          "text": [
            "Hello, John!\n",
            "Your name is John and are 25 years old.\n",
            "Name: John, Age: 25\n"
          ]
        }
      ]
    },
    {
      "cell_type": "markdown",
      "source": [
        "# Task 4. Built-in Functions:\n",
        "\n",
        "\n",
        "---\n",
        "\n",
        "In this task, we explore common built-in functions in Python and demonstrate their usage. We work with a string variable text and a list variable numbers. We apply various functions to these variables:\n",
        "\n",
        "- `len()` to get the length of a string or list.\n",
        "- `type()` to determine the data type of a variable.\n",
        "- `int()` to convert a string or float to an integer.\n",
        "- `float()` to convert a string or integer to a float.\n",
        "- `str()` to convert a number to a string.\n",
        "\n",
        "\n",
        "copy and paste the code below:\n",
        "```python\n",
        "# Built-in Functions\n",
        "text = \"Hello, World!\"\n",
        "numbers = [1, 2, 3, 4, 5]\n",
        "\n",
        "# len() - Get the length of a string or list\n",
        "text_length = len(text)\n",
        "numbers_length = len(numbers)\n",
        "\n",
        "# type() - Get the data type of a variable\n",
        "text_type = type(text)\n",
        "numbers_type = type(numbers)\n",
        "\n",
        "# int() - Convert a string or float to an integer\n",
        "float_number = 3.14\n",
        "int_number = int(float_number)\n",
        "\n",
        "# float() - Convert a string or integer to a float\n",
        "string_number = \"10.5\"\n",
        "float_number = float(string_number)\n",
        "float_type = type(float_number)\n",
        "\n",
        "\n",
        "# str() - Convert a number to a string\n",
        "age = 25\n",
        "age_string = str(age)\n",
        "\n",
        "# Print the results\n",
        "print(\"Text length:\", text_length)\n",
        "print(\"Numbers length:\", numbers_length)\n",
        "print(\"Text type:\", text_type)\n",
        "print(\"Numbers type:\", numbers_type)\n",
        "print(\"Integer number:\", int_number)\n",
        "print(\"Float number:\", float_number)\n",
        "print(\"Float type:\", float_type)\n",
        "print(\"Age as a string:\", age_string)\n",
        "\n",
        "```"
      ],
      "metadata": {
        "id": "WyYBUzRkYlDW"
      }
    },
    {
      "cell_type": "code",
      "source": [],
      "metadata": {
        "colab": {
          "base_uri": "https://localhost:8080/"
        },
        "id": "iNgSzExhYsLV",
        "outputId": "2fa39ee4-3527-4499-e026-f41cf477665f"
      },
      "execution_count": null,
      "outputs": [
        {
          "output_type": "stream",
          "name": "stdout",
          "text": [
            "Text length: 13\n",
            "Numbers length: 5\n",
            "Text type: <class 'str'>\n",
            "Numbers type: <class 'list'>\n",
            "Integer number: 3\n",
            "Float number: 10.5\n",
            "Float type: <class 'float'>\n",
            "Age as a string: 25\n"
          ]
        }
      ]
    },
    {
      "cell_type": "markdown",
      "source": [
        "# Task 5: User Input and Conditional Statements:\n",
        "\n",
        "\n",
        "---\n",
        "In this task, we introduce the concept of user input and demonstrate how to incorporate conditional statements to check if the entered number is positive, negative, or zero. We use the input() function to prompt the user to enter a number, and then convert the user input to an integer using the int() function. Next, we utilize conditional statements (if, elif, else) to perform the necessary checks and display an appropriate message based on the user's input.\n",
        "\n",
        "\n",
        "- Prompt the user to enter a number.\n",
        "- Use conditional statements (e.g., if, else) to check if the number is positive or negative.\n",
        "- Display an appropriate message based on the user's input.\n",
        "\n",
        "copy and paste the code below:\n",
        "\n",
        "```python\n",
        "# User Input and Conditional Statements\n",
        "number = input(\"Enter a number: \")  # Prompt the user to enter a number\n",
        "\n",
        "# Convert the user input to an integer\n",
        "number = int(number)\n",
        "\n",
        "# Check if the number is positive or negative using conditional statements\n",
        "if number > 0:\n",
        "    print(\"The number is positive.\")\n",
        "elif number < 0:\n",
        "    print(\"The number is negative.\")\n",
        "else:\n",
        "    print(\"The number is zero.\")\n",
        "\n",
        "```\n"
      ],
      "metadata": {
        "id": "bjJt6basZJrG"
      }
    },
    {
      "cell_type": "code",
      "source": [],
      "metadata": {
        "colab": {
          "base_uri": "https://localhost:8080/"
        },
        "id": "6eznTvMbZJ43",
        "outputId": "a5b55b81-5d07-472a-e5be-f7651fde81aa"
      },
      "execution_count": null,
      "outputs": [
        {
          "output_type": "stream",
          "name": "stdout",
          "text": [
            "Enter a number: 10\n",
            "The number is positive.\n"
          ]
        }
      ]
    },
    {
      "cell_type": "markdown",
      "source": [
        "# Finally\n",
        "\n",
        "\n",
        "---\n",
        "\n",
        "\n",
        "Google Colab provides a magic command (%%) that allows you to directly save your notebook as an HTML file IN YOUR GOOGLE DRIVE. To use this command, modify the following code to point to your saved ipynb file on drive. \n",
        "\n",
        "```python\n",
        "%%shell\n",
        "jupyter nbconvert --to html //Your notebook path file.ipynb\n",
        "```\n",
        "\n"
      ],
      "metadata": {
        "id": "fwIwNUbdZeLE"
      }
    },
    {
      "cell_type": "code",
      "source": [],
      "metadata": {
        "id": "4JXguQimZd19"
      },
      "execution_count": null,
      "outputs": []
    },
    {
      "cell_type": "code",
      "source": [],
      "metadata": {
        "id": "GBEuIB2Ia5Ia"
      },
      "execution_count": null,
      "outputs": []
    }
  ]
}