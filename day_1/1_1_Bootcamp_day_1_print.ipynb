{
  "nbformat": 4,
  "nbformat_minor": 0,
  "metadata": {
    "colab": {
      "provenance": [],
      "authorship_tag": "ABX9TyOiKYnzxs/OHZCZFwS8F39d",
      "include_colab_link": true
    },
    "kernelspec": {
      "name": "python3",
      "display_name": "Python 3"
    },
    "language_info": {
      "name": "python"
    }
  },
  "cells": [
    {
      "cell_type": "markdown",
      "metadata": {
        "id": "view-in-github",
        "colab_type": "text"
      },
      "source": [
        "<a href=\"https://colab.research.google.com/github/MonkeyWrenchGang/PythonBootcamp/blob/main/day_1/1_1_Bootcamp_day_1_print.ipynb\" target=\"_parent\"><img src=\"https://colab.research.google.com/assets/colab-badge.svg\" alt=\"Open In Colab\"/></a>"
      ]
    },
    {
      "cell_type": "markdown",
      "source": [
        "# Task 1: Hello, World!\n",
        "\n",
        "\n",
        "---\n",
        "\n",
        "\n",
        "In this task, you'll write a simple program that prints the phrase \"Hello, World!\" to the console. \n",
        "\n",
        "## A little History \n",
        "\n",
        "The origin of the \"Hello, World!\" phrase can be traced back to the early days of programming. One of the earliest known instances of the phrase can be found in the seminal book \"The C Programming Language\" by Brian Kernighan and Dennis Ritchie, published in 1978. In the book, the authors used the phrase as an example to demonstrate the basic syntax of the C programming language.\n",
        "\n",
        "The \"Hello, World!\" program is typically a simple program that prints the phrase \"Hello, World!\" to the console or output window. It serves as a basic introduction to a programming language and helps beginners understand how to write, compile, and run their first program successfully.\n",
        "\n",
        "copy and paste the following into a code cell\n",
        "\n",
        "```python\n",
        "# Task 1 \n",
        "print(\"Hello, World!\")\n",
        "\n",
        "```"
      ],
      "metadata": {
        "id": "dNWjAh6UJtjR"
      }
    },
    {
      "cell_type": "code",
      "execution_count": null,
      "metadata": {
        "id": "2bw-0ULqJm5Z"
      },
      "outputs": [],
      "source": []
    },
    {
      "cell_type": "markdown",
      "source": [
        "# Task 2: Print Variables\n",
        "\n",
        "\n",
        "---\n",
        "\n",
        "\n",
        "In this task, you'll learn how to print the values of variables. Declare a variable name and assign it a string value of your choice. Then, use the print() function to display the message `\"My name is: [name]\"` where [name] is replaced with the value of the name variable.\n",
        "\n",
        "copy and paste the following into a code cell:\n",
        "\n",
        "```python\n",
        "# Task 2 \n",
        "name = \"John Doe\"\n",
        "print(\"My name is:\", name)\n",
        "\n",
        "```"
      ],
      "metadata": {
        "id": "7tc8rsLfKV2e"
      }
    },
    {
      "cell_type": "code",
      "source": [],
      "metadata": {
        "id": "5G-Z8gVWKV-g"
      },
      "execution_count": null,
      "outputs": []
    },
    {
      "cell_type": "markdown",
      "source": [
        "# Task 3: String Concatenation\n",
        "\n",
        "\n",
        "---\n",
        "\n",
        "\n",
        "In this task, you'll practice string concatenation using the + operator. Create two string variables, first_name and last_name, and assign them your first and last names, respectively. Use string concatenation to display the message \n",
        "`\"Full Name: [first_name] [last_name]\"` where [first_name] and [last_name] are replaced with the values of the respective variables.\n",
        "\n",
        "copy and paste the following into a code cell: \n",
        "\n",
        "```python\n",
        "# Task 3 \n",
        "first_name = \"John\"\n",
        "last_name = \"Doe\"\n",
        "full_name = first_name + \" \" + last_name\n",
        "print(\"Full Name:\", full_name)\n",
        "\n",
        "```"
      ],
      "metadata": {
        "id": "oRQ3VzfJKWG3"
      }
    },
    {
      "cell_type": "code",
      "source": [],
      "metadata": {
        "id": "m28uHtL1KWOJ"
      },
      "execution_count": null,
      "outputs": []
    },
    {
      "cell_type": "markdown",
      "source": [
        "# Task 4: String Length\n",
        "\n",
        "\n",
        "---\n",
        "\n",
        "\n",
        "In this task, you'll determine the length of a string using the len() function. Declare a variable message and assign it a string value of your choice. Then, use the len() function to display the length of the string.\n",
        "\n",
        "```python\n",
        "# Task 4 \n",
        "message = \"Hello, Python!\"\n",
        "length = len(message)\n",
        "print(\"Length of the string:\", length)\n",
        "\n",
        "```\n"
      ],
      "metadata": {
        "id": "kcUhuIFMKWWN"
      }
    },
    {
      "cell_type": "code",
      "source": [],
      "metadata": {
        "id": "-X3kOTcyKWiN"
      },
      "execution_count": null,
      "outputs": []
    },
    {
      "cell_type": "markdown",
      "source": [
        "# Task 5: String Slicing\n",
        "\n",
        "\n",
        "---\n",
        "\n",
        "\n",
        "In this task, you'll practice string slicing to extract specific portions of a string. Declare a variable sentence and assign it a string value of your choice (at least 10 characters long). Use string slicing to display the following:\n",
        "\n",
        "- The first 3 characters of the string.\n",
        "- The last 3 characters of the string.\n",
        "- Every second character of the string, starting from the first character.\n",
        "\n",
        "copy and paste the code below:\n",
        "\n",
        "```python\n",
        "# Task 5 Solution\n",
        "sentence = \"Python is awesome!\"\n",
        "print(\"First 3 characters:\", sentence[:3])\n",
        "print(\"Last 3 characters:\", sentence[-3:])\n",
        "print(\"Every second character:\", sentence[::2])\n",
        "\n",
        "```"
      ],
      "metadata": {
        "id": "ARY17IbjLC5R"
      }
    },
    {
      "cell_type": "code",
      "source": [],
      "metadata": {
        "id": "MKEhmNJgLOcE"
      },
      "execution_count": null,
      "outputs": []
    },
    {
      "cell_type": "markdown",
      "source": [
        "# Your Turn!\n",
        "\n",
        "\n",
        "---\n",
        "\n",
        "## Task 1: Greeting Message\n",
        "\n",
        "Write a program that uses a variable `name` and prints a a message like `\"Hello, [name]!\"` where [name] is replaced with the user's name.\n",
        "\n",
        "## Task 2: String Concatenation\n",
        "In this task, you'll practice string concatenation using the + operator. Create two string variables, `city` and `country`, and assign them the name of a city and a country of your choice, respectively. Use string concatenation (+) to display the message `\"I live in [city], [country]\"` where `[city]` and `[country]` are replaced with the values of the respective variables.\n",
        "\n",
        "## Task 3: String Length\n",
        "In this task, you'll determine the length of a string using the len() function. Declare a variable `sentence` and assign it a string value of your choice. Then, use the len() function to display the length of the string.\n",
        "\n",
        "## Task 4: String Concatenation and Length\n",
        "In this task, you'll concatenate two strings and then determine the length of the resulting string. Declare two variables, `string1` and `string2`, and assign them string values of your choice. Then, concatenate the two strings using the + operator and store the result in a variable called `concatenated_string`. Finally, use the len() function to determine the length of the concatenated_string and `print` the result.\n",
        "\n",
        "## Task 5: String Slicing\n",
        "In this task, you'll practice string slicing to extract specific portions of a string. Declare a variable sentence and assign it a string value of your choice (at least 10 characters long). Use string slicing to display the following:\n",
        "\n",
        "- The first characer in the string. \n",
        "- The first 5 characters of the string.\n",
        "- The last 3 characters of the string.\n",
        "- Every third character of the string, starting from the first character. \n",
        "\n",
        "for example:\n",
        "```python\n",
        "sentence = \"Programming in Python is fun!\"\n",
        "```\n",
        "\n"
      ],
      "metadata": {
        "id": "4gUKJtOyLPJ6"
      }
    },
    {
      "cell_type": "markdown",
      "source": [
        "# Task 1"
      ],
      "metadata": {
        "id": "bwdBx5TNNR-w"
      }
    },
    {
      "cell_type": "code",
      "source": [],
      "metadata": {
        "id": "tI2deVkuNSHU"
      },
      "execution_count": null,
      "outputs": []
    },
    {
      "cell_type": "markdown",
      "source": [
        "# Task 2"
      ],
      "metadata": {
        "id": "ZowSgxXdNSRe"
      }
    },
    {
      "cell_type": "code",
      "source": [],
      "metadata": {
        "id": "bSxrnt8ONSXc"
      },
      "execution_count": null,
      "outputs": []
    },
    {
      "cell_type": "markdown",
      "source": [
        "# Task 3"
      ],
      "metadata": {
        "id": "lJmWngv9NSef"
      }
    },
    {
      "cell_type": "code",
      "source": [],
      "metadata": {
        "id": "3ahw89HaNSlR"
      },
      "execution_count": null,
      "outputs": []
    },
    {
      "cell_type": "markdown",
      "source": [
        "# Task 4\n"
      ],
      "metadata": {
        "id": "ER33uX0vNSsh"
      }
    },
    {
      "cell_type": "code",
      "source": [],
      "metadata": {
        "id": "k0rHyww0NSzT"
      },
      "execution_count": null,
      "outputs": []
    },
    {
      "cell_type": "markdown",
      "source": [
        "# Task 5"
      ],
      "metadata": {
        "id": "zi4poAanNZuA"
      }
    },
    {
      "cell_type": "code",
      "source": [],
      "metadata": {
        "id": "FLt8Wz9FNZ_v"
      },
      "execution_count": null,
      "outputs": []
    },
    {
      "cell_type": "markdown",
      "source": [
        "# Potential Solutions \n",
        "\n",
        "\n",
        "---\n",
        "\n",
        "```python\n",
        "\n",
        "# Task 1\n",
        "name = \"Mike Ames\"\n",
        "print(\"Hello: \", name)\n",
        "\n",
        "# Task 2 \n",
        "city = \"New York City\"\n",
        "country = \"United States\"\n",
        "location = \"I live in \" + city + \", \" + country\n",
        "print(location)\n",
        "\n",
        "# Task 3 \n",
        "sentence = \"I love programming!\"\n",
        "length = len(sentence)\n",
        "print(\"Length of the string:\", length)\n",
        "\n",
        "# Task 4 \n",
        "string1 = \"Hello\"\n",
        "string2 = \"Python World\"\n",
        "concatenated_string = string1 + string2\n",
        "length = len(concatenated_string)\n",
        "print(\"Concatenated String:\", concatenated_string)\n",
        "print(\"Length of the concatenated string:\", length)\n",
        "\n",
        "\n",
        "# Task 5 \n",
        "sentence = \"Programming in Python is fun!\"\n",
        "print(\"First character:\", sentence[0])\n",
        "print(\"First 5 characters:\", sentence[:5])\n",
        "print(\"Last 3 characters:\", sentence[-3:])\n",
        "print(\"Every third character:\", sentence[::3])\n",
        "\n",
        "\n",
        "```\n"
      ],
      "metadata": {
        "id": "oJONrhBkNciP"
      }
    }
  ]
}