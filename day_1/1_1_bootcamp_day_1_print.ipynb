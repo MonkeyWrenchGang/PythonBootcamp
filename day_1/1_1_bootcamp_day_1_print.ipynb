{
  "nbformat": 4,
  "nbformat_minor": 0,
  "metadata": {
    "colab": {
      "provenance": [],
      "authorship_tag": "ABX9TyMUOw3coQyGa+TUby9yLmeg",
      "include_colab_link": true
    },
    "kernelspec": {
      "name": "python3",
      "display_name": "Python 3"
    },
    "language_info": {
      "name": "python"
    }
  },
  "cells": [
    {
      "cell_type": "markdown",
      "metadata": {
        "id": "view-in-github",
        "colab_type": "text"
      },
      "source": [
        "<a href=\"https://colab.research.google.com/github/MonkeyWrenchGang/PythonBootcamp/blob/main/day_1/1_1_bootcamp_day_1_print.ipynb\" target=\"_parent\"><img src=\"https://colab.research.google.com/assets/colab-badge.svg\" alt=\"Open In Colab\"/></a>"
      ]
    },
    {
      "cell_type": "markdown",
      "source": [
        "# Introduction to `print()`\n",
        "\n",
        "\n",
        "---\n",
        "\n",
        "\n",
        "\n",
        "## Exploring the Versatility of `print()`\n",
        "\n",
        "The `print()` function is an essential tool in Python for displaying information and communicating with the user. In this notebook, we will explore several ways that the `print()` function can be used. By examining different examples, we aim to develop familiarity with reading code and understanding the diverse applications of `print()`.\n",
        "\n",
        "The versatility of `print()` allows us to achieve various goals, such as:\n",
        "\n",
        "- Displaying output to the console or output window.\n",
        "- Providing feedback to users during program execution.\n",
        "- Debugging and troubleshooting code by printing intermediate values.\n",
        "- Formatting and presenting data in a readable format.\n",
        "- Logging important information for analysis or record-keeping.\n",
        "\n",
        "Throughout this notebook, we will dive into different scenarios and demonstrate how the `print()` function can be leveraged effectively. By the end, you will have a broader understanding of the power and flexibility that `print()` brings to your Python programming journey.\n",
        "\n",
        "Let's get started exploring the many applications of `print()`!\n"
      ],
      "metadata": {
        "id": "ktSKXBNGiaRc"
      }
    },
    {
      "cell_type": "code",
      "execution_count": null,
      "metadata": {
        "colab": {
          "base_uri": "https://localhost:8080/"
        },
        "id": "kG2uk-lniWoL",
        "outputId": "40d8ddd7-ed65-4ff1-b74c-e1fabf59f570"
      },
      "outputs": [
        {
          "output_type": "stream",
          "name": "stdout",
          "text": [
            "Hello, World!\n",
            "Number: 42\n",
            "Value: 3.14 PI\n",
            "Hello-World\n",
            "Hello World!\n"
          ]
        }
      ],
      "source": [
        "print(\"Hello, World!\")              # Output: Hello, World!\n",
        "print(\"Number:\", 42)                # Output: Number: 42\n",
        "print(\"Value:\", 3.14, \"PI\")         # Output: Value: 3.14 PI\n",
        "print(\"Hello\", \"World\", sep='-')    # Output: Hello-World\n",
        "print(\"Hello\", end=' ')             # Output: Hello (without newline)\n",
        "print(\"World!\")                     # Output: World! (on the same line)\n"
      ]
    },
    {
      "cell_type": "markdown",
      "source": [
        "# Exercise 1: Hello, [Your name here]!\n",
        "\n",
        "Write a program that prints the message \"Hello, [your name here]!\".\n",
        "\n",
        "\n",
        "\n"
      ],
      "metadata": {
        "id": "PfKoowSyj2Qt"
      }
    },
    {
      "cell_type": "code",
      "source": [
        "your_name = \"\""
      ],
      "metadata": {
        "id": "-RlKu3wUkZ0d"
      },
      "execution_count": null,
      "outputs": []
    },
    {
      "cell_type": "markdown",
      "source": [
        "# Exercise 2: Number Series\n",
        "Write a program that prints the numbers from 1 to 10, each on a new line. here we are going to use a for loop check this out, copy and paste the following code: \n",
        "\n",
        "```python\n",
        "for num in range(1, 11):\n",
        "    print(num)\n",
        "\n",
        "```\n"
      ],
      "metadata": {
        "id": "09rTTJ0gka46"
      }
    },
    {
      "cell_type": "code",
      "source": [],
      "metadata": {
        "id": "XSnzFmXKkbEX"
      },
      "execution_count": null,
      "outputs": []
    },
    {
      "cell_type": "markdown",
      "source": [
        "# Exercise 3: Favorite Quote\n",
        "\n",
        "Write a program that prints your favorite quote or inspirational message.\n",
        "\n",
        "Here's my example \n",
        "\n",
        "```python \n",
        "print(\"The only way to do great work is to love what you do. - Steve Jobs\")\n",
        "\n",
        "```"
      ],
      "metadata": {
        "id": "8_-Gi2xdkoYM"
      }
    },
    {
      "cell_type": "code",
      "source": [
        "quote = \"\""
      ],
      "metadata": {
        "id": "_m5siXGgkzdE"
      },
      "execution_count": null,
      "outputs": []
    },
    {
      "cell_type": "markdown",
      "source": [
        "# Exercise 4: Shape Patterns\n",
        "\n",
        "Here is a program that prints a simple shape pattern, such as a triangle or a square, using asterisks (*) or any other character of your choice.\n",
        "\n",
        "```python\n",
        "\n",
        "print(\"Triangle:\")\n",
        "for i in range(1, 6):\n",
        "    print(\"*\" * i)\n",
        "\n",
        "print(\"\\nSquare:\")\n",
        "for i in range(5):\n",
        "    print(\"*\" * 5)\n",
        "\n",
        "```"
      ],
      "metadata": {
        "id": "NmMfcCtDkzqI"
      }
    },
    {
      "cell_type": "code",
      "source": [],
      "metadata": {
        "id": "kA3t-fKolC2A"
      },
      "execution_count": null,
      "outputs": []
    },
    {
      "cell_type": "markdown",
      "source": [
        "# Exercise 5: Personal Introduction\n",
        "Write a program that prints a brief self-introduction, including your name, hobbies, or any other interesting facts about yourself.\n",
        "\n",
        "```python\n",
        "name = input(\"Enter your name: \")\n",
        "hobbies = input(\"Enter your hobbies: \")\n",
        "print(\"Name:\", name)\n",
        "print(\"Hobbies:\", hobbies)\n",
        "\n",
        "```"
      ],
      "metadata": {
        "id": "-uIjG7rrlDFX"
      }
    },
    {
      "cell_type": "code",
      "source": [],
      "metadata": {
        "id": "emqg7s_9lK3w"
      },
      "execution_count": null,
      "outputs": []
    }
  ]
}