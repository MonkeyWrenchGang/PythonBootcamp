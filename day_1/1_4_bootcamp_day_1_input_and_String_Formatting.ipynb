{
  "nbformat": 4,
  "nbformat_minor": 0,
  "metadata": {
    "colab": {
      "provenance": [],
      "authorship_tag": "ABX9TyMTk+OUXz9yv8u11n1yDzrr",
      "include_colab_link": true
    },
    "kernelspec": {
      "name": "python3",
      "display_name": "Python 3"
    },
    "language_info": {
      "name": "python"
    }
  },
  "cells": [
    {
      "cell_type": "markdown",
      "metadata": {
        "id": "view-in-github",
        "colab_type": "text"
      },
      "source": [
        "<a href=\"https://colab.research.google.com/github/MonkeyWrenchGang/PythonBootcamp/blob/main/day_1/1_4_bootcamp_day_1_input_and_String_Formatting.ipynb\" target=\"_parent\"><img src=\"https://colab.research.google.com/assets/colab-badge.svg\" alt=\"Open In Colab\"/></a>"
      ]
    },
    {
      "cell_type": "markdown",
      "source": [
        "\n",
        "# Python Notebook: Input and String Formatting of Numbers\n",
        "\n",
        "---\n",
        "\n",
        "In this notebook, we will explore how to work with user input and format numbers as strings in Python. Being able to interact with users and display numbers in a formatted manner is crucial in many programming scenarios.\n",
        "\n",
        "We will cover the following topics:\n",
        "\n",
        "1. Accepting User Input with `input()`\n",
        "2. Type Conversion: Converting Input to Numbers\n",
        "3. String Formatting of Numbers\n",
        "4. Formatting Numeric Output: `format()` Function and f-strings\n",
        "\n",
        "---\n",
        "\n",
        "## Accepting User Input with `input()`\n",
        "\n",
        "The `input()` function allows us to accept user input during program execution. It prompts the user for input and returns a string that we can store in a variable.\n",
        "\n",
        "Example:\n",
        "```python\n",
        "name = input(\"Enter your name: \")\n",
        "print(\"Hello, \" + name + \"!\")\n",
        "```\n"
      ],
      "metadata": {
        "id": "yJGoq8FVcoG9"
      }
    },
    {
      "cell_type": "code",
      "execution_count": null,
      "metadata": {
        "colab": {
          "base_uri": "https://localhost:8080/"
        },
        "id": "ADIBV0CxcmSY",
        "outputId": "b162f30d-466a-4f9b-b728-31b8e55174b8"
      },
      "outputs": [
        {
          "output_type": "stream",
          "name": "stdout",
          "text": [
            "Enter your name: Mike \n",
            "Hello, Mike !\n"
          ]
        }
      ],
      "source": [
        "name = input(\"Enter your name: \")\n",
        "print(\"Hello, \" + name + \"!\")"
      ]
    },
    {
      "cell_type": "markdown",
      "source": [
        "## Type Conversion: Converting Input to Numbers\n",
        "\n",
        "When accepting user input for numbers, we often need to convert the input from a string to a numeric data type. Python provides built-in functions like int() and float() to perform type conversion.\n",
        "\n",
        "for example:"
      ],
      "metadata": {
        "id": "mVPjoimetvDx"
      }
    },
    {
      "cell_type": "code",
      "source": [
        "age = int(input(\"Enter your age: \"))\n",
        "print(\"Next year, you will be\", age + 1, \"years old.\")"
      ],
      "metadata": {
        "id": "6dhFj1GXty78"
      },
      "execution_count": null,
      "outputs": []
    },
    {
      "cell_type": "markdown",
      "source": [
        "# Formatting Output\n",
        "\n",
        "\n",
        "---\n",
        "\n",
        "## Concatenation\n",
        "\n",
        "Combining strings using the `+` operator."
      ],
      "metadata": {
        "id": "BRtzrrM3ejho"
      }
    },
    {
      "cell_type": "code",
      "source": [
        "name = \"Alice\"\n",
        "age = 25\n",
        "print(\"My name is \" + name + \" and I am \" + str(age) + \" years old.\")\n"
      ],
      "metadata": {
        "colab": {
          "base_uri": "https://localhost:8080/"
        },
        "id": "3QtTiMHhdRKA",
        "outputId": "faa5b5fc-f009-469f-f8a4-acaf05ee83c8"
      },
      "execution_count": null,
      "outputs": [
        {
          "output_type": "stream",
          "name": "stdout",
          "text": [
            "My name is Alice and I am 25 years old.\n"
          ]
        }
      ]
    },
    {
      "cell_type": "markdown",
      "source": [
        "# String interpolation\n",
        "\n",
        "\n",
        "---\n",
        "\n",
        "\n",
        "## Two Methods\n",
        "\n",
        "\n",
        "Python provides two common methods for string interpolation: **f-strings** and the **format()** method.\n",
        "\n",
        "### F-strings\n",
        "F-strings (formatted string literals) provide a concise and convenient way to embed variables and expressions within strings.\n",
        "\n",
        "- They are created by prefixing a string with the letter 'f' or 'F'.\n",
        "- Inside an f-string, you can directly embed variables or expressions within curly braces {}."
      ],
      "metadata": {
        "id": "3Ok1BTWkdsTG"
      }
    },
    {
      "cell_type": "code",
      "source": [
        "name = \"Alice\"\n",
        "age = 25\n",
        "print(f\"My name is {name} and I am {age} years old.\")\n"
      ],
      "metadata": {
        "id": "gWMO2e0wdsdy"
      },
      "execution_count": null,
      "outputs": []
    },
    {
      "cell_type": "markdown",
      "source": [
        "### format() Method\n",
        "\n",
        "The format() method provides a flexible way to format strings.\n",
        "- You use placeholders {} within a string and call the format() method to replace them with values.\n"
      ],
      "metadata": {
        "id": "O827aRqDeG0X"
      }
    },
    {
      "cell_type": "code",
      "source": [
        "name = \"Alice\"\n",
        "age = 25\n",
        "print(\"My name is {} and I am {} years old.\".format(name, age))\n"
      ],
      "metadata": {
        "colab": {
          "base_uri": "https://localhost:8080/"
        },
        "id": "aKEMWcT5eNm9",
        "outputId": "94fab320-8e15-4e53-ce15-354e2732852c"
      },
      "execution_count": null,
      "outputs": [
        {
          "output_type": "stream",
          "name": "stdout",
          "text": [
            "My name is Alice and I am 25 years old.\n"
          ]
        }
      ]
    },
    {
      "cell_type": "markdown",
      "source": [
        "# Formatting Numbers\n",
        "\n",
        "\n",
        "---\n",
        "\n",
        "## Using the format() Method\n",
        "The format() method allows you to format numbers within a string by specifying formatting directives:\n",
        "\n",
        "- `{:.nf}`: Formats a float number with n decimal places.\n",
        "- `{:.2f}`: Formats a float number with 2 decimal places.\n",
        "- `{:,}`: Adds comma as a thousands separator for integer or float numbers."
      ],
      "metadata": {
        "id": "T8dbrlHNfcOD"
      }
    },
    {
      "cell_type": "code",
      "source": [
        "pi = 3.14159\n",
        "population = 1000000\n",
        "\n",
        "print(\"Pi: {:.2f}\".format(pi))\n",
        "print(\"Population: {:,}\".format(population))\n"
      ],
      "metadata": {
        "colab": {
          "base_uri": "https://localhost:8080/"
        },
        "id": "Pc4q5kXkhATw",
        "outputId": "e0e1223b-a51e-4473-b7f9-1804640d62f3"
      },
      "execution_count": null,
      "outputs": [
        {
          "output_type": "stream",
          "name": "stdout",
          "text": [
            "Pi: 3.14\n",
            "Population: 1,000,000\n"
          ]
        }
      ]
    },
    {
      "cell_type": "markdown",
      "source": [
        "## Fstring Method \n",
        "\n",
        "F-strings also support formatting options for numbers:\n",
        "\n",
        "- `:.nf`: Formats a float number with n decimal places.\n",
        "- `:,.0f`: Formats a float number with comma as a thousands separator and no decimal places."
      ],
      "metadata": {
        "id": "zsynwR2LhLfW"
      }
    },
    {
      "cell_type": "code",
      "source": [
        "pi = 3.14159\n",
        "population = 1000000\n",
        "\n",
        "print(f\"Pi: {pi:.2f}\")\n",
        "print(f\"Population: {population:,.0f}\")\n"
      ],
      "metadata": {
        "colab": {
          "base_uri": "https://localhost:8080/"
        },
        "id": "VHSiPnWThTsX",
        "outputId": "c3d66b82-f4ae-4dac-942b-1635986659d6"
      },
      "execution_count": null,
      "outputs": [
        {
          "output_type": "stream",
          "name": "stdout",
          "text": [
            "Pi: 3.14\n",
            "Population: 1,000,000\n"
          ]
        }
      ]
    },
    {
      "cell_type": "markdown",
      "source": [
        "## Dealing w. Percentages\n"
      ],
      "metadata": {
        "id": "jYZyGo_thAvm"
      }
    },
    {
      "cell_type": "markdown",
      "source": [
        "### .format() method "
      ],
      "metadata": {
        "id": "uQaVe9wLfeRQ"
      }
    },
    {
      "cell_type": "code",
      "source": [
        "number = 0.8023\n",
        "formatted_percentage = \"{:.2%}\".format(number)\n",
        "print(formatted_percentage)\n",
        "print(\"-- OR --\")\n",
        "print(\"{:.3%}\".format(number))"
      ],
      "metadata": {
        "colab": {
          "base_uri": "https://localhost:8080/"
        },
        "id": "VkSeWMIJfei7",
        "outputId": "7d2ec9b2-48be-4262-8845-7e223591de12"
      },
      "execution_count": null,
      "outputs": [
        {
          "output_type": "stream",
          "name": "stdout",
          "text": [
            "80.23%\n",
            "-- OR --\n",
            "80.230%\n"
          ]
        }
      ]
    },
    {
      "cell_type": "markdown",
      "source": [
        "### Fstring way"
      ],
      "metadata": {
        "id": "OIPIJ_Z-g6S1"
      }
    },
    {
      "cell_type": "code",
      "source": [
        "number = 0.8023\n",
        "formatted_percentage = f\"{number:.2%}\"\n",
        "print(formatted_percentage)\n",
        "print(\"-- OR --\")\n",
        "print(f\"{number:.3%}\")"
      ],
      "metadata": {
        "colab": {
          "base_uri": "https://localhost:8080/"
        },
        "id": "NxYmTDVbg6u9",
        "outputId": "40cf3674-5a74-45a6-fd36-d54b067829f9"
      },
      "execution_count": null,
      "outputs": [
        {
          "output_type": "stream",
          "name": "stdout",
          "text": [
            "80.23%\n",
            "OR\n",
            "80.230%\n"
          ]
        }
      ]
    },
    {
      "cell_type": "markdown",
      "source": [
        "# Exercises\n",
        "\n",
        "\n",
        "---\n",
        "\n",
        "\n",
        "## Exercise 1: Temperature Converter\n",
        "Write a program that prompts the user to enter a temperature in Celsius and converts it to Fahrenheit. Format the output to display the result with two decimal places.\n",
        "\n",
        "`fahrenheit = (celsius * 9/5) + 32`\n",
        "\n",
        "```python\n",
        "celsius = float(input(\"Enter the temperature in Celsius: \"))\n",
        "\n",
        "print(\"The temperature in Fahrenheit is: {}\".format( formatted_fahrenheit))\n",
        "\n",
        "```\n",
        "\n",
        "## Exercise 2: Currency Converter\n",
        "Write a program that prompts the user to enter an amount in USD (United States Dollars) and converts it to EUR (Euros). Format the output to display the result with two decimal places.\n",
        "\n",
        "`exchange_rate = 0.85  # Example conversion rate from USD to EUR`\n",
        "\n",
        "```python\n",
        "usd = float(input(\"Enter the amount in USD: \"))\n",
        "\n",
        "\n",
        "print(\"The amount in EUR is:{:.2f}\".format(euro))\n",
        "\n",
        "\n",
        "```\n",
        "\n",
        "## Exercise 3: Weight Converter\n",
        "Write a program that prompts the user to enter a weight in pounds and converts it to kilograms. Format the output to display the result with three decimal places.\n",
        "\n",
        "`kilograms = pounds * 0.45359237  # Conversion factor from pounds to kilograms`\n",
        "\n",
        "```python\n",
        "pounds = float(input(\"Enter the weight in pounds: \"))\n",
        "\n",
        "\n",
        "print(\"The weight in kilograms is: {:.3f}\".format(kilograms))\n",
        "\n",
        "```\n",
        "\n",
        "## Exercise 4: Time Converter\n",
        "Write a program that prompts the user to enter a time duration in minutes and converts it to hours and minutes. Format the output to display the result as \"X hours and Y minutes\".\n",
        "\n",
        "```python\n",
        "minutes = int(input(\"Enter the time duration in minutes: \"))\n",
        "\n",
        "print(\"The time duration is: {}, hours and {}, remaining_minutes\".format(minutes,remaining_minutes))\n",
        "\n",
        "```"
      ],
      "metadata": {
        "id": "N6zZlU3OtoAK"
      }
    },
    {
      "cell_type": "code",
      "source": [],
      "metadata": {
        "id": "mGp2TIjovU9u"
      },
      "execution_count": null,
      "outputs": []
    },
    {
      "cell_type": "code",
      "source": [],
      "metadata": {
        "id": "pc4NnzuUvVKN"
      },
      "execution_count": null,
      "outputs": []
    },
    {
      "cell_type": "code",
      "source": [],
      "metadata": {
        "id": "_NBdMkEWvVRN"
      },
      "execution_count": null,
      "outputs": []
    },
    {
      "cell_type": "code",
      "source": [],
      "metadata": {
        "id": "vafZog3XvVYg"
      },
      "execution_count": null,
      "outputs": []
    },
    {
      "cell_type": "code",
      "source": [],
      "metadata": {
        "id": "_tkF70qRvVg2"
      },
      "execution_count": null,
      "outputs": []
    },
    {
      "cell_type": "markdown",
      "source": [
        "Solutions \n",
        "\n",
        "\n",
        "\n",
        "## Exercise 1: Temperature Converter\n",
        "Write a program that prompts the user to enter a temperature in Celsius and converts it to Fahrenheit. Format the output to display the result with two decimal places.\n",
        "\n",
        "`fahrenheit = (celsius * 9/5) + 32`\n",
        "\n",
        "```python\n",
        "celsius = float(input(\"Enter the temperature in Celsius: \"))\n",
        "fahrenheit = (celsius * 9/5) + 32\n",
        "formatted_fahrenheit = \"{:.2f}\".format(fahrenheit)\n",
        "print(\"The temperature in Fahrenheit is:\", formatted_fahrenheit)\n",
        "\n",
        "```\n",
        "\n",
        "## Exercise 2: Currency Converter\n",
        "Write a program that prompts the user to enter an amount in USD (United States Dollars) and converts it to EUR (Euros). Format the output to display the result with two decimal places.\n",
        "\n",
        "```python\n",
        "usd = float(input(\"Enter the amount in USD: \"))\n",
        "exchange_rate = 0.85  # Example conversion rate from USD to EUR\n",
        "euro = usd * exchange_rate\n",
        "formatted_euro = \"{:.2f}\".format(euro)\n",
        "print(\"The amount in EUR is:\", formatted_euro)\n",
        "\n",
        "\n",
        "```\n",
        "\n",
        "## Exercise 3: Weight Converter\n",
        "Write a program that prompts the user to enter a weight in pounds and converts it to kilograms. Format the output to display the result with three decimal places.\n",
        "\n",
        "```python\n",
        "pounds = float(input(\"Enter the weight in pounds: \"))\n",
        "kilograms = pounds * 0.45359237  # Conversion factor from pounds to kilograms\n",
        "formatted_kilograms = \"{:.3f}\".format(kilograms)\n",
        "print(\"The weight in kilograms is:\", formatted_kilograms)\n",
        "\n",
        "```\n",
        "\n",
        "## Exercise 4: Time Converter\n",
        "Write a program that prompts the user to enter a time duration in minutes and converts it to hours and minutes. Format the output to display the result as \"X hours and Y minutes\".\n",
        "\n",
        "```python\n",
        "minutes = int(input(\"Enter the time duration in minutes: \"))\n",
        "hours = minutes // 60\n",
        "remaining_minutes = minutes % 60\n",
        "print(\"The time duration is:\", hours, \"hours and\", remaining_minutes, \"minutes\")\n",
        "\n",
        "```"
      ],
      "metadata": {
        "id": "3S_pGJv2uvnV"
      }
    }
  ]
}