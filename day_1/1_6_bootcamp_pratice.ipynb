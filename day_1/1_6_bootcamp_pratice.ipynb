{
  "nbformat": 4,
  "nbformat_minor": 0,
  "metadata": {
    "colab": {
      "provenance": [],
      "authorship_tag": "ABX9TyNgEcyK1gn83adfXwxCRFGd",
      "include_colab_link": true
    },
    "kernelspec": {
      "name": "python3",
      "display_name": "Python 3"
    },
    "language_info": {
      "name": "python"
    }
  },
  "cells": [
    {
      "cell_type": "markdown",
      "metadata": {
        "id": "view-in-github",
        "colab_type": "text"
      },
      "source": [
        "<a href=\"https://colab.research.google.com/github/MonkeyWrenchGang/PythonBootcamp/blob/main/day_1/1_6_bootcamp_pratice.ipynb\" target=\"_parent\"><img src=\"https://colab.research.google.com/assets/colab-badge.svg\" alt=\"Open In Colab\"/></a>"
      ]
    },
    {
      "cell_type": "markdown",
      "source": [
        "# Pratice!\n",
        "\n",
        "---\n",
        "\n",
        "### Exercise 1: Average Calculation\n",
        "\n",
        "Write a program that prompts the user to enter three numbers and calculates their average. Display the average with two decimal places.\n",
        "\n",
        "### Exercise 2: Sentence Splitter\n",
        "\n",
        "Write a program that prompts the user to enter a sentence string and splits it into individual words using `.split()` function.\n",
        "\n",
        "### Exercise 3: Prime Number Checker\n",
        "\n",
        "Write a program that prompts the user to enter a positive integer and checks if it is a prime number. A prime number is a number greater than 1 that has no positive divisors other than 1 and itself.\n",
        "\n",
        "### Exercise 4: Grade Classifier\n",
        "\n",
        "Write a program that prompts the user to enter a numeric grade (0-100) and classifies it into the following categories:\n",
        "- \"Excellent\" for grades 90 and above\n",
        "- \"Good\" for grades 80-89\n",
        "- \"Satisfactory\" for grades 70-79\n",
        "- \"Needs Improvement\" for grades below 70\n",
        "\n",
        "Display the corresponding classification based on the input grade.\n",
        "\n",
        "\n",
        "### Exercise 5: Perfect Square Checker\n",
        "\n",
        "Write a program that prompts the user to enter a number and checks if it is a perfect square. A perfect square is an integer that is equal to the square of another integer.\n",
        "\n",
        "### Exercise 6: Percentage Calculator\n",
        "\n",
        "Write a program that prompts the user to enter two numbers: a numerator and a denominator. Calculate the percentage equivalent of the fraction and display it as a percentage value.\n",
        "\n",
        "\n",
        "### Exercise 6 : Grade Percentage\n",
        "\n",
        "Write a program that prompts the user to enter a grade (0-100) and calculates the corresponding percentage. Display the calculated percentage value.\n",
        "\n",
        "\n",
        "### Exercise 8: Number Range Checker\n",
        "\n",
        "Write a program that prompts the user to enter a number and checks if it falls within one of the following ranges:\n",
        "- Between 1 and 10 (inclusive)\n",
        "- Between 20 and 30 (inclusive)\n",
        "- Between 40 and 50 (inclusive)\n",
        "\n",
        "Display an appropriate message indicating whether the number falls within any of the specified ranges.\n",
        "\n",
        "\n",
        "\n",
        "---\n",
        "\n",
        "\n"
      ],
      "metadata": {
        "id": "KG3cL-fbzV6C"
      }
    },
    {
      "cell_type": "code",
      "execution_count": null,
      "metadata": {
        "id": "S_bU9vL5zSg1"
      },
      "outputs": [],
      "source": []
    },
    {
      "cell_type": "code",
      "source": [],
      "metadata": {
        "id": "k3iyU_-u0tF-"
      },
      "execution_count": null,
      "outputs": []
    },
    {
      "cell_type": "code",
      "source": [],
      "metadata": {
        "id": "WBVGh4zR0tK2"
      },
      "execution_count": null,
      "outputs": []
    },
    {
      "cell_type": "code",
      "source": [],
      "metadata": {
        "id": "pjAAJpDB0tRp"
      },
      "execution_count": null,
      "outputs": []
    },
    {
      "cell_type": "code",
      "source": [],
      "metadata": {
        "id": "Gxsgl0Kf0tWU"
      },
      "execution_count": null,
      "outputs": []
    },
    {
      "cell_type": "code",
      "source": [],
      "metadata": {
        "id": "QEiDj1Et0tfu"
      },
      "execution_count": null,
      "outputs": []
    },
    {
      "cell_type": "code",
      "source": [],
      "metadata": {
        "id": "3a-5YdjA0tmt"
      },
      "execution_count": null,
      "outputs": []
    },
    {
      "cell_type": "code",
      "source": [],
      "metadata": {
        "id": "7ADsR_4T0ttv"
      },
      "execution_count": null,
      "outputs": []
    },
    {
      "cell_type": "code",
      "source": [],
      "metadata": {
        "id": "GC2KQgCH0t0y"
      },
      "execution_count": null,
      "outputs": []
    },
    {
      "cell_type": "markdown",
      "source": [
        "# Sample Solutions\n",
        "\n",
        "```python\n",
        "# Exercise 1: Average Calculation\n",
        "num1 = float(input(\"Enter the first number: \"))\n",
        "num2 = float(input(\"Enter the second number: \"))\n",
        "num3 = float(input(\"Enter the third number: \"))\n",
        "\n",
        "average = (num1 + num2 + num3) / 3\n",
        "print(\"The average is:\", \"{:.2f}\".format(average))\n",
        "\n",
        "\n",
        "# Exercise 2: Sentence Splitter\n",
        "sentence = input(\"Enter a sentence: \")\n",
        "words = sentence.split()\n",
        "print(\"The words in the sentence are:\", words)\n",
        "\n",
        "\n",
        "# Exercise 3: Prime Number Checker\n",
        "number = int(input(\"Enter a positive integer: \"))\n",
        "\n",
        "is_prime = True\n",
        "if number <= 1:\n",
        "    is_prime = False\n",
        "else:\n",
        "    for i in range(2, int(number ** 0.5) + 1):\n",
        "        if number % i == 0:\n",
        "            is_prime = False\n",
        "            break\n",
        "\n",
        "if is_prime:\n",
        "    print(number, \"is a prime number.\")\n",
        "else:\n",
        "    print(number, \"is not a prime number.\")\n",
        "\n",
        "\n",
        "# Exercise 4: Grade Classifier\n",
        "grade = int(input(\"Enter your numeric grade (0-100): \"))\n",
        "\n",
        "if grade >= 90:\n",
        "    classification = \"Excellent\"\n",
        "elif grade >= 80:\n",
        "    classification = \"Good\"\n",
        "elif grade >= 70:\n",
        "    classification = \"Satisfactory\"\n",
        "else:\n",
        "    classification = \"Needs Improvement\"\n",
        "\n",
        "print(\"Your grade classification is:\", classification)\n",
        "\n",
        "\n",
        "# Exercise 5: Perfect Square Checker\n",
        "number = int(input(\"Enter a number: \"))\n",
        "\n",
        "is_perfect_square = False\n",
        "if number >= 0:\n",
        "    square_root = int(number ** 0.5)\n",
        "    is_perfect_square = square_root * square_root == number\n",
        "\n",
        "if is_perfect_square:\n",
        "    print(number, \"is a perfect square.\")\n",
        "else:\n",
        "    print(number, \"is not a perfect square.\")\n",
        "\n",
        "\n",
        "# Exercise 6: Percentage Calculator\n",
        "numerator = float(input(\"Enter the numerator: \"))\n",
        "denominator = float(input(\"Enter the denominator: \"))\n",
        "\n",
        "percentage = (numerator / denominator) * 100\n",
        "print(\"The percentage is:\", \"{:.2f}%\".format(percentage))\n",
        "\n",
        "\n",
        "# Exercise 7: Grade Percentage\n",
        "grade = int(input(\"Enter your grade (0-100): \"))\n",
        "\n",
        "percentage = grade / 100 * 100\n",
        "print(\"The percentage is:\", \"{:.2f}%\".format(percentage))\n",
        "\n",
        "\n",
        "# Exercise 8: Number Range Checker\n",
        "number = int(input(\"Enter a number: \"))\n",
        "\n",
        "if (number >= 1 and number <= 10) or (number >= 20 and number <= 30) or (number >= 40 and number <= 50):\n",
        "    print(number, \"falls within the specified ranges.\")\n",
        "else:\n",
        "    print(number, \"does not fall within the specified ranges.\")\n",
        "\n",
        "\n",
        "```"
      ],
      "metadata": {
        "id": "p76IcvMw0uBm"
      }
    }
  ]
}