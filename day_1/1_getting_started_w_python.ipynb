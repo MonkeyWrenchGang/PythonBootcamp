{
  "cells": [
    {
      "cell_type": "markdown",
      "metadata": {
        "id": "view-in-github",
        "colab_type": "text"
      },
      "source": [
        "<a href=\"https://colab.research.google.com/github/MonkeyWrenchGang/PythonBootcamp/blob/main/day_1/1_getting_started_w_python.ipynb\" target=\"_parent\"><img src=\"https://colab.research.google.com/assets/colab-badge.svg\" alt=\"Open In Colab\"/></a>"
      ]
    },
    {
      "cell_type": "markdown",
      "metadata": {
        "id": "M07vxMPFWB0C"
      },
      "source": [
        "# Getting Started with Python \n",
        "\n",
        "\n",
        "## Packages\n",
        "\n",
        "It is pretty standard that we start with importing our key python packages. these packages provide functions which we may want to take advantage of. the following three packages are imported 99.9% of the time \n",
        "\n",
        "- numpy: is the numerical computing package \n",
        "- pandas: is our main \"tabular\" data package \n",
        "- matplotlib: is our main \"plotting\" package, \n",
        "- the final line we  **%matplotlib inline** to tell jupyter to print our charts out in the notebook\n",
        "- finally we use aliases like **pd** for pands, so that we don't have to write out the package name when referncing functions\n",
        "\n",
        "copy and paste the following into the code block below and run it. \n",
        "\n",
        "```python\n",
        "import numpy as np\n",
        "import pandas as pd\n",
        "import matplotlib as plt\n",
        "\n",
        "%matplotlib inline\n",
        "```\n",
        "\n"
      ]
    },
    {
      "cell_type": "code",
      "execution_count": null,
      "metadata": {
        "id": "2qqiK426WB0D"
      },
      "outputs": [],
      "source": [
        "## -- copy, paste and run the code above here --\n",
        "\n"
      ]
    },
    {
      "cell_type": "markdown",
      "metadata": {
        "id": "rPg_nsd9WB0D"
      },
      "source": [
        "# Data Types \n",
        "\n",
        "in the following section we are going to take a look at the base data types of python\n",
        "\n",
        "- strings\n",
        "- integers\n",
        "- floats\n",
        "- boolean\n",
        "- lists \n",
        "- dictionaries \n",
        "\n",
        "\n",
        "\n",
        "## Getting Started with String Data Types\n",
        "\n",
        "Python's string variable type is a key type you create a string simply by  \n",
        "\n",
        "variable = \"some string with double or single quotes\" \n",
        "\n",
        "a string is simply an array of characters you can select the 3rd character by simply saying variable[2] \n",
        "\n",
        "why 2 and not 3? python is indexed starting at 0 so the first position in the string is 0 not 1 \n",
        "\n",
        "```python\n",
        "\n",
        "var1 = \"this is a string variable\" \n",
        "\n",
        "## you can check the type by using the **type()** function  \n",
        "print(\"is the third position of var1 a i or an s?\")\n",
        "print(var1[3])\n",
        "print(\"what type of variable?\")\n",
        "print(type(var1))\n",
        "print(\"\\nhow long is the variable?\")\n",
        "print(len(var1))\n",
        "print(\"\\nfunctions on strings\")\n",
        "print(var1.upper())\n",
        "```\n",
        "Copy and paste the code above into the cell below. run it and then try some of these functions. \n",
        "\n",
        "1. yourstring.capitalize(): Converts the first character to upper case  \n",
        "2. yourstring.upper(): upercases the entire string   \n",
        "3. yourstring.isnumber(): returns TRUE if the string is numeric   \n"
      ]
    },
    {
      "cell_type": "code",
      "execution_count": null,
      "metadata": {
        "id": "-cE8ndYSWB0D"
      },
      "outputs": [],
      "source": [
        "# -- write your code below --\n"
      ]
    },
    {
      "cell_type": "markdown",
      "metadata": {
        "id": "ne6byEfzWB0E"
      },
      "source": [
        "## Getting Started with Integer Data Type\n",
        "\n",
        "The simplest way to think about inntegers are that they are simply numbers without decimals   \n",
        "\n",
        "10 is an integer  \n",
        "10.0 is a float   \n",
        "\n",
        "copy and paste the code below, run it and then see what happens when you change 100 to 100.0 \n",
        "\n",
        "```python \n",
        "print(\"this is an integer, i.e. it doesn't have a decimal\")\n",
        "var2 = 100\n",
        "print(var2)\n",
        "type(var2)\n",
        "``` "
      ]
    },
    {
      "cell_type": "code",
      "execution_count": null,
      "metadata": {
        "id": "Eis-e0DrWB0E"
      },
      "outputs": [],
      "source": [
        "## -- write your code below --\n"
      ]
    },
    {
      "cell_type": "markdown",
      "metadata": {
        "id": "dnemK2WfWB0E"
      },
      "source": [
        "## Work with Integers \n",
        "\n",
        "In the code block below try it out \n",
        "\n",
        "1. Add 250 to var2 like this: var2 = var2 + 250  \n",
        "2. Divide var2 by 10 like this:  var2 / 10  \n",
        "3. multiply var2 by 2 like this:  var2 * 2  \n",
        "\n",
        "```python\n",
        "\n",
        "var2 = var2 + 250 \n",
        "print(var2)\n",
        "var2 = var2 / 10\n",
        "print(var2)\n",
        "var2 = var2 * 2 \n",
        "print(var2)\n",
        "\n",
        "```"
      ]
    },
    {
      "cell_type": "code",
      "execution_count": null,
      "metadata": {
        "id": "LzLerTqlWB0E"
      },
      "outputs": [],
      "source": [
        "## -- write your code below --\n",
        "\n",
        "\n"
      ]
    },
    {
      "cell_type": "markdown",
      "metadata": {
        "id": "oPbBCsjoWB0E"
      },
      "source": [
        "## Floats \n",
        "Floats are simply numbers with decimals. even a number like 10.0 is a float and not an integer. type the following in the line below and run it: \n",
        "\n",
        "```python\n",
        "## -- define a float -- \n",
        "print(\"this is an float, i.e. has a decimal\")\n",
        "var3 = 100.0\n",
        "print(var3)\n",
        "print(type(var3))\n",
        "\n",
        "```\n"
      ]
    },
    {
      "cell_type": "code",
      "execution_count": null,
      "metadata": {
        "id": "nTafmJ32WB0F"
      },
      "outputs": [],
      "source": [
        "## -- write your code below --\n",
        "\n"
      ]
    },
    {
      "cell_type": "markdown",
      "metadata": {
        "id": "IX9W_CK_WB0F"
      },
      "source": [
        "## Casting things from String to Int or Float \n",
        "\n",
        "you can **cast** a number as a float or an integer simply by using the int() or float() function using the code below tryit yourself \n",
        "\n",
        "```python\n",
        "\n",
        "new_int = int(3.14)   \n",
        "new_float = float(100)   \n",
        "new_str = str(new_int)\n",
        "\n",
        "print(new_int)\n",
        "print(type(new_int)\n",
        "      \n",
        "print(new_float)\n",
        "print(type(new_float)\n",
        "      \n",
        "print(new_str)\n",
        "print(type(new_str)\n",
        "      \n",
        "print(\"string to integer\")\n",
        "str10 = \"10\"\n",
        "int10 = int(str10)\n",
        "print(str10)\n",
        "print(int10)\n",
        "print(type(int10) \n",
        "  \n",
        "```\n",
        "\n",
        "try to do the same conversion from string to float! \n"
      ]
    },
    {
      "cell_type": "code",
      "execution_count": null,
      "metadata": {
        "id": "TyVckle6WB0F"
      },
      "outputs": [],
      "source": [
        " ## -- write your code below --\n",
        "\n",
        " "
      ]
    },
    {
      "cell_type": "markdown",
      "metadata": {
        "id": "9cWgs05hWB0F"
      },
      "source": [
        "## Boolean TRUE / FALSE \n",
        "\n",
        "the boolean data type is used to store True and False, it is a special type of 0 / 1; typically we use boolean logic in comparison operations for example comparing if 10 is greater than 5. You'll notice the capital T and L are  important things true or TRUE does not evaluate to True. Copy and paste the code below into a code block and run it. \n",
        "\n",
        "```python\n",
        "\n",
        "logical_true = True\n",
        "logical_false = False \n",
        "\n",
        "print(logical_true)\n",
        "\n",
        "print(10 > 5)\n",
        "\n",
        "print(5 > 10) \n",
        "\n",
        "```"
      ]
    },
    {
      "cell_type": "code",
      "execution_count": null,
      "metadata": {
        "id": "B98ysP8eWB0F"
      },
      "outputs": [],
      "source": [
        " ## -- write your code below --\n",
        "\n",
        "    "
      ]
    },
    {
      "cell_type": "markdown",
      "metadata": {
        "id": "pLEUttP1WB0F"
      },
      "source": [
        "## List Data Type\n",
        "\n",
        "A Python list is an ordered collection of data objects (variables). Unlike an array or vector - which only contains objects of a single type, a list can contain a mixture of objects. For example you can create a list that is a mix of integers, strings, floats and boolean data, as well as lists of lists. \n",
        "\n",
        "```python \n",
        "\n",
        "print(\"this is a list\")\n",
        "var4 = [ \"orange\", \"bannana\", \"pear\", \"cherry\", \"apple\"]\n",
        "print(type(var4))\n",
        "print(var4)\n",
        "\n",
        "```\n",
        "\n",
        "Lists have built in methods like: \n",
        "- list.sort(): which will sort your list \n",
        "- list.append(new_item): which will add an item to the end of your list \n",
        "\n",
        "\n",
        "Append a new fruit to your var4 list:\n",
        "```python\n",
        "\n",
        "print(\"How do i add a new fruit?\")\n",
        "var4.append(\"raspberry\")\n",
        "print(var4)\n",
        "\n",
        "```\n",
        "\n",
        "Sort your var4 list: \n",
        "```python\n",
        "var4.sort()\n",
        "print(\"now is your list sorted?\")\n",
        "print(var4)\n",
        "```\n",
        "\n",
        "\n"
      ]
    },
    {
      "cell_type": "code",
      "execution_count": null,
      "metadata": {
        "id": "KYtVCF_3WB0F"
      },
      "outputs": [],
      "source": [
        " ## -- write your code below --\n",
        "    \n"
      ]
    },
    {
      "cell_type": "code",
      "execution_count": null,
      "metadata": {
        "id": "qsdIGS0fWB0F"
      },
      "outputs": [],
      "source": [
        " ## -- write your code below --\n",
        "    "
      ]
    },
    {
      "cell_type": "markdown",
      "metadata": {
        "id": "QSN8xB2PWB0F"
      },
      "source": [
        "## Make your own list of things \n",
        "\n",
        "Here is a list of things i'd like you to make a list from \n",
        "\n",
        "\"tennis ball\", \"helmet\", \"bike\", \"football\", \"soccer ball\", \"baseball\", \"bat\", \"raquet\"`\n",
        "\n",
        "1. make a list call it `equipment` \n",
        "2. print the list with `print(equipment)` \n",
        "3. sort the list using `equipment.sort()` \n",
        "4. print the list again did it sort? `print(equipment)`\n",
        "5. print the 2nd item in the list with ` equipment[1]` why is it 1 and not 2? \n"
      ]
    },
    {
      "cell_type": "code",
      "execution_count": null,
      "metadata": {
        "id": "Wr0O1bfHWB0F"
      },
      "outputs": [],
      "source": [
        " ## -- write your code below --\n",
        "    \n"
      ]
    },
    {
      "cell_type": "markdown",
      "metadata": {
        "id": "G80ERsnWWB0G"
      },
      "source": [
        "## Dictionaries \n",
        "\n",
        "Dictionaries are Python's implementation of a data structure that is more generally known as an **associative array**. A dictionary consists of a collection of key-value pairs. Each key-value pair maps the key to its associated value.\n",
        "\n",
        "you create dictionary like this:\n",
        "\n",
        "`my_dict['key'] = \"value\"`\n",
        "\n",
        "this creates a single dictionary entry \n",
        "\n",
        "\n",
        "\n",
        "\n",
        "here is an example of mutliple entries \n",
        "\n",
        "```python\n",
        "fruit_dict = {1:\"orange\",\n",
        " 2:\"bannana\",\n",
        " 3:\"pear\", \n",
        " 4:\"cherry\",\n",
        " 5:\"apple\"}\n",
        "\n",
        "print(fruit_dict)\n",
        "```\n",
        "\n",
        "you can also reference a key-value pair in a dictionary simply by \n",
        "`fruit_dict[1]` \n",
        "which will return \"orange\" go ahead and try to reference key 4. \n",
        "\n",
        "\n",
        "### Dictionaries can contain lists too. \n",
        "\n",
        "```python\n",
        "user_fruits = [\"orange\", \"bannana\", \"pear\", \"cherry\", \"apple\"]\n",
        "\n",
        "person_fruit = {'mike': user_fruits,\n",
        "                'amy' : [\"pear\", \"cherry\", \"apple\"]}\n",
        "\n",
        "print(\"full dictionary\")\n",
        "print(person_fruit)\n",
        "print(\"mike's fruit\")\n",
        "print(person_fruit['mike'])\n",
        "print(\"amy's fruit\")\n",
        "print(person_fruit['amy'])\n",
        "\n",
        "```\n",
        "\n",
        "#### Challenge, \n",
        "Add a yourself to the person_fruit dictionary with a list of 3 or 4 fruits you enjoy. \n",
        "\n",
        "\n"
      ]
    },
    {
      "cell_type": "code",
      "execution_count": null,
      "metadata": {
        "id": "n8f422PVWB0G"
      },
      "outputs": [],
      "source": [
        " ## -- write your code below --\n",
        "    \n",
        "    "
      ]
    },
    {
      "cell_type": "markdown",
      "metadata": {
        "id": "qBArmWLoWB0G"
      },
      "source": [
        "### dictionary methods \n",
        "\n",
        "Dictionaries have built in methods like:\n",
        "\n",
        "- dict.keys(): which will return all of the keys in the dictionary \n",
        "- dict.values(): which will return all of the values stored in the dictionary \n",
        "\n",
        "give it a try: \n",
        "\n",
        "```python\n",
        "\n",
        "fruit_dict = {1:\"orange\",\n",
        " 2:\"bannana\",\n",
        " 3:\"pear\", \n",
        " 4:\"cherry\",\n",
        " 5:\"apple\"}\n",
        "\n",
        "print(fruit_dict.keys())\n",
        "print(fruit_dict.values())\n",
        "```\n"
      ]
    },
    {
      "cell_type": "code",
      "execution_count": null,
      "metadata": {
        "id": "Fsb4ma3kWB0G"
      },
      "outputs": [],
      "source": [
        " ## -- write your code below --\n",
        "    "
      ]
    },
    {
      "cell_type": "markdown",
      "metadata": {
        "id": "NX12-5lKWB0G"
      },
      "source": [
        "## Review \n",
        "\n",
        "### strings\n",
        "String variables are created simply like this `mystring = \"this is a string\"`, you can uppper case your string like this `mystring.upper()`, and you can reference the first character of a sring like this `mystring[0]` like this. \n",
        "\n",
        "### numbers\n",
        "There are two types of numeric data in python **integers** and **floats**. Integers are simply real numbers like 10, 100, or 200. Floats have a decimal place like 10.1, 3.14, and even 100.0. You can create a integer variable like this `myint = 10` and check it with `print(type(myint))` and you can create a float like this `myfloat = 3.14` and check it with  `print(type(myfloat))`. Python can be used like a calculator and supports addition(+), subtraction(-), multiplication(*), division(/) and exponentiation(**) \n",
        "\n",
        "### booleans \n",
        "Boolean variables only contain True and False and are typically the result of a comparison operator i.e. 10 > 50 returns False. Note, like everything in python boolean values are case sensitive. True is correct and different than TRUE or true - i.e. the only True is `True` with a capital T True -   \n",
        "\n",
        "### lists\n",
        "Lists are simply collection of variables and values. They can be ordered and you can mix and match what goes in a list. For example you can have a list if list or a list of strings. \n",
        "\n",
        "### dictionaries \n",
        "Dictionaries are simply a key-value store, kind of like a hash table in other languages. For each \"key\" there is a coresponding value, the value can be null, or any type of python object including lists, strings, numbers, other dictionaries etc. \n",
        "\n",
        "\n",
        "Run and print out each variable below. \n",
        "\n",
        "```python\n",
        "string_variable = \"generallhy accepted string\"\n",
        "integer_variable = 10 \n",
        "float_variable = 100.0\n",
        "boolean_varaible = True\n",
        "list_variabgle = [\"item1\", \"item2\"]\n",
        "dict_variable = {\"key\":\"value\", \"key2\":\"value2\", 10:\"valu3\", 11:[\"my\", \"list\"]}\n",
        "\n",
        "```"
      ]
    },
    {
      "cell_type": "code",
      "execution_count": null,
      "metadata": {
        "id": "X1UxdXsgWB0G"
      },
      "outputs": [],
      "source": [
        " ## -- write your code below --\n",
        "    \n"
      ]
    },
    {
      "cell_type": "markdown",
      "metadata": {
        "id": "RdTOkFZkWB0G"
      },
      "source": [
        "## Congradulations \n",
        "\n",
        "We've just started our Python journey.  On to bigger and more interesting analysis.\n",
        "\n"
      ]
    },
    {
      "cell_type": "code",
      "execution_count": null,
      "metadata": {
        "id": "NIh_VV5LWB0G"
      },
      "outputs": [],
      "source": []
    }
  ],
  "metadata": {
    "kernelspec": {
      "display_name": "Python 3",
      "language": "python",
      "name": "python3"
    },
    "language_info": {
      "codemirror_mode": {
        "name": "ipython",
        "version": 3
      },
      "file_extension": ".py",
      "mimetype": "text/x-python",
      "name": "python",
      "nbconvert_exporter": "python",
      "pygments_lexer": "ipython3",
      "version": "3.8.5"
    },
    "colab": {
      "provenance": [],
      "include_colab_link": true
    }
  },
  "nbformat": 4,
  "nbformat_minor": 0
}