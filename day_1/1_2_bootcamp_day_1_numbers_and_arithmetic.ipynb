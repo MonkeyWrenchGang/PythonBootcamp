{
  "nbformat": 4,
  "nbformat_minor": 0,
  "metadata": {
    "colab": {
      "provenance": [],
      "authorship_tag": "ABX9TyMecrBAgclVCwZPvrk6IwLt",
      "include_colab_link": true
    },
    "kernelspec": {
      "name": "python3",
      "display_name": "Python 3"
    },
    "language_info": {
      "name": "python"
    }
  },
  "cells": [
    {
      "cell_type": "markdown",
      "metadata": {
        "id": "view-in-github",
        "colab_type": "text"
      },
      "source": [
        "<a href=\"https://colab.research.google.com/github/MonkeyWrenchGang/PythonBootcamp/blob/main/day_1/1_2_bootcamp_day_1_numbers_and_arithmetic.ipynb\" target=\"_parent\"><img src=\"https://colab.research.google.com/assets/colab-badge.svg\" alt=\"Open In Colab\"/></a>"
      ]
    },
    {
      "cell_type": "markdown",
      "source": [
        "# Introduction to Python Numbers and Arithmetic\n",
        "\n",
        "Python provides powerful capabilities for working with numbers and performing arithmetic operations. In this notebook, we will explore the basics of Python numbers, including different types of numbers and the operations that can be performed on them.\n",
        "\n",
        "## Number Types in Python\n",
        "\n",
        "Python supports various types of numbers, including:\n",
        "\n",
        "- Integers (`int`): Whole numbers without a fractional part.\n",
        "- Floating-point numbers (`float`): Numbers with a fractional part.\n",
        "\n",
        "## Arithmetic Operations\n",
        "\n",
        "Python provides a set of arithmetic operators to perform mathematical computations on numbers:\n",
        "\n",
        "- Addition (`+`): Adds two numbers together.\n",
        "- Subtraction (`-`): Subtracts one number from another.\n",
        "- Multiplication (`*`): Multiplies two numbers.\n",
        "- Division (`/`): Divides one number by another.\n",
        "- Floor Division (`//`): Performs integer division, discarding the fractional part.\n",
        "- Modulo (`%`): Calculates the remainder of division.\n",
        "- Exponentiation (`**`): Raises a number to the power of another.\n",
        "\n",
        "## Numeric Functions\n",
        "\n",
        "Python also offers built-in functions and modules for performing common numeric operations:\n",
        "\n",
        "- `abs()`: Returns the absolute value of a number.\n",
        "- `round()`: Rounds a number to a specified number of decimal places.\n",
        "- `math` module: Provides additional mathematical functions and constants.\n",
        "\n",
        "Throughout this notebook, we will explore examples and exercises to reinforce our understanding of Python numbers and arithmetic operations.\n",
        "\n",
        "Let's dive into the fascinating world of Python numbers and arithmetic!\n",
        "\n",
        "\n"
      ],
      "metadata": {
        "id": "M2vu06TDgkiI"
      }
    },
    {
      "cell_type": "code",
      "execution_count": null,
      "metadata": {
        "colab": {
          "base_uri": "https://localhost:8080/"
        },
        "id": "ZzsUk6BXgWz5",
        "outputId": "0e4816ca-5833-438d-d037-d7e26a678522"
      },
      "outputs": [
        {
          "output_type": "stream",
          "name": "stdout",
          "text": [
            "Addition: 8\n",
            "Subtraction: 8\n",
            "Multiplication: 20\n",
            "Division: 5.0\n",
            "Exponentiation: 8\n",
            "Modulo: 1\n"
          ]
        }
      ],
      "source": [
        "\n",
        "\n",
        "# Addition\n",
        "x = 5 + 3\n",
        "print(\"Addition:\", x)  # Output: 8\n",
        "\n",
        "# Subtraction\n",
        "y = 10 - 2\n",
        "print(\"Subtraction:\", y)  # Output: 8\n",
        "\n",
        "# Multiplication\n",
        "z = 4 * 5\n",
        "print(\"Multiplication:\", z)  # Output: 20\n",
        "\n",
        "# Division\n",
        "a = 15 / 3\n",
        "print(\"Division:\", a)  # Output: 5.0\n",
        "\n",
        "# Exponentiation\n",
        "b = 2 ** 3\n",
        "print(\"Exponentiation:\", b)  # Output: 8\n",
        "\n",
        "# Modulo\n",
        "c = 10 % 3\n",
        "print(\"Modulo:\", c)  # Output: 1\n"
      ]
    },
    {
      "cell_type": "markdown",
      "source": [
        "# Type Conversion\n",
        "\n",
        "\n",
        "---\n",
        "\n"
      ],
      "metadata": {
        "id": "Qu71UhhvhNDZ"
      }
    },
    {
      "cell_type": "code",
      "source": [
        "\n",
        "\n",
        "# Integer to float\n",
        "x = 5\n",
        "float_x = float(x)\n",
        "print(\"Integer to float  :\", float_x)  # Output: 5.0\n",
        "\n",
        "# Float to integer\n",
        "y = 3.14\n",
        "int_y = int(y)\n",
        "print(\"Float to integer  :\", int_y)  # Output: 3\n",
        "\n",
        "\n",
        "# String to Integer\n",
        "z = \"50\"\n",
        "int_z = int(z)\n",
        "print(\"String to Integer :\", int_z )  # Output: 50\n",
        "\n",
        "# String to Float\n",
        "a = \"5.123\"\n",
        "float_a = float(a)\n",
        "print(\"String to Float :\", float_a )  # Output: 5.123"
      ],
      "metadata": {
        "colab": {
          "base_uri": "https://localhost:8080/"
        },
        "id": "tqwMZ67YhNRf",
        "outputId": "07772c99-cde9-4ed3-ebff-e35709036436"
      },
      "execution_count": null,
      "outputs": [
        {
          "output_type": "stream",
          "name": "stdout",
          "text": [
            "Integer to float  : 5.0\n",
            "Float to integer  : 3\n",
            "String to Integer : 50\n",
            "String to Float : 5.123\n"
          ]
        }
      ]
    },
    {
      "cell_type": "markdown",
      "source": [
        "# Let's see a common conversion error\n",
        "\n",
        "\n",
        "---\n",
        "\n",
        "copy and paste the code below and run it. \n",
        "\n",
        "```python\n",
        "# String-Float to Int = Error\n",
        "a = \"5.123\"\n",
        "float_a = int(a)\n",
        "print(\"String-Float  to Integer:\", float_a )  # Output: Error\n",
        "```"
      ],
      "metadata": {
        "id": "amIKWon3i9f6"
      }
    },
    {
      "cell_type": "code",
      "source": [],
      "metadata": {
        "id": "0QOwXSHthsw3"
      },
      "execution_count": null,
      "outputs": []
    },
    {
      "cell_type": "markdown",
      "source": [
        "## Numeric Functions\n",
        "\n",
        "Python provides several built-in functions and modules for performing common numeric operations. Let's explore some of the key functions:\n",
        "\n",
        "### `abs()`\n",
        "\n",
        "The `abs()` function returns the absolute value of a number, which is its distance from zero. It ensures that the result is always positive, regardless of the input's sign.\n",
        "\n",
        "Example:\n",
        "```python\n",
        "abs(-5)  # Output: 5\n",
        "abs(3.14)  # Output: 3.14\n",
        "```\n",
        "\n",
        "```python\n",
        "round(3.14159, 2)  # Output: 3.14\n",
        "round(3.5)  # Output: 4\n",
        "```\n"
      ],
      "metadata": {
        "id": "0hJojbqSm6AQ"
      }
    },
    {
      "cell_type": "markdown",
      "source": [],
      "metadata": {
        "id": "lcR_mGxGnNvg"
      }
    },
    {
      "cell_type": "code",
      "source": [],
      "metadata": {
        "id": "o8XovPAhnNG6"
      },
      "execution_count": null,
      "outputs": []
    },
    {
      "cell_type": "markdown",
      "source": [
        "## Math Module\n",
        "Python's `math` module provides additional mathematical functions and constants. To use functions from the math module, you need to import it first.\n",
        "\n",
        "```python\n",
        "import math\n",
        "\n",
        "math.sqrt(25)  # Output: 5.0\n",
        "math.sin(math.pi / 2)  # Output: 1.0\n",
        "\n",
        "```\n",
        "\n",
        "Some commonly used functions from the math module include `sqrt()` for square root, `sin()` for sine, `cos()` for cosine, `tan()` for tangent, and more."
      ],
      "metadata": {
        "id": "WWmS33tMnOjX"
      }
    },
    {
      "cell_type": "code",
      "source": [],
      "metadata": {
        "id": "DXLHCr_WnO8m"
      },
      "execution_count": null,
      "outputs": []
    },
    {
      "cell_type": "markdown",
      "source": [
        "# Exercies \n",
        "\n",
        "\n",
        "---\n",
        "\n",
        "For each exercise, use the following structure to obtain user input, For example, in Exercise 1, you would write two input statements as follows:\n",
        "\n",
        "```python\n",
        "num1 = float(input(\"Enter the first number: \"))\n",
        "num2 = float(input(\"Enter the second number: \"))\n",
        "```"
      ],
      "metadata": {
        "id": "tjRCu3v9n-by"
      }
    },
    {
      "cell_type": "markdown",
      "source": [
        "# Exercise 1: Simple Calculator\n",
        "Write a program that prompts the user to enter two numbers and performs basic arithmetic operations (addition, subtraction, multiplication, and division) on those numbers.\n",
        "\n",
        "```python\n",
        "num1 = float(input(\"Enter the first number: \"))\n",
        "num2 = float(input(\"Enter the second number: \"))\n",
        "\n",
        "```"
      ],
      "metadata": {
        "id": "H7lsDauEntnf"
      }
    },
    {
      "cell_type": "code",
      "source": [],
      "metadata": {
        "id": "F1RZc7KenzYs"
      },
      "execution_count": null,
      "outputs": []
    },
    {
      "cell_type": "markdown",
      "source": [
        "# Exercise 2: Area of a Circle\n",
        "\n",
        "Write a program that prompts the user for the radius of a circle and calculates its area using the formula A = πr^2. Display the result with an appropriate message.\n"
      ],
      "metadata": {
        "id": "o4uP2RTDnzhS"
      }
    },
    {
      "cell_type": "code",
      "source": [],
      "metadata": {
        "id": "J9v2brRHn3VS"
      },
      "execution_count": null,
      "outputs": []
    },
    {
      "cell_type": "markdown",
      "source": [
        "# Exercise 3: Celsius to Fahrenheit Conversion\n",
        "\n",
        "Write a program that prompts the user to enter a temperature in Celsius and converts it to Fahrenheit using the formula F = (C * 9/5) + 32. Display the result with an appropriate message.\n"
      ],
      "metadata": {
        "id": "iIIF115hn3ep"
      }
    },
    {
      "cell_type": "code",
      "source": [],
      "metadata": {
        "id": "CiLfs-oXn7_f"
      },
      "execution_count": null,
      "outputs": []
    },
    {
      "cell_type": "markdown",
      "source": [
        "# Exercise 4: Simple Interest Calculator\n",
        "Write a program that prompts the user to enter the principal amount, interest rate, and time (in years). Calculate the simple interest using the formula SI = (P * R * T) / 100 and display the result with an appropriate message."
      ],
      "metadata": {
        "id": "H24PBJDbn8OS"
      }
    },
    {
      "cell_type": "markdown",
      "source": [
        "# Sample Answers Below"
      ],
      "metadata": {
        "id": "MAS-ZFe_oHrM"
      }
    },
    {
      "cell_type": "code",
      "source": [
        "# Ex 1.\n",
        "num1 = float(input(\"Enter the first number: \"))\n",
        "num2 = float(input(\"Enter the second number: \"))\n",
        "\n",
        "addition = num1 + num2\n",
        "subtraction = num1 - num2\n",
        "multiplication = num1 * num2\n",
        "division = num1 / num2\n",
        "\n",
        "print(\"Addition:\", addition)\n",
        "print(\"Subtraction:\", subtraction)\n",
        "print(\"Multiplication:\", multiplication)\n",
        "print(\"Division:\", division)\n"
      ],
      "metadata": {
        "id": "YqW-SMt9oLHL"
      },
      "execution_count": null,
      "outputs": []
    },
    {
      "cell_type": "code",
      "source": [
        "# Ex 2. \n",
        "import math\n",
        "\n",
        "radius = float(input(\"Enter the radius of the circle: \"))\n",
        "\n",
        "area = math.pi * radius**2\n",
        "\n",
        "print(\"The area of the circle is:\", area)\n"
      ],
      "metadata": {
        "id": "xOB0OeguoNTy"
      },
      "execution_count": null,
      "outputs": []
    },
    {
      "cell_type": "code",
      "source": [
        "# Ex 3. \n",
        "celsius = float(input(\"Enter the temperature in Celsius: \"))\n",
        "\n",
        "fahrenheit = (celsius * 9/5) + 32\n",
        "\n",
        "print(\"The temperature in Fahrenheit is:\", fahrenheit)\n"
      ],
      "metadata": {
        "id": "p1WBpg_JoR_i"
      },
      "execution_count": null,
      "outputs": []
    },
    {
      "cell_type": "code",
      "source": [
        "# Ex 4. \n",
        "principal = float(input(\"Enter the principal amount: \"))\n",
        "rate = float(input(\"Enter the interest rate: \"))\n",
        "time = float(input(\"Enter the time (in years): \"))\n",
        "\n",
        "simple_interest = (principal * rate * time) / 100\n",
        "\n",
        "print(\"The simple interest is:\", simple_interest)\n"
      ],
      "metadata": {
        "id": "fV9dvVQEoWo-"
      },
      "execution_count": null,
      "outputs": []
    }
  ]
}