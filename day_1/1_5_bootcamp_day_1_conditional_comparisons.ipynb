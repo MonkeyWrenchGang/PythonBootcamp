{
  "nbformat": 4,
  "nbformat_minor": 0,
  "metadata": {
    "colab": {
      "provenance": [],
      "authorship_tag": "ABX9TyPSRuq7aXI1SM4fWvPLaEak",
      "include_colab_link": true
    },
    "kernelspec": {
      "name": "python3",
      "display_name": "Python 3"
    },
    "language_info": {
      "name": "python"
    }
  },
  "cells": [
    {
      "cell_type": "markdown",
      "metadata": {
        "id": "view-in-github",
        "colab_type": "text"
      },
      "source": [
        "<a href=\"https://colab.research.google.com/github/MonkeyWrenchGang/PythonBootcamp/blob/main/day_1/1_5_bootcamp_day_1_conditional_comparisons.ipynb\" target=\"_parent\"><img src=\"https://colab.research.google.com/assets/colab-badge.svg\" alt=\"Open In Colab\"/></a>"
      ]
    },
    {
      "cell_type": "markdown",
      "source": [
        "# Python Notebook: Conditionals and Comparisons\n",
        "\n",
        "---\n",
        "\n",
        "In this notebook, we will explore the concepts of conditionals and comparisons in Python. Conditionals allow us to make decisions and execute different blocks of code based on certain conditions. Comparisons, on the other hand, enable us to compare values and determine their relationships.\n",
        "\n",
        "We will cover the following topics:\n",
        "\n",
        "1. Conditional Statements: if, elif, else\n",
        "2. Comparison Operators: ==, !=, >, <, >=, <=\n",
        "3. Logical Operators: and, or, not\n",
        "4. Nested Conditionals: Multiple levels of conditions\n",
        "5. Chained Comparisons: Combining multiple comparisons in a single statement\n",
        "\n",
        "---\n",
        "\n",
        "## Conditional Statements: if, elif, else\n",
        "\n",
        "Conditional statements allow us to control the flow of our program based on certain conditions. The `if` statement is used to execute a block of code if a specified condition is true. The `elif` statement provides additional conditions to check, and the `else` statement is used as a fallback when all other conditions are false.\n",
        "\n",
        "Example:\n",
        "```python\n",
        "x = 5\n",
        "if x > 0:\n",
        "    print(\"x is positive\")\n",
        "elif x < 0:\n",
        "    print(\"x is negative\")\n",
        "else:\n",
        "    print(\"x is zero\")\n",
        "```"
      ],
      "metadata": {
        "id": "Ews_8skIQVZg"
      }
    },
    {
      "cell_type": "markdown",
      "source": [
        "## Comparison Operators: ==, !=, >, <, >=, <=\n",
        "\n",
        "\n",
        "---\n",
        "\n",
        "\n",
        "Python provides a set of comparison operators that allow us to compare values and determine their relationships. These operators include == (equal to), != (not equal to), > (greater than), < (less than), >= (greater than or equal to), and <= (less than or equal to).\n",
        "\n",
        "Example:\n",
        "\n",
        "```python\n",
        "x = 5\n",
        "y = 3\n",
        "if x > y:\n",
        "    print(\"x is greater than y\")\n",
        "elif x < y:\n",
        "    print(\"x is less than y\")\n",
        "else:\n",
        "    print(\"x and y are equal\")\n",
        "\n",
        "```"
      ],
      "metadata": {
        "id": "3iZekb9rv3_6"
      }
    },
    {
      "cell_type": "code",
      "source": [],
      "metadata": {
        "id": "YoVJd9cRv9cW"
      },
      "execution_count": null,
      "outputs": []
    },
    {
      "cell_type": "markdown",
      "source": [
        "## Logical Operators: and, or, not\n",
        "\n",
        "\n",
        "---\n",
        "\n",
        "\n",
        "Logical operators allow us to combine multiple conditions and create more complex expressions. The and operator returns true if both conditions are true. The or operator returns true if at least one condition is true. The not operator is used to negate the result of a condition.\n",
        "\n",
        "example: \n",
        "\n",
        "```python\n",
        "x = 5\n",
        "y = 10\n",
        "if x > 0 and y > 0:\n",
        "    print(\"Both x and y are positive\")\n",
        "if x > 0 or y > 0:\n",
        "    print(\"At least one of x or y is positive\")\n",
        "if not (x < y):\n",
        "    print(\"x is not less than y\")\n",
        "\n",
        "```"
      ],
      "metadata": {
        "id": "KJsLK-I5v_8x"
      }
    },
    {
      "cell_type": "code",
      "source": [],
      "metadata": {
        "id": "nx0JpyplwGlR"
      },
      "execution_count": null,
      "outputs": []
    },
    {
      "cell_type": "markdown",
      "source": [
        "## Exercise 1: Number Comparison\n",
        "Write a program that prompts the user to enter two numbers. Compare the numbers and display a message indicating whether the first number is greater than, less than, or equal to the second number."
      ],
      "metadata": {
        "id": "Ow1CzkBfwG7J"
      }
    },
    {
      "cell_type": "code",
      "source": [],
      "metadata": {
        "id": "Oe9nq_c_wQ9l"
      },
      "execution_count": null,
      "outputs": []
    },
    {
      "cell_type": "markdown",
      "source": [
        "## Exercise 2: Grade Calculator\n",
        "\n",
        "Write a program that prompts the user to enter a numerical grade. Based on the grade entered, display the corresponding letter grade using the following scale:\n",
        "\n",
        "- 90 or above: A\n",
        "- 80-89: B\n",
        "- 70-79: C\n",
        "- 60-69: D\n",
        "- Below 60: F\n",
        "\n",
        "Starter :\n",
        "\n",
        "```python\n",
        "grade = int(input(\"Enter your numerical grade: \"))\n",
        "\n",
        "# your code\n",
        "\n",
        "print(\"Your letter grade is:\", letter_grade)\n",
        "```\n",
        "\n",
        "\n"
      ],
      "metadata": {
        "id": "OkVra54gwRnA"
      }
    },
    {
      "cell_type": "code",
      "source": [],
      "metadata": {
        "id": "nnUSg859wgqT"
      },
      "execution_count": null,
      "outputs": []
    },
    {
      "cell_type": "markdown",
      "source": [
        "Exercise 3: Age Group Categorizer\n",
        "\n",
        "Write a program that prompts the user to enter their age. Based on the age entered, display a message indicating the appropriate age group category: \n",
        "- \"Child\" (0-12), \n",
        "- \"Teen\" (13-19), \n",
        "- \"Adult\" (20-59), \n",
        "- \"Senior\" (60 and above).\n",
        "\n",
        "Example:\n",
        "\n",
        "```python\n",
        "age = int(input(\"Enter your age: \"))\n",
        "\n",
        "# starter\n",
        "\n",
        "print(\"Your age group is:\", age_group)\n",
        "```"
      ],
      "metadata": {
        "id": "Rt0ad79rwfwz"
      }
    },
    {
      "cell_type": "code",
      "source": [],
      "metadata": {
        "id": "iuckgx8hwgH7"
      },
      "execution_count": null,
      "outputs": []
    },
    {
      "cell_type": "markdown",
      "source": [
        "Exercise 4: Leap Year Checker\n",
        "\n",
        "Write a program that prompts the user to enter a year. Check if the year is a leap year and display an appropriate message indicating whether it is or not. A leap year is divisible by 4 but not divisible by 100, except if it is also divisible by 400.\n",
        "\n",
        "Starter:\n",
        "\n",
        "```python\n",
        "year = int(input(\"Enter a year: \"))\n",
        "\n",
        "\n",
        "print(year, leap_year_message)\n",
        "```"
      ],
      "metadata": {
        "id": "X4aYXBbxwiyP"
      }
    },
    {
      "cell_type": "code",
      "source": [],
      "metadata": {
        "id": "cIcjLlPvwtqF"
      },
      "execution_count": null,
      "outputs": []
    },
    {
      "cell_type": "markdown",
      "source": [
        "## Exercise 5: Triangle Classifier\n",
        "\n",
        "Write a program that prompts the user to enter three side lengths of a triangle. Based on the lengths entered, classify the triangle as \"Equilateral\" (all sides are equal), \"Isosceles\" (two sides are equal), or \"Scalene\" (no sides are equal).\n",
        "\n",
        "starter:\n",
        "\n",
        "```python\n",
        "side1 = float(input(\"Enter the length of the first side: \"))\n",
        "side2 = float(input(\"Enter the length of the second side: \"))\n",
        "side3 = float(input(\"Enter the length of the third side: \"))\n",
        "\n",
        "\n",
        "\n",
        "print(\"The triangle is:\", triangle_type)\n",
        "\n",
        "```\n"
      ],
      "metadata": {
        "id": "JVv_byaPwt7w"
      }
    },
    {
      "cell_type": "code",
      "execution_count": null,
      "metadata": {
        "id": "ESnhagikQTV1"
      },
      "outputs": [],
      "source": []
    },
    {
      "cell_type": "markdown",
      "source": [
        "# Potential Solutions \n",
        "\n",
        "\n",
        "---\n",
        "\n"
      ],
      "metadata": {
        "id": "1h9ORnLHxaYE"
      }
    },
    {
      "cell_type": "code",
      "source": [
        "# Exercise 1: Number Comparison\n",
        "num1 = float(input(\"Enter the first number: \"))\n",
        "num2 = float(input(\"Enter the second number: \"))\n",
        "\n",
        "if num1 > num2:\n",
        "    print(\"The first number is greater than the second number\")\n",
        "elif num1 < num2:\n",
        "    print(\"The first number is less than the second number\")\n",
        "else:\n",
        "    print(\"The first number is equal to the second number\")\n",
        "\n",
        "# Exercise 2: Grade Calculator\n",
        "grade = int(input(\"Enter your numerical grade: \"))\n",
        "\n",
        "if grade >= 90:\n",
        "    letter_grade = \"A\"\n",
        "elif grade >= 80:\n",
        "    letter_grade = \"B\"\n",
        "elif grade >= 70:\n",
        "    letter_grade = \"C\"\n",
        "elif grade >= 60:\n",
        "    letter_grade = \"D\"\n",
        "else:\n",
        "    letter_grade = \"F\"\n",
        "\n",
        "print(\"Your letter grade is:\", letter_grade)\n",
        "\n",
        "# Exercise 3: Age Group Categorizer\n",
        "age = int(input(\"Enter your age: \"))\n",
        "\n",
        "if age >= 0 and age <= 12:\n",
        "    age_group = \"Child\"\n",
        "elif age >= 13 and age <= 19:\n",
        "    age_group = \"Teen\"\n",
        "elif age >= 20 and age <= 59:\n",
        "    age_group = \"Adult\"\n",
        "else:\n",
        "    age_group = \"Senior\"\n",
        "\n",
        "print(\"Your age group is:\", age_group)\n",
        "\n",
        "# Exercise 4: Leap Year Checker\n",
        "year = int(input(\"Enter a year: \"))\n",
        "\n",
        "if (year % 4 == 0 and year % 100 != 0) or year % 400 == 0:\n",
        "    leap_year_message = \"is a leap year\"\n",
        "else:\n",
        "    leap_year_message = \"is not a leap year\"\n",
        "\n",
        "print(year, leap_year_message)\n",
        "\n",
        "# Exercise 5: Triangle Classifier\n",
        "side1 = float(input(\"Enter the length of the first side: \"))\n",
        "side2 = float(input(\"Enter the length of the second side: \"))\n",
        "side3 = float(input(\"Enter the length of the third side: \"))\n",
        "\n",
        "if side1 == side2 == side3:\n",
        "    triangle_type = \"Equilateral\"\n",
        "elif side1 == side2 or side1 == side3 or side2 == side3:\n",
        "    triangle_type = \"Isosceles\"\n",
        "else:\n",
        "    triangle_type = \"Scalene\"\n",
        "\n",
        "print(\"The triangle is:\", triangle_type)\n"
      ],
      "metadata": {
        "id": "wphTGzW0QeYx"
      },
      "execution_count": null,
      "outputs": []
    }
  ]
}