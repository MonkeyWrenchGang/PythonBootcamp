{
  "nbformat": 4,
  "nbformat_minor": 0,
  "metadata": {
    "colab": {
      "provenance": [],
      "authorship_tag": "ABX9TyNxWOIKOh+jtMqELvCeqRI4",
      "include_colab_link": true
    },
    "kernelspec": {
      "name": "python3",
      "display_name": "Python 3"
    },
    "language_info": {
      "name": "python"
    }
  },
  "cells": [
    {
      "cell_type": "markdown",
      "metadata": {
        "id": "view-in-github",
        "colab_type": "text"
      },
      "source": [
        "<a href=\"https://colab.research.google.com/github/MonkeyWrenchGang/PythonBootcamp/blob/main/day_5/5_1_Python_Syntax_Review.ipynb\" target=\"_parent\"><img src=\"https://colab.research.google.com/assets/colab-badge.svg\" alt=\"Open In Colab\"/></a>"
      ]
    },
    {
      "cell_type": "markdown",
      "source": [
        "# Python Syntax Review Notebook\n",
        "\n",
        "This notebook is a review of basic Python syntax and concepts. It covers essential topics such as variable creation, string concatenation, printing and f-strings, creating lists, appending to lists, creating dictionaries, looking up key-value pairs, and provides examples of for loops and while loops.\n",
        "\n",
        "You can use this notebook as a reference or run the code examples to see the output.\n",
        "\n",
        "Let's dive into the Python syntax review!\n",
        "\n"
      ],
      "metadata": {
        "id": "CzQFW60fqDAV"
      }
    },
    {
      "cell_type": "markdown",
      "source": [
        "## Basic Variable Creation\n",
        "\n",
        "\n",
        "---\n",
        "\n"
      ],
      "metadata": {
        "id": "VRxlUNKmqtRF"
      }
    },
    {
      "cell_type": "code",
      "source": [
        "# Variable Creation\n",
        "x = 10\n",
        "y = \"Hello, World!\"\n",
        "z = 3.14\n",
        "print(x)\n",
        "print(y)\n",
        "print(z)"
      ],
      "metadata": {
        "id": "BVRvJyZuqwqw"
      },
      "execution_count": null,
      "outputs": []
    },
    {
      "cell_type": "markdown",
      "source": [
        "## Messing with Strings\n",
        "\n",
        "\n",
        "---\n",
        "\n"
      ],
      "metadata": {
        "id": "aO1Om9b0q20W"
      }
    },
    {
      "cell_type": "code",
      "source": [
        "# String Concatenation\n",
        "name = input(\"enter your name: \")\n",
        "greeting = \"Hello, \" + name + \"!\"\n",
        "# printing\n",
        "print(f\"{greeting}\")\n",
        "\n",
        "age = int(input(\"enter your age: \"))\n",
        "print(f\"next year you will be {age+1} years old\")"
      ],
      "metadata": {
        "colab": {
          "base_uri": "https://localhost:8080/"
        },
        "id": "BgEwuY03q68C",
        "outputId": "3ddae344-c961-4b0b-e263-2863d851654f"
      },
      "execution_count": null,
      "outputs": [
        {
          "output_type": "stream",
          "name": "stdout",
          "text": [
            "enter your name: M\n",
            "Hello, M!\n",
            "enter your age: 10\n",
            "next year you will be 11\n"
          ]
        }
      ]
    },
    {
      "cell_type": "markdown",
      "source": [
        "## Playing w. Print\n",
        "\n",
        "\n",
        "---\n",
        "\n",
        "\n"
      ],
      "metadata": {
        "id": "X5EyOH9grdIU"
      }
    },
    {
      "cell_type": "code",
      "source": [
        "# Print and f-strings and .format()\n",
        "\n",
        "sport = input(\"what is your favorite sport: \")\n",
        "player_salary = float(input(\"how much does an average player make?\"))\n",
        "print(f\"Your favorite sport is {sport}.\")\n",
        "print(\"The average player makes ${:,.2f}.\".format(player_salary))"
      ],
      "metadata": {
        "id": "VbDSQEClrkSt"
      },
      "execution_count": null,
      "outputs": []
    },
    {
      "cell_type": "markdown",
      "source": [
        "# Messing with Lists\n",
        "\n",
        "\n",
        "---\n",
        "\n"
      ],
      "metadata": {
        "id": "voCYzC0XsLQN"
      }
    },
    {
      "cell_type": "code",
      "source": [
        "# List of Top Movies\n",
        "top_movies = [\n",
        "    \"The Shawshank Redemption\",\n",
        "    \"The Godfather\",\n",
        "    \"The Dark Knight\",\n",
        "    \"Pulp Fiction\",\n",
        "    \"Fight Club\",\n",
        "    \"Goodfellas\",\n",
        "    \"Inception\",\n",
        "    \"The Matrix\",\n",
        "    \"Schindler's List\",\n",
        "    \"The Lord of the Rings: The Return of the King\"\n",
        "]\n",
        "\n",
        "# Append a Movie to the List\n",
        "new_movie = \"Interstellar\"\n",
        "top_movies.append(new_movie)\n",
        "\n",
        "# Printing the Top Movies\n",
        "print(\"Top Movies:\")\n",
        "for movie in top_movies:\n",
        "    print(movie)"
      ],
      "metadata": {
        "colab": {
          "base_uri": "https://localhost:8080/"
        },
        "id": "Go0bQEd7sUCX",
        "outputId": "030024e7-e001-4892-9eb9-afffb04dd1c5"
      },
      "execution_count": null,
      "outputs": [
        {
          "output_type": "stream",
          "name": "stdout",
          "text": [
            "Top Movies:\n",
            "The Shawshank Redemption\n",
            "The Godfather\n",
            "The Dark Knight\n",
            "Pulp Fiction\n",
            "Fight Club\n",
            "Goodfellas\n",
            "Inception\n",
            "The Matrix\n",
            "Schindler's List\n",
            "The Lord of the Rings: The Return of the King\n",
            "Interstellar\n"
          ]
        }
      ]
    },
    {
      "cell_type": "markdown",
      "source": [
        "## Dictionaries"
      ],
      "metadata": {
        "id": "OnBlPpbksf9Z"
      }
    },
    {
      "cell_type": "code",
      "source": [
        "# South Park Dictionary\n",
        "south_park = {\n",
        "    \"title\": \"South Park\",\n",
        "    \"creators\": [\"Trey Parker\", \"Matt Stone\"],\n",
        "    \"premiere_year\": 1997,\n",
        "    \"main_characters\": [\"Stan Marsh\", \"Kyle Broflovski\", \"Eric Cartman\", \"Kenny McCormick\"],\n",
        "    \"genre\": \"Animated sitcom\",\n",
        "    \"country\": \"United States\",\n",
        "    \"num_seasons\": 24\n",
        "}\n",
        "\n",
        "# Accessing Information in the South Park Dictionary\n",
        "print(f\"Title: {south_park['title']}\")\n",
        "print(f\"Creators: {', '.join(south_park['creators'])}\")\n",
        "print(f\"Premiere Year: {south_park['premiere_year']}\")\n",
        "print(f\"Main Characters: {', '.join(south_park['main_characters'])}\")\n",
        "print(f\"Genre: {south_park['genre']}\")\n",
        "print(f\"Country: {south_park['country']}\")\n",
        "print(f\"Number of Seasons: {south_park['num_seasons']}\")"
      ],
      "metadata": {
        "colab": {
          "base_uri": "https://localhost:8080/"
        },
        "id": "9vLN9LTRsnDF",
        "outputId": "debf6201-1fb7-4ede-af09-560c0baca293"
      },
      "execution_count": null,
      "outputs": [
        {
          "output_type": "stream",
          "name": "stdout",
          "text": [
            "Title: South Park\n",
            "Creators: Trey Parker, Matt Stone\n",
            "Premiere Year: 1997\n",
            "Main Characters: Stan Marsh, Kyle Broflovski, Eric Cartman, Kenny McCormick\n",
            "Genre: Animated sitcom\n",
            "Country: United States\n",
            "Number of Seasons: 24\n"
          ]
        }
      ]
    },
    {
      "cell_type": "markdown",
      "source": [
        "## Dictionary of Dictionaries\n",
        "\n"
      ],
      "metadata": {
        "id": "sNZ-s5Cgs4BR"
      }
    },
    {
      "cell_type": "code",
      "source": [
        "# Dictionary of South Park Characters\n",
        "south_park_characters = {\n",
        "    \"Stan\": {\n",
        "        \"age\": 10,\n",
        "        \"gender\": \"Male\",\n",
        "        \"occupation\": \"Student\",\n",
        "        \"best_friend\": \"Kyle\"\n",
        "    },\n",
        "    \"Kyle\": {\n",
        "        \"age\": 10,\n",
        "        \"gender\": \"Male\",\n",
        "        \"occupation\": \"Student\",\n",
        "        \"best_friend\": \"Stan\"\n",
        "    },\n",
        "    \"Cartman\": {\n",
        "        \"age\": 10,\n",
        "        \"gender\": \"Male\",\n",
        "        \"occupation\": \"Student\",\n",
        "        \"best_friend\": \"Butters\"\n",
        "    },\n",
        "    \"Butters\": {\n",
        "        \"age\": 10,\n",
        "        \"gender\": \"Male\",\n",
        "        \"occupation\": \"Student\",\n",
        "        \"best_friend\": \"Cartman\"\n",
        "    },\n",
        "    \"Wendy\": {\n",
        "        \"age\": 10,\n",
        "        \"gender\": \"Female\",\n",
        "        \"occupation\": \"Student\",\n",
        "        \"best_friend\": \"Bebe\"\n",
        "    },\n",
        "    \"Bebe\": {\n",
        "        \"age\": 10,\n",
        "        \"gender\": \"Female\",\n",
        "        \"occupation\": \"Student\",\n",
        "        \"best_friend\": \"Wendy\"\n",
        "    }\n",
        "}\n",
        "\n",
        "\n",
        "# Accessing Information in the South Park Characters Dictionary\n",
        "for character, details in south_park_characters.items():\n",
        "    print(f\"\\nCharacter: {character}\")\n",
        "    print(f\"Age: {details['age']}\")\n",
        "    print(f\"Gender: {details['gender']}\")\n",
        "    print(f\"Occupation: {details['occupation']}\")\n",
        "    print(f\"Best Friend: {details['best_friend']}\")\n"
      ],
      "metadata": {
        "colab": {
          "base_uri": "https://localhost:8080/"
        },
        "id": "Zd4ryiAdtKFO",
        "outputId": "840c61f1-2ec9-4721-d1ab-229922b45929"
      },
      "execution_count": null,
      "outputs": [
        {
          "output_type": "stream",
          "name": "stdout",
          "text": [
            "\n",
            "Character: Stan\n",
            "Age: 10\n",
            "Gender: Male\n",
            "Occupation: Student\n",
            "Best Friend: Kyle\n",
            "\n",
            "Character: Kyle\n",
            "Age: 10\n",
            "Gender: Male\n",
            "Occupation: Student\n",
            "Best Friend: Stan\n",
            "\n",
            "Character: Cartman\n",
            "Age: 10\n",
            "Gender: Male\n",
            "Occupation: Student\n",
            "Best Friend: Butters\n",
            "\n",
            "Character: Butters\n",
            "Age: 10\n",
            "Gender: Male\n",
            "Occupation: Student\n",
            "Best Friend: Cartman\n",
            "\n",
            "Character: Wendy\n",
            "Age: 10\n",
            "Gender: Female\n",
            "Occupation: Student\n",
            "Best Friend: Bebe\n",
            "\n",
            "Character: Bebe\n",
            "Age: 10\n",
            "Gender: Female\n",
            "Occupation: Student\n",
            "Best Friend: Wendy\n"
          ]
        }
      ]
    },
    {
      "cell_type": "markdown",
      "source": [
        "# Fun with FOR Loops"
      ],
      "metadata": {
        "id": "Epd1skmYtecp"
      }
    },
    {
      "cell_type": "code",
      "source": [
        "import time\n",
        "\n",
        "# Sound effect function\n",
        "def play_sound_effect(effect):\n",
        "    print(effect)\n",
        "\n",
        "# Countdown with Sound Effects\n",
        "countdown = 5\n",
        "\n",
        "print(\"Get ready for takeoff!\")\n",
        "time.sleep(1)\n",
        "\n",
        "for i in range(countdown, 0, -1):\n",
        "    play_sound_effect(\"Beep!\")\n",
        "    print(i)\n",
        "    time.sleep(1)\n",
        "\n",
        "play_sound_effect(\"Blastoff!\")\n",
        "print(\"Houston, we have liftoff!\")"
      ],
      "metadata": {
        "colab": {
          "base_uri": "https://localhost:8080/"
        },
        "id": "Y8LnT3matlAr",
        "outputId": "61d9fd0e-d050-4385-8ac3-fe7b8aba0f34"
      },
      "execution_count": null,
      "outputs": [
        {
          "output_type": "stream",
          "name": "stdout",
          "text": [
            "Get ready for takeoff!\n",
            "Beep!\n",
            "5\n",
            "Beep!\n",
            "4\n",
            "Beep!\n",
            "3\n",
            "Beep!\n",
            "2\n",
            "Beep!\n",
            "1\n",
            "Blastoff!\n",
            "Houston, we have liftoff!\n"
          ]
        }
      ]
    },
    {
      "cell_type": "markdown",
      "source": [
        "# While Loop Chatbot\n",
        "\n",
        "\n",
        "---\n",
        "\n"
      ],
      "metadata": {
        "id": "I7T22moGvKN0"
      }
    },
    {
      "cell_type": "code",
      "source": [
        "import random\n",
        "\n",
        "# Dictionary of Chatbot Responses\n",
        "chatbot_responses = {\n",
        "    \"greeting\": [\"Hello!\", \"Hi there!\", \"Hey, how can I help?\"],\n",
        "    \"farewell\": [\"Goodbye!\", \"See you later!\", \"Take care!\"],\n",
        "    \"joke\": [\n",
        "        \"Why don't scientists trust atoms? Because they make up everything!\",\n",
        "        \"Did you hear about the mathematician who's afraid of negative numbers? He'll stop at nothing to avoid them!\",\n",
        "        \"Why don't skeletons fight each other? They don't have the guts!\"\n",
        "    ]\n",
        "}\n",
        "\n",
        "# Chatbot Function\n",
        "def chatbot():\n",
        "    while True:\n",
        "        user_input = input(\"User: \")\n",
        "\n",
        "        if user_input.lower() in [\"bye\", \"goodbye\", \"quit\"]:\n",
        "            print(random.choice(chatbot_responses[\"farewell\"]))\n",
        "            break\n",
        "\n",
        "        elif user_input.lower() in [\"tell me a joke\", \"joke\"]:\n",
        "            print(random.choice(chatbot_responses[\"joke\"]))\n",
        "\n",
        "        else:\n",
        "            print(random.choice(chatbot_responses[\"greeting\"]))\n",
        "\n",
        "# Start the Chatbot\n",
        "print(\"Chatbot: Hi, I'm a fun chatbot. What can I do for you today?\")\n",
        "chatbot()\n"
      ],
      "metadata": {
        "colab": {
          "base_uri": "https://localhost:8080/"
        },
        "id": "Jy1rVCngvMxk",
        "outputId": "c72de05b-e722-4548-eb65-72252b5a0f62"
      },
      "execution_count": null,
      "outputs": [
        {
          "output_type": "stream",
          "name": "stdout",
          "text": [
            "Chatbot: Hi, I'm a fun chatbot. What can I do for you today?\n",
            "User: Hola\n",
            "Hello!\n",
            "User: What time is it\n",
            "Hey, how can I help?\n",
            "User: joe\n",
            "Hello!\n",
            "User: Joke\n",
            "Why don't scientists trust atoms? Because they make up everything!\n",
            "User: Joke\n",
            "Why don't scientists trust atoms? Because they make up everything!\n",
            "User: Another joke\n",
            "Hi there!\n",
            "User: Joke\n",
            "Why don't skeletons fight each other? They don't have the guts!\n",
            "User: quit\n",
            "Hey, how can I help?\n",
            "User: bye\n",
            "Goodbye!\n"
          ]
        }
      ]
    },
    {
      "cell_type": "code",
      "execution_count": null,
      "metadata": {
        "id": "Cs8RxoLgqAsO"
      },
      "outputs": [],
      "source": [
        "\n",
        "\n"
      ]
    }
  ]
}