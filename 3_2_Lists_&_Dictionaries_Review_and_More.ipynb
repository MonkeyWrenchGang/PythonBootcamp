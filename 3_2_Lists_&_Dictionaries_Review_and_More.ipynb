{
  "nbformat": 4,
  "nbformat_minor": 0,
  "metadata": {
    "colab": {
      "provenance": [],
      "authorship_tag": "ABX9TyNxHFUX3mQqwaiEAQtSsmLk",
      "include_colab_link": true
    },
    "kernelspec": {
      "name": "python3",
      "display_name": "Python 3"
    },
    "language_info": {
      "name": "python"
    }
  },
  "cells": [
    {
      "cell_type": "markdown",
      "metadata": {
        "id": "view-in-github",
        "colab_type": "text"
      },
      "source": [
        "<a href=\"https://colab.research.google.com/github/MonkeyWrenchGang/PythonBootcamp/blob/main/3_2_Lists_%26_Dictionaries_Review_and_More.ipynb\" target=\"_parent\"><img src=\"https://colab.research.google.com/assets/colab-badge.svg\" alt=\"Open In Colab\"/></a>"
      ]
    },
    {
      "cell_type": "markdown",
      "source": [
        "# Introduction:\n",
        "\n",
        "\n",
        "---\n",
        "\n",
        "\n",
        "\n",
        "Let's look at real-world use of lists and dictionaries by looking at results of API (Appication Programing Interface)calls.  We'll start with a simple example by looking at trivia questions from the OpenTrivia API, it Offers a wide range of trivia questions and answers at www.opentdb.com, next we'll look at Nashville TN 911 calls and finally take a peak at some tweets from POTUS. I've picked the results of the API calls, what is pickle you might say?\n",
        "\n",
        "\n",
        "## What the Heck is Pickle ?\n",
        "\n",
        "\n",
        "---\n",
        "\n",
        "Pickle is a Python module that enables the **serialization and deserialization** of Python objects, a fancy way of saying writing python objects to files and reading those objects back into python. Pickle allows you to convert complex data structures into a **binary format** making it useful for tasks such as saving and loading program states, caching data, or transferring objects between different Python programs or versions.\n",
        "\n",
        "Here is an example:\n",
        "\n",
        "```python\n",
        "import pickle\n",
        "\n",
        "# Example object to be pickled\n",
        "data = {\n",
        "    'name': 'John Doe',\n",
        "    'age': 25,\n",
        "    'city': 'New York'\n",
        "}\n",
        "\n",
        "# Export the dictionary to a file using pickle\n",
        "filename = 'data.pkl'\n",
        "with open(filename, 'wb') as file:\n",
        "    pickle.dump(data, file)\n",
        "\n",
        "# Import the dictionary from the file using pickle\n",
        "with open(filename, 'rb') as file:\n",
        "    imported_data = pickle.load(file)\n",
        "\n",
        "# Display the imported data\n",
        "print(imported_data)\n",
        "\n",
        "\n",
        "```\n",
        "\n"
      ],
      "metadata": {
        "id": "mK4x5oqipdCI"
      }
    },
    {
      "cell_type": "markdown",
      "source": [
        "## Our Pickle'd Data\n",
        "\n",
        "We'll use the following \"pickle\" files to explore real-world use of lists and dictionaries.\n",
        "\n",
        "\n",
        "### Trivia Questions\n",
        "```\n",
        "\"https://github.com/MonkeyWrenchGang/PythonBootcamp/raw/main/day_3/data/trivia_data.pkl\"\n",
        "```\n",
        "\n",
        "### Nashville 911 Calls\n",
        "\n",
        "```\n",
        "\"https://github.com/MonkeyWrenchGang/PythonBootcamp/raw/main/day_3/data/nashville_911_call_data.pkl\"\n",
        "```\n",
        "\n",
        "### Potus Tweets\n",
        "```\n",
        "\"https://github.com/MonkeyWrenchGang/PythonBootcamp/raw/main/day_3/data/potus_tweet_data.pkl\"\n",
        "```\n",
        "\n",
        "\n",
        "\n",
        "\n"
      ],
      "metadata": {
        "id": "aholkxWbqlcx"
      }
    },
    {
      "cell_type": "markdown",
      "source": [
        "# Start by Loading our Libraries\n",
        "\n",
        "\n",
        "---\n",
        "\n",
        "1. requests: The requests library makes HTTP requests in Python. It provides  interface to send HTTP GET, POST, and other types of requests to web servers. It simplifies the process of working with web-based data and interacting with web services.\n",
        "\n",
        "2. pickle: The pickle library in Python provides functionality for serializing and deserializing Python objects. It allows you to convert complex data structures, such as dictionaries and lists, into a binary file format. The pickle module offers functions like dump() and load() to write and read pickled objects from files or other streams.\n",
        "\n",
        "3. io: The io module in Python provides a set of core tools for working with streams of data. It is often used in combination with other modules, like pickle, to work with streams of data efficiently and effectively.\n"
      ],
      "metadata": {
        "id": "Bs_4Kz_P3Gs5"
      }
    },
    {
      "cell_type": "code",
      "execution_count": null,
      "metadata": {
        "id": "_5JFBwK_pahQ"
      },
      "outputs": [],
      "source": [
        "# import libraries\n",
        "import requests\n",
        "import pickle\n",
        "import io"
      ]
    },
    {
      "cell_type": "markdown",
      "source": [
        "## Import the pickle'd data\n",
        "\n",
        "\n",
        "### Trivia Questions\n",
        "\n",
        "\n",
        "---\n",
        "\n",
        "Each trivia question is a \"result\" entry where the result is a list of dictionaries. sounds confusing but is actually quite common.\n",
        "\n"
      ],
      "metadata": {
        "id": "r924LAv7t9I_"
      }
    },
    {
      "cell_type": "code",
      "source": [],
      "metadata": {
        "id": "34e2OKNevfO7"
      },
      "execution_count": null,
      "outputs": []
    },
    {
      "cell_type": "code",
      "source": [
        "# URL of the Trivia Questions pickle file on GitHub\n",
        "url = \"https://github.com/MonkeyWrenchGang/PythonBootcamp/raw/main/day_3/data/trivia_data.pkl\"\n",
        "\n",
        "# Download the pickle file\n",
        "response = requests.get(url)\n",
        "\n",
        "# Check if the request was successful\n",
        "if response.status_code == 200:\n",
        "    # Create a file-like object from the response content\n",
        "    file_content = io.BytesIO(response.content)\n",
        "    # Unpickle the data\n",
        "    trivia_qs = pickle.load(file_content)\n",
        "    print(f\"TriviaQs object type {type(trivia_qs)}\")\n",
        "else:\n",
        "    print(f\"Error: {response.status_code}\")"
      ],
      "metadata": {
        "colab": {
          "base_uri": "https://localhost:8080/"
        },
        "id": "-UCojQfat9So",
        "outputId": "3b789174-0fc9-47a4-f0b2-89f686106480"
      },
      "execution_count": null,
      "outputs": [
        {
          "output_type": "stream",
          "name": "stdout",
          "text": [
            "TriviaQs object type <class 'dict'>\n"
          ]
        }
      ]
    },
    {
      "cell_type": "markdown",
      "source": [
        "## Trivia Questions\n",
        "\n",
        "\n",
        "---\n",
        "\n",
        "0. Eyeball the dictionary\n",
        "1. How many tivia questions are there?\n",
        "2. Extract the first question result, then extract these peices of information\n",
        "  - what is the question\n",
        "  - what is the correct_answer\n",
        "  - difficulty\n",
        "3. Extract the 10th question result, then extract these peices of information\n",
        "  - what is the question\n",
        "  - what is the correct_answer\n",
        "  - difficulty"
      ],
      "metadata": {
        "id": "mXHQig-ivF23"
      }
    },
    {
      "cell_type": "markdown",
      "source": [
        "# look at the object\n",
        "\n",
        "\n",
        "---\n",
        "\n"
      ],
      "metadata": {
        "id": "e1pKgXmmwBsh"
      }
    },
    {
      "cell_type": "code",
      "source": [
        "trivia_qs"
      ],
      "metadata": {
        "colab": {
          "base_uri": "https://localhost:8080/"
        },
        "id": "q2vj9DEbwD1h",
        "outputId": "5d8619e2-d18c-488d-cbbc-1b319deed6cc"
      },
      "execution_count": null,
      "outputs": [
        {
          "output_type": "execute_result",
          "data": {
            "text/plain": [
              "{'response_code': 0,\n",
              " 'results': [{'category': 'Celebrities',\n",
              "   'type': 'multiple',\n",
              "   'difficulty': 'easy',\n",
              "   'question': 'Named after a character he played in a 1969 film, what is the name of the ski resort in Utah that Robert Redford bought in 1968?',\n",
              "   'correct_answer': 'Sundance',\n",
              "   'incorrect_answers': ['Woodward', 'Turner', 'Booker']},\n",
              "  {'category': 'Celebrities',\n",
              "   'type': 'multiple',\n",
              "   'difficulty': 'easy',\n",
              "   'question': 'By what name is Carlos Estevez better known? ',\n",
              "   'correct_answer': 'Charlie Sheen',\n",
              "   'incorrect_answers': ['Ricky Martin', 'Bruno Mars', 'Joaquin Phoenix']},\n",
              "  {'category': 'Celebrities',\n",
              "   'type': 'multiple',\n",
              "   'difficulty': 'easy',\n",
              "   'question': 'Which actress married Michael Douglas in 2000?',\n",
              "   'correct_answer': 'Catherine Zeta-Jones',\n",
              "   'incorrect_answers': ['Ruth Jones', 'Pam Ferris', 'Sara Sugarman']},\n",
              "  {'category': 'Celebrities',\n",
              "   'type': 'multiple',\n",
              "   'difficulty': 'easy',\n",
              "   'question': 'What does film maker Dan Bell typically focus his films on?',\n",
              "   'correct_answer': 'Abandoned Buildings and Dead Malls',\n",
              "   'incorrect_answers': ['Historic Landmarks',\n",
              "    'Action Films',\n",
              "    'Documentaries ']},\n",
              "  {'category': 'Celebrities',\n",
              "   'type': 'multiple',\n",
              "   'difficulty': 'easy',\n",
              "   'question': 'What was the cause of Marilyn Monroes suicide?',\n",
              "   'correct_answer': 'Drug Overdose',\n",
              "   'incorrect_answers': ['Knife Attack', 'House Fire', 'Gunshot']},\n",
              "  {'category': 'Celebrities',\n",
              "   'type': 'multiple',\n",
              "   'difficulty': 'easy',\n",
              "   'question': 'Gwyneth Paltrow has a daughter named...?',\n",
              "   'correct_answer': 'Apple',\n",
              "   'incorrect_answers': ['Lily', 'French', 'Dakota']},\n",
              "  {'category': 'Celebrities',\n",
              "   'type': 'multiple',\n",
              "   'difficulty': 'easy',\n",
              "   'question': 'Which celebrity announced his presidency in 2015?',\n",
              "   'correct_answer': 'Kanye West',\n",
              "   'incorrect_answers': ['Donald Trump', 'Leonardo DiCaprio', 'Miley Cyrus']},\n",
              "  {'category': 'Celebrities',\n",
              "   'type': 'multiple',\n",
              "   'difficulty': 'easy',\n",
              "   'question': 'Aubrey Graham is better known as',\n",
              "   'correct_answer': 'Drake',\n",
              "   'incorrect_answers': ['Travis Scott', 'Lil Wayne', '2 Chainz']},\n",
              "  {'category': 'Celebrities',\n",
              "   'type': 'multiple',\n",
              "   'difficulty': 'easy',\n",
              "   'question': 'By which name is Ramon Estevez better known as?',\n",
              "   'correct_answer': 'Martin Sheen',\n",
              "   'incorrect_answers': ['Charlie Sheen', 'Ramon Sheen', 'Emilio Estevez']},\n",
              "  {'category': 'Celebrities',\n",
              "   'type': 'multiple',\n",
              "   'difficulty': 'easy',\n",
              "   'question': 'What was James Coburn&#039;s last film role before his death?',\n",
              "   'correct_answer': 'American Gun',\n",
              "   'incorrect_answers': ['Monsters Inc', 'Texas Rangers', 'Snow Dogs']}]}"
            ]
          },
          "metadata": {},
          "execution_count": 3
        }
      ]
    },
    {
      "cell_type": "markdown",
      "source": [
        "## Start by listing keys()"
      ],
      "metadata": {
        "id": "g9_dRpgQnlYH"
      }
    },
    {
      "cell_type": "code",
      "source": [
        "trivia_qs.keys()"
      ],
      "metadata": {
        "colab": {
          "base_uri": "https://localhost:8080/"
        },
        "id": "8qyTRje6wFgS",
        "outputId": "b6fe173f-23c3-4336-802c-3ef06422d53f"
      },
      "execution_count": null,
      "outputs": [
        {
          "output_type": "execute_result",
          "data": {
            "text/plain": [
              "dict_keys(['response_code', 'results'])"
            ]
          },
          "metadata": {},
          "execution_count": 4
        }
      ]
    },
    {
      "cell_type": "markdown",
      "source": [
        "### How many results are there?"
      ],
      "metadata": {
        "id": "aJ0KMQOewJrw"
      }
    },
    {
      "cell_type": "code",
      "source": [
        "len(trivia_qs['results'])\n"
      ],
      "metadata": {
        "colab": {
          "base_uri": "https://localhost:8080/"
        },
        "id": "SxjPGpGWvDb5",
        "outputId": "766f4dfa-7d97-418b-d374-33d08c9f3ef2"
      },
      "execution_count": null,
      "outputs": [
        {
          "output_type": "execute_result",
          "data": {
            "text/plain": [
              "10"
            ]
          },
          "metadata": {},
          "execution_count": 5
        }
      ]
    },
    {
      "cell_type": "markdown",
      "source": [
        "### what does each result look like?"
      ],
      "metadata": {
        "id": "0H0JDNmzwPQw"
      }
    },
    {
      "cell_type": "code",
      "source": [
        "# Each result is a trivia question\n",
        "trivia_qs['results'][0]"
      ],
      "metadata": {
        "colab": {
          "base_uri": "https://localhost:8080/"
        },
        "id": "znbNbb89wRYr",
        "outputId": "397cf245-884a-44eb-cb26-24f1c7e6f6cb"
      },
      "execution_count": null,
      "outputs": [
        {
          "output_type": "execute_result",
          "data": {
            "text/plain": [
              "{'category': 'Celebrities',\n",
              " 'type': 'multiple',\n",
              " 'difficulty': 'easy',\n",
              " 'question': 'Named after a character he played in a 1969 film, what is the name of the ski resort in Utah that Robert Redford bought in 1968?',\n",
              " 'correct_answer': 'Sundance',\n",
              " 'incorrect_answers': ['Woodward', 'Turner', 'Booker']}"
            ]
          },
          "metadata": {},
          "execution_count": 6
        }
      ]
    },
    {
      "cell_type": "markdown",
      "source": [
        "## Is it a dictionary?\n"
      ],
      "metadata": {
        "id": "16bDwGiinpMU"
      }
    },
    {
      "cell_type": "code",
      "source": [
        "type(trivia_qs['results'][0])"
      ],
      "metadata": {
        "colab": {
          "base_uri": "https://localhost:8080/"
        },
        "id": "caLKmh6gnqyG",
        "outputId": "978b2991-56c6-4adf-9f64-1c6dadb8b147"
      },
      "execution_count": null,
      "outputs": [
        {
          "output_type": "execute_result",
          "data": {
            "text/plain": [
              "dict"
            ]
          },
          "metadata": {},
          "execution_count": 7
        }
      ]
    },
    {
      "cell_type": "markdown",
      "source": [
        "2. Extract the first question result, then extract these peices of information\n",
        "what is the question\n",
        "what is the correct_answer\n",
        "difficulty\n"
      ],
      "metadata": {
        "id": "I8l11KGpnsoY"
      }
    },
    {
      "cell_type": "code",
      "source": [],
      "metadata": {
        "id": "cuB7ssOxnuHJ"
      },
      "execution_count": null,
      "outputs": []
    },
    {
      "cell_type": "markdown",
      "source": [
        "3. Extract the 10th question result, then extract these peices of information\n",
        "what is the question\n",
        "what is the correct_answer\n",
        "difficulty"
      ],
      "metadata": {
        "id": "Kw2_RHEdnuSH"
      }
    },
    {
      "cell_type": "code",
      "source": [],
      "metadata": {
        "id": "ScjxT0MIn1Qc"
      },
      "execution_count": null,
      "outputs": []
    },
    {
      "cell_type": "markdown",
      "source": [
        "### Nashville 911\n",
        "\n",
        "Here each call is a entry in a list.\n",
        "\n",
        "1. what is the 1st call\n",
        "  - extract the 'call_rec' and 'disposition_description'\n",
        "2. what is the 5th call\n",
        "  - extract the 'call_rec' and 'unit_dispatched'\n",
        "\n"
      ],
      "metadata": {
        "id": "i3a2bIjNuH3r"
      }
    },
    {
      "cell_type": "code",
      "source": [
        "# URL of the POTUS pickle file on GitHub\n",
        "url = \"https://github.com/MonkeyWrenchGang/PythonBootcamp/raw/main/day_3/data/nashville_911_call_data.pkl\"\n",
        "# Download the pickle file\n",
        "response = requests.get(url)\n",
        "\n",
        "# Check if the request was successful\n",
        "if response.status_code == 200:\n",
        "    # Create a file-like object from the response content\n",
        "    file_content = io.BytesIO(response.content)\n",
        "    # Unpickle the data\n",
        "    nashville_911 = pickle.load(file_content)\n",
        "    print(f\"Nashville object type {type(nashville_911)}\")\n",
        "else:\n",
        "    print(f\"Error: {response.status_code}\")"
      ],
      "metadata": {
        "colab": {
          "base_uri": "https://localhost:8080/"
        },
        "id": "UhhzrBe-uLRp",
        "outputId": "7f84f42d-7fcd-4e8d-f1cd-8f82c710ba8d"
      },
      "execution_count": null,
      "outputs": [
        {
          "output_type": "stream",
          "name": "stdout",
          "text": [
            "Nashville object type <class 'list'>\n"
          ]
        }
      ]
    },
    {
      "cell_type": "code",
      "source": [
        "# each entry is a call\n",
        "nashville_911[0]"
      ],
      "metadata": {
        "colab": {
          "base_uri": "https://localhost:8080/"
        },
        "id": "QzJD9Hk-4GtC",
        "outputId": "07f0278e-9de9-428c-8065-526358f1d725"
      },
      "execution_count": null,
      "outputs": [
        {
          "output_type": "execute_result",
          "data": {
            "text/plain": [
              "{'event_number': 'PD202300416478',\n",
              " 'call_rec': '2023-06-12T23:59:42.000',\n",
              " 'tencode': '3',\n",
              " 'disposition_code': '4',\n",
              " 'disposition_description': 'ASSISTED CITIZEN',\n",
              " 'block': '900',\n",
              " 'street_name': 'E TRINITY LN',\n",
              " 'unit_dispatched': '227B',\n",
              " 'shift': 'C'}"
            ]
          },
          "metadata": {},
          "execution_count": 9
        }
      ]
    },
    {
      "cell_type": "markdown",
      "source": [
        "\n",
        "## POTUS\n",
        "\n",
        "https://twitter.com/POTUS\n",
        "\n",
        "Here we have 10 tweets, each tweet is stored as dictionary  entry in a list.\n",
        "\n",
        "### Question: can you get the the Text of the 3rd tweet?"
      ],
      "metadata": {
        "id": "hgDduThip1dY"
      }
    },
    {
      "cell_type": "code",
      "source": [
        "# URL of the POTUS pickle file on GitHub\n",
        "url = \"https://github.com/MonkeyWrenchGang/PythonBootcamp/raw/main/day_3/data/potus_tweet_data.pkl\"\n",
        "\n",
        "# Download the pickle file\n",
        "response = requests.get(url)\n",
        "\n",
        "# Check if the request was successful\n",
        "if response.status_code == 200:\n",
        "    # Create a file-like object from the response content\n",
        "    file_content = io.BytesIO(response.content)\n",
        "    # Unpickle the data\n",
        "    potus_tweets = pickle.load(file_content)\n",
        "    print(f\"POTUS object type {type(potus_tweets)}\")\n",
        "else:\n",
        "    print(f\"Error: {response.status_code}\")\n"
      ],
      "metadata": {
        "colab": {
          "base_uri": "https://localhost:8080/"
        },
        "id": "J7Eb2blQtf5o",
        "outputId": "cf5ed258-bb82-4550-9e62-74e32deefce2"
      },
      "execution_count": null,
      "outputs": [
        {
          "output_type": "stream",
          "name": "stdout",
          "text": [
            "POTUS object type <class 'list'>\n"
          ]
        }
      ]
    },
    {
      "cell_type": "code",
      "source": [
        "# each tweet is an entry in the list\n",
        "print(f\"There are {len(potus_tweets)} tweets in the data, \\nthe first tweet: \\n\")\n",
        "# First Tweet\n",
        "potus_tweets[0]"
      ],
      "metadata": {
        "colab": {
          "base_uri": "https://localhost:8080/"
        },
        "id": "x6vdMQyPuiFU",
        "outputId": "f8f11bdf-ea69-448f-fecc-9eb4ef956879"
      },
      "execution_count": null,
      "outputs": [
        {
          "output_type": "stream",
          "name": "stdout",
          "text": [
            "There are 10 tweets in the data, \n",
            "the first tweet: \n",
            "\n"
          ]
        },
        {
          "output_type": "execute_result",
          "data": {
            "text/plain": [
              "{'created_at': 'Tue Jun 13 16:15:03 +0000 2023',\n",
              " 'id': 1668653217603780608,\n",
              " 'id_str': '1668653217603780608',\n",
              " 'text': 'Since I took office, our Investing in America agenda has attracted over $470 billion in private sector investments… https://t.co/RvaR8e79NR',\n",
              " 'truncated': True,\n",
              " 'entities': {'hashtags': [],\n",
              "  'symbols': [],\n",
              "  'user_mentions': [],\n",
              "  'urls': [{'url': 'https://t.co/RvaR8e79NR',\n",
              "    'expanded_url': 'https://twitter.com/i/web/status/1668653217603780608',\n",
              "    'display_url': 'twitter.com/i/web/status/1…',\n",
              "    'indices': [116, 139]}]},\n",
              " 'source': '<a href=\"https://www.sprinklr.com\" rel=\"nofollow\">The White House</a>',\n",
              " 'in_reply_to_status_id': None,\n",
              " 'in_reply_to_status_id_str': None,\n",
              " 'in_reply_to_user_id': None,\n",
              " 'in_reply_to_user_id_str': None,\n",
              " 'in_reply_to_screen_name': None,\n",
              " 'user': {'id': 1349149096909668363,\n",
              "  'id_str': '1349149096909668363',\n",
              "  'name': 'President Biden',\n",
              "  'screen_name': 'POTUS',\n",
              "  'location': '',\n",
              "  'description': '46th President of the United States, husband to @FLOTUS, proud dad & pop. Tweets may be archived: https://t.co/HDhBZBkKpU Text me: (302) 404-0880',\n",
              "  'url': 'https://t.co/GMISXhI3kd',\n",
              "  'entities': {'url': {'urls': [{'url': 'https://t.co/GMISXhI3kd',\n",
              "      'expanded_url': 'http://wh.gov/resources',\n",
              "      'display_url': 'wh.gov/resources',\n",
              "      'indices': [0, 23]}]},\n",
              "   'description': {'urls': [{'url': 'https://t.co/HDhBZBkKpU',\n",
              "      'expanded_url': 'http://whitehouse.gov/privacy',\n",
              "      'display_url': 'whitehouse.gov/privacy',\n",
              "      'indices': [98, 121]}]}},\n",
              "  'protected': False,\n",
              "  'followers_count': 31225909,\n",
              "  'friends_count': 13,\n",
              "  'listed_count': 25013,\n",
              "  'created_at': 'Wed Jan 13 00:37:08 +0000 2021',\n",
              "  'favourites_count': 16,\n",
              "  'utc_offset': None,\n",
              "  'time_zone': None,\n",
              "  'geo_enabled': False,\n",
              "  'verified': False,\n",
              "  'statuses_count': 6627,\n",
              "  'lang': None,\n",
              "  'contributors_enabled': False,\n",
              "  'is_translator': False,\n",
              "  'is_translation_enabled': False,\n",
              "  'profile_background_color': 'F5F8FA',\n",
              "  'profile_background_image_url': None,\n",
              "  'profile_background_image_url_https': None,\n",
              "  'profile_background_tile': False,\n",
              "  'profile_image_url': 'http://pbs.twimg.com/profile_images/1380530524779859970/TfwVAbyX_normal.jpg',\n",
              "  'profile_image_url_https': 'https://pbs.twimg.com/profile_images/1380530524779859970/TfwVAbyX_normal.jpg',\n",
              "  'profile_banner_url': 'https://pbs.twimg.com/profile_banners/1349149096909668363/1686583051',\n",
              "  'profile_link_color': '1DA1F2',\n",
              "  'profile_sidebar_border_color': 'C0DEED',\n",
              "  'profile_sidebar_fill_color': 'DDEEF6',\n",
              "  'profile_text_color': '333333',\n",
              "  'profile_use_background_image': True,\n",
              "  'has_extended_profile': True,\n",
              "  'default_profile': True,\n",
              "  'default_profile_image': False,\n",
              "  'following': False,\n",
              "  'follow_request_sent': False,\n",
              "  'notifications': False,\n",
              "  'translator_type': 'none',\n",
              "  'withheld_in_countries': []},\n",
              " 'geo': None,\n",
              " 'coordinates': None,\n",
              " 'place': None,\n",
              " 'contributors': None,\n",
              " 'is_quote_status': False,\n",
              " 'retweet_count': 276,\n",
              " 'favorite_count': 1343,\n",
              " 'favorited': False,\n",
              " 'retweeted': False,\n",
              " 'possibly_sensitive': False,\n",
              " 'lang': 'en'}"
            ]
          },
          "metadata": {},
          "execution_count": 11
        }
      ]
    },
    {
      "cell_type": "markdown",
      "source": [
        "### Can you extract the 5th tweet, it's text and friends_count?\n",
        "\n",
        "---\n",
        "\n",
        "and print out those two attributes with f-strings() ?"
      ],
      "metadata": {
        "id": "Bau4e59qodfu"
      }
    },
    {
      "cell_type": "code",
      "source": [
        "print(type(potus_tweets))\n",
        "print(type(potus_tweets[4]))\n",
        "print()\n",
        "print(potus_tweets[4].keys())\n",
        "print()\n",
        "print(potus_tweets[4]['text'])\n",
        "print()\n",
        "print(potus_tweets[4]['user']['friends_count'])"
      ],
      "metadata": {
        "id": "Ul8JfoL8LJB_",
        "outputId": "a37d844c-3655-42fa-8b2a-488997211021",
        "colab": {
          "base_uri": "https://localhost:8080/"
        }
      },
      "execution_count": null,
      "outputs": [
        {
          "output_type": "stream",
          "name": "stdout",
          "text": [
            "<class 'list'>\n",
            "<class 'dict'>\n",
            "\n",
            "dict_keys(['created_at', 'id', 'id_str', 'text', 'truncated', 'entities', 'source', 'in_reply_to_status_id', 'in_reply_to_status_id_str', 'in_reply_to_user_id', 'in_reply_to_user_id_str', 'in_reply_to_screen_name', 'user', 'geo', 'coordinates', 'place', 'contributors', 'retweeted_status', 'is_quote_status', 'retweet_count', 'favorite_count', 'favorited', 'retweeted', 'lang'])\n",
            "\n",
            "RT @WhiteHouse: President Biden’s Executive Order is one of the most consequential executive actions taken to support hiring and retention…\n",
            "\n",
            "13\n"
          ]
        }
      ]
    },
    {
      "cell_type": "code",
      "source": [
        "potus_tweets[4]"
      ],
      "metadata": {
        "id": "s9WJubz7Dxeb",
        "outputId": "ef11b11c-db9d-4d1a-e0e2-a2a263c9911c",
        "colab": {
          "base_uri": "https://localhost:8080/"
        }
      },
      "execution_count": null,
      "outputs": [
        {
          "output_type": "execute_result",
          "data": {
            "text/plain": [
              "{'created_at': 'Mon Jun 12 19:39:58 +0000 2023',\n",
              " 'id': 1668342396592222209,\n",
              " 'id_str': '1668342396592222209',\n",
              " 'text': 'RT @WhiteHouse: President Biden’s Executive Order is one of the most consequential executive actions taken to support hiring and retention…',\n",
              " 'truncated': False,\n",
              " 'entities': {'hashtags': [],\n",
              "  'symbols': [],\n",
              "  'user_mentions': [{'screen_name': 'WhiteHouse',\n",
              "    'name': 'The White House',\n",
              "    'id': 1323730225067339784,\n",
              "    'id_str': '1323730225067339784',\n",
              "    'indices': [3, 14]}],\n",
              "  'urls': []},\n",
              " 'source': '<a href=\"https://mobile.twitter.com\" rel=\"nofollow\">Twitter Web App</a>',\n",
              " 'in_reply_to_status_id': None,\n",
              " 'in_reply_to_status_id_str': None,\n",
              " 'in_reply_to_user_id': None,\n",
              " 'in_reply_to_user_id_str': None,\n",
              " 'in_reply_to_screen_name': None,\n",
              " 'user': {'id': 1349149096909668363,\n",
              "  'id_str': '1349149096909668363',\n",
              "  'name': 'President Biden',\n",
              "  'screen_name': 'POTUS',\n",
              "  'location': '',\n",
              "  'description': '46th President of the United States, husband to @FLOTUS, proud dad & pop. Tweets may be archived: https://t.co/HDhBZBkKpU Text me: (302) 404-0880',\n",
              "  'url': 'https://t.co/GMISXhI3kd',\n",
              "  'entities': {'url': {'urls': [{'url': 'https://t.co/GMISXhI3kd',\n",
              "      'expanded_url': 'http://wh.gov/resources',\n",
              "      'display_url': 'wh.gov/resources',\n",
              "      'indices': [0, 23]}]},\n",
              "   'description': {'urls': [{'url': 'https://t.co/HDhBZBkKpU',\n",
              "      'expanded_url': 'http://whitehouse.gov/privacy',\n",
              "      'display_url': 'whitehouse.gov/privacy',\n",
              "      'indices': [98, 121]}]}},\n",
              "  'protected': False,\n",
              "  'followers_count': 31225909,\n",
              "  'friends_count': 13,\n",
              "  'listed_count': 25013,\n",
              "  'created_at': 'Wed Jan 13 00:37:08 +0000 2021',\n",
              "  'favourites_count': 16,\n",
              "  'utc_offset': None,\n",
              "  'time_zone': None,\n",
              "  'geo_enabled': False,\n",
              "  'verified': False,\n",
              "  'statuses_count': 6627,\n",
              "  'lang': None,\n",
              "  'contributors_enabled': False,\n",
              "  'is_translator': False,\n",
              "  'is_translation_enabled': False,\n",
              "  'profile_background_color': 'F5F8FA',\n",
              "  'profile_background_image_url': None,\n",
              "  'profile_background_image_url_https': None,\n",
              "  'profile_background_tile': False,\n",
              "  'profile_image_url': 'http://pbs.twimg.com/profile_images/1380530524779859970/TfwVAbyX_normal.jpg',\n",
              "  'profile_image_url_https': 'https://pbs.twimg.com/profile_images/1380530524779859970/TfwVAbyX_normal.jpg',\n",
              "  'profile_banner_url': 'https://pbs.twimg.com/profile_banners/1349149096909668363/1686583051',\n",
              "  'profile_link_color': '1DA1F2',\n",
              "  'profile_sidebar_border_color': 'C0DEED',\n",
              "  'profile_sidebar_fill_color': 'DDEEF6',\n",
              "  'profile_text_color': '333333',\n",
              "  'profile_use_background_image': True,\n",
              "  'has_extended_profile': True,\n",
              "  'default_profile': True,\n",
              "  'default_profile_image': False,\n",
              "  'following': False,\n",
              "  'follow_request_sent': False,\n",
              "  'notifications': False,\n",
              "  'translator_type': 'none',\n",
              "  'withheld_in_countries': []},\n",
              " 'geo': None,\n",
              " 'coordinates': None,\n",
              " 'place': None,\n",
              " 'contributors': None,\n",
              " 'retweeted_status': {'created_at': 'Mon Jun 12 19:00:00 +0000 2023',\n",
              "  'id': 1668332340924252167,\n",
              "  'id_str': '1668332340924252167',\n",
              "  'text': 'President Biden’s Executive Order is one of the most consequential executive actions taken to support hiring and re… https://t.co/cLC0BEd28y',\n",
              "  'truncated': True,\n",
              "  'entities': {'hashtags': [],\n",
              "   'symbols': [],\n",
              "   'user_mentions': [],\n",
              "   'urls': [{'url': 'https://t.co/cLC0BEd28y',\n",
              "     'expanded_url': 'https://twitter.com/i/web/status/1668332340924252167',\n",
              "     'display_url': 'twitter.com/i/web/status/1…',\n",
              "     'indices': [117, 140]}]},\n",
              "  'source': '<a href=\"https://www.sprinklr.com\" rel=\"nofollow\">The White House</a>',\n",
              "  'in_reply_to_status_id': None,\n",
              "  'in_reply_to_status_id_str': None,\n",
              "  'in_reply_to_user_id': None,\n",
              "  'in_reply_to_user_id_str': None,\n",
              "  'in_reply_to_screen_name': None,\n",
              "  'user': {'id': 1323730225067339784,\n",
              "   'id_str': '1323730225067339784',\n",
              "   'name': 'The White House',\n",
              "   'screen_name': 'WhiteHouse',\n",
              "   'location': 'United States of America',\n",
              "   'description': 'Welcome to the Biden-Harris White House! Tweets may be archived: https://t.co/UbZQo0sWVf',\n",
              "   'url': 'https://t.co/2UJSiJ3BR5',\n",
              "   'entities': {'url': {'urls': [{'url': 'https://t.co/2UJSiJ3BR5',\n",
              "       'expanded_url': 'http://wh.gov/resources',\n",
              "       'display_url': 'wh.gov/resources',\n",
              "       'indices': [0, 23]}]},\n",
              "    'description': {'urls': [{'url': 'https://t.co/UbZQo0sWVf',\n",
              "       'expanded_url': 'http://whitehouse.gov/privacy',\n",
              "       'display_url': 'whitehouse.gov/privacy',\n",
              "       'indices': [65, 88]}]}},\n",
              "   'protected': False,\n",
              "   'followers_count': 8674117,\n",
              "   'friends_count': 6,\n",
              "   'listed_count': 13296,\n",
              "   'created_at': 'Tue Nov 03 20:55:58 +0000 2020',\n",
              "   'favourites_count': 31,\n",
              "   'utc_offset': None,\n",
              "   'time_zone': None,\n",
              "   'geo_enabled': False,\n",
              "   'verified': False,\n",
              "   'statuses_count': 6877,\n",
              "   'lang': None,\n",
              "   'contributors_enabled': False,\n",
              "   'is_translator': False,\n",
              "   'is_translation_enabled': False,\n",
              "   'profile_background_color': 'F5F8FA',\n",
              "   'profile_background_image_url': None,\n",
              "   'profile_background_image_url_https': None,\n",
              "   'profile_background_tile': False,\n",
              "   'profile_image_url': 'http://pbs.twimg.com/profile_images/1351938473142448133/JQT93Cjo_normal.jpg',\n",
              "   'profile_image_url_https': 'https://pbs.twimg.com/profile_images/1351938473142448133/JQT93Cjo_normal.jpg',\n",
              "   'profile_banner_url': 'https://pbs.twimg.com/profile_banners/1323730225067339784/1686583068',\n",
              "   'profile_link_color': '1DA1F2',\n",
              "   'profile_sidebar_border_color': 'C0DEED',\n",
              "   'profile_sidebar_fill_color': 'DDEEF6',\n",
              "   'profile_text_color': '333333',\n",
              "   'profile_use_background_image': True,\n",
              "   'has_extended_profile': True,\n",
              "   'default_profile': True,\n",
              "   'default_profile_image': False,\n",
              "   'following': False,\n",
              "   'follow_request_sent': False,\n",
              "   'notifications': False,\n",
              "   'translator_type': 'none',\n",
              "   'withheld_in_countries': []},\n",
              "  'geo': None,\n",
              "  'coordinates': None,\n",
              "  'place': None,\n",
              "  'contributors': None,\n",
              "  'is_quote_status': False,\n",
              "  'retweet_count': 841,\n",
              "  'favorite_count': 4069,\n",
              "  'favorited': False,\n",
              "  'retweeted': False,\n",
              "  'possibly_sensitive': False,\n",
              "  'lang': 'en'},\n",
              " 'is_quote_status': False,\n",
              " 'retweet_count': 841,\n",
              " 'favorite_count': 0,\n",
              " 'favorited': False,\n",
              " 'retweeted': False,\n",
              " 'lang': 'en'}"
            ]
          },
          "metadata": {},
          "execution_count": 12
        }
      ]
    },
    {
      "cell_type": "code",
      "source": [
        "potus_tweets[4]['text']"
      ],
      "metadata": {
        "id": "aBzh-GKoEhOz",
        "outputId": "3c5990f2-b4f5-404d-c7e0-70a361354afa",
        "colab": {
          "base_uri": "https://localhost:8080/",
          "height": 53
        }
      },
      "execution_count": null,
      "outputs": [
        {
          "output_type": "execute_result",
          "data": {
            "text/plain": [
              "'RT @WhiteHouse: President Biden’s Executive Order is one of the most consequential executive actions taken to support hiring and retention…'"
            ],
            "application/vnd.google.colaboratory.intrinsic+json": {
              "type": "string"
            }
          },
          "metadata": {},
          "execution_count": 13
        }
      ]
    },
    {
      "cell_type": "code",
      "source": [
        "potus_tweets[4]['user']['friends_count']"
      ],
      "metadata": {
        "id": "SMXsBdQwElDm",
        "outputId": "14b291cd-8da9-420e-dc61-523d8de4a365",
        "colab": {
          "base_uri": "https://localhost:8080/"
        }
      },
      "execution_count": null,
      "outputs": [
        {
          "output_type": "execute_result",
          "data": {
            "text/plain": [
              "13"
            ]
          },
          "metadata": {},
          "execution_count": 17
        }
      ]
    }
  ]
}