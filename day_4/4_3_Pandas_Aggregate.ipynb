{
  "nbformat": 4,
  "nbformat_minor": 0,
  "metadata": {
    "colab": {
      "provenance": [],
      "authorship_tag": "ABX9TyNtAddQ2ySWuPigSJUc/3yj",
      "include_colab_link": true
    },
    "kernelspec": {
      "name": "python3",
      "display_name": "Python 3"
    },
    "language_info": {
      "name": "python"
    }
  },
  "cells": [
    {
      "cell_type": "markdown",
      "metadata": {
        "id": "view-in-github",
        "colab_type": "text"
      },
      "source": [
        "<a href=\"https://colab.research.google.com/github/MonkeyWrenchGang/PythonBootcamp/blob/main/day_4/4_3_Pandas_Aggregate.ipynb\" target=\"_parent\"><img src=\"https://colab.research.google.com/assets/colab-badge.svg\" alt=\"Open In Colab\"/></a>"
      ]
    },
    {
      "cell_type": "markdown",
      "source": [
        "# Introduction to Series and DataFrame Aggregation\n",
        "\n",
        "In data analysis, aggregation is a fundamental process that involves summarizing and extracting insights from datasets. In this notebook, we will explore aggregation techniques specifically applied to Series and DataFrames in the pandas library.\n",
        "\n",
        "## Series Aggregation\n",
        "\n",
        "Series in pandas are one-dimensional labeled arrays, often used to represent a single column of data.\n",
        "\n",
        "## DataFrame Aggregation\n",
        "\n",
        "DataFrames are two-dimensional data structures in pandas, consisting of multiple columns organized in a tabular format.\n",
        "\n",
        "### Aggregation Methods in pandas\n",
        "\n",
        "- Series Aggregation Methods: `sum()`, `mean()`, `count()`, `min()`, `max()`, `median()`, `std()`, `var()`, and more.\n",
        "- DataFrame Aggregation Methods: Similar to Series, aggregation functions can be applied to specific columns, groups of columns, or the entire DataFrame.\n",
        "\n",
        "## Example Usage\n",
        "\n",
        "Series\n",
        "```python\n",
        "import pandas as pd\n",
        "\n",
        "# Create a sample Series\n",
        "data = pd.Series([10, 20, 30, 40, 50])\n",
        "\n",
        "# Aggregate the series\n",
        "sum_result = data.sum()\n",
        "mean_result = data.mean()\n",
        "max_result = data.max()\n",
        "\n",
        "print(\"Sum:\", sum_result)\n",
        "print(\"Mean:\", mean_result)\n",
        "print(\"Max:\", max_result)\n",
        "\n",
        "```\n",
        "\n",
        "Single Column (Series) from DataFrame\n",
        "```python\n",
        "# Create a sample DataFrame\n",
        "data = {\n",
        "    'Name': ['John', 'Emma', 'Mike', 'Emily'],\n",
        "    'Age': [25, 30, 35, 28],\n",
        "    'Salary': [50000, 60000, 75000, 55000]\n",
        "}\n",
        "df = pd.DataFrame(data)\n",
        "\n",
        "# Aggregate the DataFrame\n",
        "mean_age = df['Age'].mean()\n",
        "max_salary = df['Salary'].max()\n",
        "total_salary = df['Salary'].sum()\n",
        "\n",
        "print(\"Mean Age:\", mean_age)\n",
        "print(\"Max Salary:\", max_salary)\n",
        "print(\"Total Salary:\", total_salary)\n",
        "\n",
        "```\n",
        "\n",
        "DataFrame:\n",
        "\n",
        "```python\n",
        "# Aggregate the DataFrame\n",
        "df[[\"Age\",\"Salary\"]].mean()\n",
        "\n",
        "```\n",
        "\n"
      ],
      "metadata": {
        "id": "SB7mwVQSTSWK"
      }
    },
    {
      "cell_type": "markdown",
      "source": [],
      "metadata": {
        "id": "Ls74LDgGaUJI"
      }
    },
    {
      "cell_type": "code",
      "source": [
        "import pandas as pd\n",
        "\n",
        "# Create a sample DataFrame\n",
        "data = {\n",
        "    'Name': ['John', 'Emma', 'Mike', 'Emily'],\n",
        "    'Age': [25, 30, 35, 28],\n",
        "    'Salary': [50000, 60000, 75000, 55000]\n",
        "}\n",
        "df = pd.DataFrame(data)\n",
        "\n",
        "# Aggregate the DataFrame\n",
        "df[[\"Age\",\"Salary\"]].mean()"
      ],
      "metadata": {
        "colab": {
          "base_uri": "https://localhost:8080/"
        },
        "id": "vNpxam0TZ-af",
        "outputId": "c79d38e4-626d-42a8-d460-679fff621795"
      },
      "execution_count": 2,
      "outputs": [
        {
          "output_type": "execute_result",
          "data": {
            "text/plain": [
              "Age          29.5\n",
              "Salary    60000.0\n",
              "dtype: float64"
            ]
          },
          "metadata": {},
          "execution_count": 2
        }
      ]
    },
    {
      "cell_type": "code",
      "source": [],
      "metadata": {
        "id": "-NF6RKZAZ-5e"
      },
      "execution_count": null,
      "outputs": []
    },
    {
      "cell_type": "markdown",
      "source": [
        "# Let's practice\n",
        "\n",
        "\n",
        "---\n",
        "\n",
        "\n",
        "\n",
        "1. import pandas as pd\n",
        "2. import the following CSV into a dataframe called `abnb`\n",
        "```\n",
        "\"https://raw.githubusercontent.com/MonkeyWrenchGang/MGTPython/main/module_3/data/sd_listings.csv\"\n",
        "```\n",
        "\n",
        "  - check it out using head()\n",
        "\n",
        "3. create a series called series_price like this: `series_price = abnb['price']`\n",
        "  - create varibales  mean_price, max_price and min_price using .mean(), .max(), and .min()\n",
        "  - print out the analsis with\n",
        "```python\n",
        "print(f\"San Diego price analysis: \\n mean: ${mean_price:.2f}, \\n max : ${max_price:.2f}, \\n min : ${min_price:.2f}\")```\n",
        "4. create a dataframe of abnb_slice by selecting the following columns: `price, minimum_nights, and number_of_reviews` remember use double brackets `[[ ]]`\n",
        "  - use head() to makesure all is well.\n",
        "  - use .sum() on abnb_slice to get the total\n",
        "  - use .mean() on abnb_slice to get the mean\n",
        "  - use .count() on abnb_slice to get the total\n",
        "5. use your pandas powers to figure out what the averate price for a abnb with a 1 night minimum stay is\n",
        "  - filter for minimum_nights == 1 and price > 0\n",
        "  - aggreate w. mean()\n",
        "  - print(f\"mean price for a one night stay is ${mean_price:.2f}\"\n",
        "\n",
        "6. use your pandas powers to figure out what the averate price for a abnb with a 2 night minimum stay that has more than 100 reviews.\n",
        "  - filter for minimum_nights >= 1 and price > 0 and number_of_reviews > 100\n",
        "  - aggreate w. mean()\n",
        "  - print(f\"mean price for a 2 night min stay is ${mean_price:.2f}\""
      ],
      "metadata": {
        "id": "xaf7s9rLVaMr"
      }
    },
    {
      "cell_type": "code",
      "execution_count": null,
      "metadata": {
        "id": "IGWIBusH4LIB"
      },
      "outputs": [],
      "source": []
    },
    {
      "cell_type": "markdown",
      "source": [
        "## Sample Solution\n",
        "\n",
        "\n",
        "---\n",
        "\n"
      ],
      "metadata": {
        "id": "6uLMmbZSXLzy"
      }
    },
    {
      "cell_type": "code",
      "source": [
        "#\n",
        "import pandas as pd\n",
        "\n",
        "abnb = pd.read_csv(\"https://raw.githubusercontent.com/MonkeyWrenchGang/MGTPython/main/module_3/data/sd_listings.csv\")\n",
        "abnb.head()\n",
        "\n",
        "#\n",
        "series_price = abnb['price']\n",
        "mean_price = series_price.mean()\n",
        "max_price = series_price.max()\n",
        "min_price = series_price.min()\n",
        "\n",
        "print(f\"San Diego price analysis: \\n mean: ${mean_price:.2f}, \\n max : ${max_price:.2f}, \\n min : ${min_price:.2f}\")\n",
        "\n",
        "#\n",
        "abnb_slice = abnb[[\"price\", \"minimum_nights\", \"number_of_reviews\"]]\n",
        "abnb_slice.sum()\n",
        "abnb_slice.mean()\n",
        "abnb_slice.count()\n",
        "\n"
      ],
      "metadata": {
        "id": "iTYanLZUf06O"
      },
      "execution_count": null,
      "outputs": []
    }
  ]
}