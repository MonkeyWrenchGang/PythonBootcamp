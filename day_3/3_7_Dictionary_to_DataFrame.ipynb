{
  "nbformat": 4,
  "nbformat_minor": 0,
  "metadata": {
    "colab": {
      "provenance": [],
      "authorship_tag": "ABX9TyOYpMs5eJdwkZkqfLqlqCtW",
      "include_colab_link": true
    },
    "kernelspec": {
      "name": "python3",
      "display_name": "Python 3"
    },
    "language_info": {
      "name": "python"
    }
  },
  "cells": [
    {
      "cell_type": "markdown",
      "metadata": {
        "id": "view-in-github",
        "colab_type": "text"
      },
      "source": [
        "<a href=\"https://colab.research.google.com/github/MonkeyWrenchGang/PythonBootcamp/blob/main/day_3/3_7_Dictionary_to_DataFrame.ipynb\" target=\"_parent\"><img src=\"https://colab.research.google.com/assets/colab-badge.svg\" alt=\"Open In Colab\"/></a>"
      ]
    },
    {
      "cell_type": "code",
      "source": [
        "# import libraries\n",
        "import warnings\n",
        "warnings.filterwarnings(\"ignore\", category=FutureWarning) # Suppress the FutureWarning\n",
        "\n",
        "import pandas as pd\n",
        "import requests\n",
        "import pickle\n",
        "import pprint\n",
        "import io"
      ],
      "metadata": {
        "id": "f0OwirealT--"
      },
      "execution_count": 2,
      "outputs": []
    },
    {
      "cell_type": "markdown",
      "source": [
        "# Converting a Dictionary to DataFrame\n",
        "\n",
        "\n",
        "---\n",
        "\n",
        "\n",
        "- To convert a dictionary to a pandas DataFrame, we can use the `pd.DataFrame` function provided by the pandas library.\n",
        "- The keys of the dictionary will become the column names of the DataFrame, and the corresponding values will populate the columns.\n",
        "\n",
        "an example :\n",
        "\n",
        "```python\n",
        "import pandas as pd\n",
        "\n",
        "# Sample dictionary\n",
        "data = {\n",
        "    'Name': ['John', 'Emma', 'Peter'],\n",
        "    'Age': [25, 28, 32],\n",
        "    'City': ['New York', 'London', 'Paris']\n",
        "}\n",
        "\n",
        "# Convert dictionary to DataFrame\n",
        "df = pd.DataFrame(data)\n",
        "```\n",
        "\n",
        "- In the example above, the resulting DataFrame will have three columns: 'Name', 'Age', and 'City'.\n",
        "- The values in each column are populated from the corresponding lists in the dictionary.\n",
        "\n"
      ],
      "metadata": {
        "id": "vO3GPStAkqHy"
      }
    },
    {
      "cell_type": "code",
      "execution_count": 1,
      "metadata": {
        "colab": {
          "base_uri": "https://localhost:8080/"
        },
        "id": "QbLsx7QBjp_G",
        "outputId": "8704fd7b-f5fe-44dd-c580-354fa013843a"
      },
      "outputs": [
        {
          "output_type": "stream",
          "name": "stdout",
          "text": [
            "    Name  Age      City\n",
            "0   John   25  New York\n",
            "1   Emma   28    London\n",
            "2  Peter   32     Paris\n"
          ]
        }
      ],
      "source": [
        "import pandas as pd\n",
        "\n",
        "# Sample dictionary\n",
        "data = {\n",
        "    'Name': ['John', 'Emma', 'Peter'],\n",
        "    'Age': [25, 28, 32],\n",
        "    'City': ['New York', 'London', 'Paris']\n",
        "}\n",
        "\n",
        "# Convert dictionary to DataFrame\n",
        "df = pd.DataFrame(data)\n",
        "\n",
        "# Print the DataFrame\n",
        "print(df)\n"
      ]
    },
    {
      "cell_type": "markdown",
      "source": [
        "# More complex example\n",
        "\n",
        "## Converting List of Dictionaries to DataFrame\n",
        "\n",
        "Converting a list of dictionaries to a DataFrame is easy with `pd.DataFrame()`. Follow these steps:\n",
        "\n",
        "1. Import the pandas library: `import pandas as pd`\n",
        "2. Create a list of dictionaries, where each dictionary represents a row of data.\n",
        "3. Pass the list of dictionaries to the `pd.DataFrame()` function.\n",
        "\n",
        "Copy, paste, and run the Example:\n",
        "\n",
        "```python\n",
        "import pandas as pd\n",
        "\n",
        "# Sample list of dictionaries\n",
        "data = [\n",
        "    {'Name': 'John', 'Age': 25, 'City': 'New York'},\n",
        "    {'Name': 'Emma', 'Age': 28, 'City': 'London'},\n",
        "    {'Name': 'Peter', 'Age': 32, 'City': 'Paris'}\n",
        "]\n",
        "\n",
        "# Convert list of dictionaries to DataFrame\n",
        "df = pd.DataFrame(data)\n",
        "df\n",
        "```"
      ],
      "metadata": {
        "id": "1wwmUsQbmMkA"
      }
    },
    {
      "cell_type": "code",
      "source": [],
      "metadata": {
        "id": "gnFAb28AmRQB"
      },
      "execution_count": null,
      "outputs": []
    },
    {
      "cell_type": "markdown",
      "source": [
        "## Let's look at our Trivia Questions\n",
        "\n",
        "\n",
        "---\n",
        "\n"
      ],
      "metadata": {
        "id": "1oaI534zlF0s"
      }
    },
    {
      "cell_type": "code",
      "source": [
        "# URL of the Trivia Questions pickle file on GitHub\n",
        "url = \"https://github.com/MonkeyWrenchGang/PythonBootcamp/raw/main/day_3/data/trivia_data.pkl\"\n",
        "\n",
        "# Download the pickle file\n",
        "response = requests.get(url)\n",
        "\n",
        "# Check if the request was successful\n",
        "if response.status_code == 200:\n",
        "    # Create a file-like object from the response content\n",
        "    file_content = io.BytesIO(response.content)\n",
        "    # Unpickle the data\n",
        "    trivia_qs = pickle.load(file_content)\n",
        "    pprint.pprint(trivia_qs)\n",
        "    print(f\"TriviaQs object type {type(trivia_qs)}\")\n",
        "else:\n",
        "    print(f\"Error: {response.status_code}\")"
      ],
      "metadata": {
        "colab": {
          "base_uri": "https://localhost:8080/"
        },
        "id": "GzVLy25TlPTu",
        "outputId": "da8e2193-2b66-4a05-864a-fc8e166f7143"
      },
      "execution_count": 4,
      "outputs": [
        {
          "output_type": "stream",
          "name": "stdout",
          "text": [
            "{'response_code': 0,\n",
            " 'results': [{'category': 'Celebrities',\n",
            "              'correct_answer': 'Sundance',\n",
            "              'difficulty': 'easy',\n",
            "              'incorrect_answers': ['Woodward', 'Turner', 'Booker'],\n",
            "              'question': 'Named after a character he played in a 1969 film, '\n",
            "                          'what is the name of the ski resort in Utah that '\n",
            "                          'Robert Redford bought in 1968?',\n",
            "              'type': 'multiple'},\n",
            "             {'category': 'Celebrities',\n",
            "              'correct_answer': 'Charlie Sheen',\n",
            "              'difficulty': 'easy',\n",
            "              'incorrect_answers': ['Ricky Martin',\n",
            "                                    'Bruno Mars',\n",
            "                                    'Joaquin Phoenix'],\n",
            "              'question': 'By what name is Carlos Estevez better known? ',\n",
            "              'type': 'multiple'},\n",
            "             {'category': 'Celebrities',\n",
            "              'correct_answer': 'Catherine Zeta-Jones',\n",
            "              'difficulty': 'easy',\n",
            "              'incorrect_answers': ['Ruth Jones',\n",
            "                                    'Pam Ferris',\n",
            "                                    'Sara Sugarman'],\n",
            "              'question': 'Which actress married Michael Douglas in 2000?',\n",
            "              'type': 'multiple'},\n",
            "             {'category': 'Celebrities',\n",
            "              'correct_answer': 'Abandoned Buildings and Dead Malls',\n",
            "              'difficulty': 'easy',\n",
            "              'incorrect_answers': ['Historic Landmarks',\n",
            "                                    'Action Films',\n",
            "                                    'Documentaries '],\n",
            "              'question': 'What does film maker Dan Bell typically focus his '\n",
            "                          'films on?',\n",
            "              'type': 'multiple'},\n",
            "             {'category': 'Celebrities',\n",
            "              'correct_answer': 'Drug Overdose',\n",
            "              'difficulty': 'easy',\n",
            "              'incorrect_answers': ['Knife Attack', 'House Fire', 'Gunshot'],\n",
            "              'question': 'What was the cause of Marilyn Monroes suicide?',\n",
            "              'type': 'multiple'},\n",
            "             {'category': 'Celebrities',\n",
            "              'correct_answer': 'Apple',\n",
            "              'difficulty': 'easy',\n",
            "              'incorrect_answers': ['Lily', 'French', 'Dakota'],\n",
            "              'question': 'Gwyneth Paltrow has a daughter named...?',\n",
            "              'type': 'multiple'},\n",
            "             {'category': 'Celebrities',\n",
            "              'correct_answer': 'Kanye West',\n",
            "              'difficulty': 'easy',\n",
            "              'incorrect_answers': ['Donald Trump',\n",
            "                                    'Leonardo DiCaprio',\n",
            "                                    'Miley Cyrus'],\n",
            "              'question': 'Which celebrity announced his presidency in 2015?',\n",
            "              'type': 'multiple'},\n",
            "             {'category': 'Celebrities',\n",
            "              'correct_answer': 'Drake',\n",
            "              'difficulty': 'easy',\n",
            "              'incorrect_answers': ['Travis Scott', 'Lil Wayne', '2 Chainz'],\n",
            "              'question': 'Aubrey Graham is better known as',\n",
            "              'type': 'multiple'},\n",
            "             {'category': 'Celebrities',\n",
            "              'correct_answer': 'Martin Sheen',\n",
            "              'difficulty': 'easy',\n",
            "              'incorrect_answers': ['Charlie Sheen',\n",
            "                                    'Ramon Sheen',\n",
            "                                    'Emilio Estevez'],\n",
            "              'question': 'By which name is Ramon Estevez better known as?',\n",
            "              'type': 'multiple'},\n",
            "             {'category': 'Celebrities',\n",
            "              'correct_answer': 'American Gun',\n",
            "              'difficulty': 'easy',\n",
            "              'incorrect_answers': ['Monsters Inc',\n",
            "                                    'Texas Rangers',\n",
            "                                    'Snow Dogs'],\n",
            "              'question': 'What was James Coburn&#039;s last film role before '\n",
            "                          'his death?',\n",
            "              'type': 'multiple'}]}\n",
            "TriviaQs object type <class 'dict'>\n"
          ]
        }
      ]
    },
    {
      "cell_type": "markdown",
      "source": [
        "## IF you remember\n",
        "\n",
        "look at the dictionary's `.keys()`\n",
        "\n",
        "```python\n",
        "trivia_qs.keys()\n",
        "```\n",
        "`dict_keys(['response_code', 'results'])`\n",
        "\n",
        "we are interesated in results"
      ],
      "metadata": {
        "id": "N_GB7iXUlc5d"
      }
    },
    {
      "cell_type": "code",
      "source": [
        "trivia_qs.keys()"
      ],
      "metadata": {
        "colab": {
          "base_uri": "https://localhost:8080/"
        },
        "id": "UucbFbiFlprv",
        "outputId": "171874f1-fb73-46b1-c90f-3d45378de975"
      },
      "execution_count": 5,
      "outputs": [
        {
          "output_type": "execute_result",
          "data": {
            "text/plain": [
              "dict_keys(['response_code', 'results'])"
            ]
          },
          "metadata": {},
          "execution_count": 5
        }
      ]
    },
    {
      "cell_type": "markdown",
      "source": [
        "## Now extract the 'results'\n",
        "\n",
        "this is a list of dictionaries - perfect for our conversion!\n",
        "\n",
        "```python\n",
        "# what type is this\n",
        "type(trivia_qs['results'])\n",
        "\n",
        "```"
      ],
      "metadata": {
        "id": "Ill8pWAnlwrb"
      }
    },
    {
      "cell_type": "code",
      "source": [
        "type(trivia_qs['results'])"
      ],
      "metadata": {
        "colab": {
          "base_uri": "https://localhost:8080/"
        },
        "id": "SEvDuQjIl2US",
        "outputId": "1ae20ecf-ee6f-4b7e-ba9d-9048e2e1302c"
      },
      "execution_count": 7,
      "outputs": [
        {
          "output_type": "execute_result",
          "data": {
            "text/plain": [
              "list"
            ]
          },
          "metadata": {},
          "execution_count": 7
        }
      ]
    },
    {
      "cell_type": "markdown",
      "source": [
        "## Now convert list of dictionaries to a dataframe\n",
        "\n",
        "As we've seen, Converting a list of dictionaries to a DataFrame is easy with pd.DataFrame().\n",
        "\n",
        "Follow these steps:\n",
        "\n",
        "1. Create a list of dictionaries, where each dictionary represents a row of data\n",
        "  - `trivia_qs['results']`\n",
        "2. Pass the list of dictionaries to the pd.DataFrame() function.\n",
        "  - `pd.DataFrame(trivia_qs['results'])`\n",
        "\n",
        "copy, paste and run:\n",
        "\n",
        "```python\n",
        "trivia_df = pd.DataFrame(trivia_qs['results'])\n",
        "trivia_df\n"
      ],
      "metadata": {
        "id": "1ox_O-APl_7q"
      }
    },
    {
      "cell_type": "code",
      "source": [],
      "metadata": {
        "id": "WOWd_lr1mWbx"
      },
      "execution_count": null,
      "outputs": []
    }
  ]
}