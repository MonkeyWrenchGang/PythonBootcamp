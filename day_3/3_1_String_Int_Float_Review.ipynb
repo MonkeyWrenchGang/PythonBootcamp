{
  "nbformat": 4,
  "nbformat_minor": 0,
  "metadata": {
    "colab": {
      "provenance": [],
      "authorship_tag": "ABX9TyPJCQeyYyMNmtUoiyOapioC",
      "include_colab_link": true
    },
    "kernelspec": {
      "name": "python3",
      "display_name": "Python 3"
    },
    "language_info": {
      "name": "python"
    }
  },
  "cells": [
    {
      "cell_type": "markdown",
      "metadata": {
        "id": "view-in-github",
        "colab_type": "text"
      },
      "source": [
        "<a href=\"https://colab.research.google.com/github/MonkeyWrenchGang/PythonBootcamp/blob/main/day_3/3_1_String_Int_Float_Review.ipynb\" target=\"_parent\"><img src=\"https://colab.research.google.com/assets/colab-badge.svg\" alt=\"Open In Colab\"/></a>"
      ]
    },
    {
      "cell_type": "markdown",
      "source": [
        "# String, Int and Float Review\n",
        "\n",
        "\n",
        "---\n",
        "\n",
        "1. What is the difference between a string and an integer in Python?\n",
        "2. How can you check the data type of a variable in Python?\n",
        "3. What are some common string methods in Python? Provide examples.\n",
        "4. How do you concatenate strings in Python?\n",
        "5. How can you convert a string to an integer in Python?\n",
        "6. How can you convert an integer to a string in Python?\n",
        "7. What is the difference between integer division (`//`) and regular division (`/`) in Python?\n",
        "8. How can you format a string to include variables or expressions using f-strings in Python?\n",
        "9. How can you round a floating-point number to a specified number of decimal places in Python?\n",
        "10. How can you format a string to include variables or expressions using .format() in Python?"
      ],
      "metadata": {
        "id": "1DFTAph95HCg"
      }
    },
    {
      "cell_type": "code",
      "execution_count": null,
      "metadata": {
        "id": "015IBiEi5GmD"
      },
      "outputs": [],
      "source": [
        "# What is the difference between a string and an integer in Python?\n"
      ]
    },
    {
      "cell_type": "code",
      "source": [
        "# How can you check the data type of a variable in Python?\n",
        "var_1 = \"Hello\"\n",
        "var_2 = 10\n",
        "print(type(var_1))\n",
        "print(type(var_2))"
      ],
      "metadata": {
        "id": "lkyFR3M-BBr3",
        "outputId": "3bcd655a-c7c8-41f8-d278-f1c66c8b8619",
        "colab": {
          "base_uri": "https://localhost:8080/"
        }
      },
      "execution_count": 1,
      "outputs": [
        {
          "output_type": "stream",
          "name": "stdout",
          "text": [
            "<class 'str'>\n",
            "<class 'int'>\n"
          ]
        }
      ]
    },
    {
      "cell_type": "code",
      "source": [],
      "metadata": {
        "id": "bflj3up4BB8Q"
      },
      "execution_count": null,
      "outputs": []
    },
    {
      "cell_type": "code",
      "source": [],
      "metadata": {
        "id": "WZrWA4NKBCNK"
      },
      "execution_count": null,
      "outputs": []
    },
    {
      "cell_type": "code",
      "source": [],
      "metadata": {
        "id": "IIJvRAsdBCVf"
      },
      "execution_count": null,
      "outputs": []
    },
    {
      "cell_type": "code",
      "source": [],
      "metadata": {
        "id": "JZhKglQeBClZ"
      },
      "execution_count": null,
      "outputs": []
    },
    {
      "cell_type": "code",
      "source": [],
      "metadata": {
        "id": "HRJSAMiO5aUq"
      },
      "execution_count": null,
      "outputs": []
    },
    {
      "cell_type": "code",
      "source": [],
      "metadata": {
        "id": "l99tp1iE5aYy"
      },
      "execution_count": null,
      "outputs": []
    },
    {
      "cell_type": "code",
      "source": [],
      "metadata": {
        "id": "5oyL9Luo5abr"
      },
      "execution_count": null,
      "outputs": []
    },
    {
      "cell_type": "code",
      "source": [],
      "metadata": {
        "id": "q8n7_mPQ5aei"
      },
      "execution_count": null,
      "outputs": []
    },
    {
      "cell_type": "code",
      "source": [],
      "metadata": {
        "id": "O9Z2iSIx5ahX"
      },
      "execution_count": null,
      "outputs": []
    }
  ]
}