{
  "nbformat": 4,
  "nbformat_minor": 0,
  "metadata": {
    "colab": {
      "provenance": [],
      "authorship_tag": "ABX9TyN0bgvHrLdT5zdua96y46Ak",
      "include_colab_link": true
    },
    "kernelspec": {
      "name": "python3",
      "display_name": "Python 3"
    },
    "language_info": {
      "name": "python"
    }
  },
  "cells": [
    {
      "cell_type": "markdown",
      "metadata": {
        "id": "view-in-github",
        "colab_type": "text"
      },
      "source": [
        "<a href=\"https://colab.research.google.com/github/MonkeyWrenchGang/PythonBootcamp/blob/main/day_3/3_1_String_Int_Float_Review.ipynb\" target=\"_parent\"><img src=\"https://colab.research.google.com/assets/colab-badge.svg\" alt=\"Open In Colab\"/></a>"
      ]
    },
    {
      "cell_type": "markdown",
      "source": [
        "# String, Int and Float Review\n",
        "\n",
        "\n",
        "---\n",
        "\n",
        "1. What is the difference between a string and an integer in Python?\n",
        "2. How can you check the data type of a variable in Python?\n",
        "3. What are some common string methods in Python? Provide examples.\n",
        "4. How do you concatenate strings in Python?\n",
        "5. How can you convert a string to an integer in Python?\n",
        "6. How can you convert an integer to a string in Python?\n",
        "7. What is the difference between integer division (`//`) and regular division (`/`) in Python?\n",
        "8. How can you format a string to include variables or expressions using f-strings in Python?\n",
        "9. How can you round a floating-point number to a specified number of decimal places in Python?\n",
        "10. How can you format a string to include variables or expressions using .format() in Python?"
      ],
      "metadata": {
        "id": "1DFTAph95HCg"
      }
    },
    {
      "cell_type": "code",
      "execution_count": null,
      "metadata": {
        "id": "015IBiEi5GmD"
      },
      "outputs": [],
      "source": [
        "# What is the difference between a string and an integer in Python?\n"
      ]
    },
    {
      "cell_type": "code",
      "source": [
        "# How can you check the data type of a variable in Python?\n",
        "var_1 = \"Hello\"\n",
        "var_2 = 10\n",
        "print(type(var_1))\n",
        "print(type(var_2))"
      ],
      "metadata": {
        "colab": {
          "base_uri": "https://localhost:8080/"
        },
        "id": "lkyFR3M-BBr3",
        "outputId": "3bcd655a-c7c8-41f8-d278-f1c66c8b8619"
      },
      "execution_count": 1,
      "outputs": [
        {
          "output_type": "stream",
          "name": "stdout",
          "text": [
            "<class 'str'>\n",
            "<class 'int'>\n"
          ]
        }
      ]
    },
    {
      "cell_type": "code",
      "source": [
        "# What are some common string methods in Python? Provide examples.\n",
        "var_1 = \"Hello\"\n",
        "var_2 = \"World\"\n",
        "var_3 = \"this is a string\"\n",
        "print(var_1.upper())\n",
        "print(var_2.lower())\n",
        "print(var_1.capitalize())\n",
        "print(var_2.title())\n",
        "print(var_1.replace(\"H\", \"J\"))\n",
        "print(var_3.split())"
      ],
      "metadata": {
        "colab": {
          "base_uri": "https://localhost:8080/"
        },
        "id": "bflj3up4BB8Q",
        "outputId": "fbb859a1-810f-4c94-f111-9dd50f2c51b3"
      },
      "execution_count": 3,
      "outputs": [
        {
          "output_type": "stream",
          "name": "stdout",
          "text": [
            "HELLO\n",
            "world\n",
            "Hello\n",
            "World\n",
            "Jello\n",
            "['this', 'is', 'a', 'string']\n"
          ]
        }
      ]
    },
    {
      "cell_type": "code",
      "source": [
        "# How do you concatenate strings in Python?\n",
        "var_1 = \"Hello\"\n",
        "var_2 = \"World\"\n",
        "print(var_1 + \" \" + var_2)\n",
        "concat_var = var_1 + \" \" + var_2\n",
        "print(concat_var)\n"
      ],
      "metadata": {
        "colab": {
          "base_uri": "https://localhost:8080/"
        },
        "id": "WZrWA4NKBCNK",
        "outputId": "64157c63-c783-4d44-c9f3-a88b150b9ca3"
      },
      "execution_count": 4,
      "outputs": [
        {
          "output_type": "stream",
          "name": "stdout",
          "text": [
            "Hello World\n",
            "Hello World\n"
          ]
        }
      ]
    },
    {
      "cell_type": "code",
      "source": [
        "# How can you convert a string to an integer in Python?\n",
        "var_1 = \"10\"\n",
        "print(type(var_1))\n",
        "var_2 = int(var_1)\n",
        "print(type(var_2))\n"
      ],
      "metadata": {
        "colab": {
          "base_uri": "https://localhost:8080/"
        },
        "id": "IIJvRAsdBCVf",
        "outputId": "fae592e1-06fd-4149-e935-c422646ac887"
      },
      "execution_count": 5,
      "outputs": [
        {
          "output_type": "stream",
          "name": "stdout",
          "text": [
            "<class 'str'>\n",
            "<class 'int'>\n"
          ]
        }
      ]
    },
    {
      "cell_type": "code",
      "source": [
        "# What is the difference between integer division (//) and regular division (/) in Python?\n",
        "var_1 = 10\n",
        "var_2 = 3\n",
        "print(var_1 // var_2)\n",
        "print(var_1 / var_2)\n"
      ],
      "metadata": {
        "colab": {
          "base_uri": "https://localhost:8080/"
        },
        "id": "JZhKglQeBClZ",
        "outputId": "eee82322-e4b6-4bd8-d54c-f9f09998959d"
      },
      "execution_count": 6,
      "outputs": [
        {
          "output_type": "stream",
          "name": "stdout",
          "text": [
            "3\n",
            "3.3333333333333335\n"
          ]
        }
      ]
    },
    {
      "cell_type": "code",
      "source": [
        "# How can you format a string to include variables or expressions using f-strings in Python?\n",
        "var_1 = \"Hello\"\n",
        "var_2 = \"World\"\n",
        "print(f\"{var_1} {var_2}\")\n"
      ],
      "metadata": {
        "id": "HRJSAMiO5aUq",
        "colab": {
          "base_uri": "https://localhost:8080/"
        },
        "outputId": "9d1bb1d6-04f9-49a3-fd0f-b2c5103127fd"
      },
      "execution_count": 7,
      "outputs": [
        {
          "output_type": "stream",
          "name": "stdout",
          "text": [
            "Hello World\n"
          ]
        }
      ]
    },
    {
      "cell_type": "code",
      "source": [
        "# How can you round a floating-point number to a specified number of decimal places in Python?\n",
        "var_1 = 3.14159\n",
        "print(f\"{var_1:.2f}\")\n",
        "print(f\"{var_1:.3f}\")"
      ],
      "metadata": {
        "id": "l99tp1iE5aYy",
        "colab": {
          "base_uri": "https://localhost:8080/"
        },
        "outputId": "0b784e47-a187-49fa-ece9-6a53d044d6e0"
      },
      "execution_count": 10,
      "outputs": [
        {
          "output_type": "stream",
          "name": "stdout",
          "text": [
            "3.14\n",
            "3.142\n"
          ]
        }
      ]
    },
    {
      "cell_type": "code",
      "source": [
        "# How can you format a string to include variables or expressions using .format() in Python?\n",
        "print(\"Hello {0} {1}\".format(\"World\", \"!\"))\n",
        "print(\"Hello {name} {greeting}\".format(name=\"World\", greeting=\"!\"))"
      ],
      "metadata": {
        "id": "5oyL9Luo5abr",
        "colab": {
          "base_uri": "https://localhost:8080/"
        },
        "outputId": "b19f199a-6ad3-4e28-b4b6-057f2bfe73c4"
      },
      "execution_count": 11,
      "outputs": [
        {
          "output_type": "stream",
          "name": "stdout",
          "text": [
            "Hello World !\n",
            "Hello World !\n"
          ]
        }
      ]
    },
    {
      "cell_type": "code",
      "source": [],
      "metadata": {
        "id": "q8n7_mPQ5aei"
      },
      "execution_count": null,
      "outputs": []
    },
    {
      "cell_type": "code",
      "source": [],
      "metadata": {
        "id": "O9Z2iSIx5ahX"
      },
      "execution_count": null,
      "outputs": []
    }
  ]
}