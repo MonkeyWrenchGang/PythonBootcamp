{
  "nbformat": 4,
  "nbformat_minor": 0,
  "metadata": {
    "colab": {
      "provenance": [],
      "authorship_tag": "ABX9TyMj5uBLTcFgiwjbtqFAitfW",
      "include_colab_link": true
    },
    "kernelspec": {
      "name": "python3",
      "display_name": "Python 3"
    },
    "language_info": {
      "name": "python"
    }
  },
  "cells": [
    {
      "cell_type": "markdown",
      "metadata": {
        "id": "view-in-github",
        "colab_type": "text"
      },
      "source": [
        "<a href=\"https://colab.research.google.com/github/MonkeyWrenchGang/MGTPython/blob/main/day_3/3_3_Journey_into_FOR_Loops.ipynb\" target=\"_parent\"><img src=\"https://colab.research.google.com/assets/colab-badge.svg\" alt=\"Open In Colab\"/></a>"
      ]
    },
    {
      "cell_type": "markdown",
      "source": [
        "# Unleashing the Power of Repetition\n",
        "\n",
        "## Introduction:\n",
        "\n",
        "Welcome to the world of loops! In the realm of programming, loops are invaluable tools that allow us to perform repetitive tasks with ease and efficiency. Whether we need to repeat a specific set of instructions a certain number of times or keep executing a block of code until a particular condition is met, loops provide us with the ability to automate and streamline our programs.\n",
        "\n",
        "In this notebook, we will embark on a journey to explore the **for loop**. This is the #1 loop to have in your toolkit and will greatly enhance your abilities.\n",
        "\n",
        "**For loops serve are the gateway drug to unlocking your true potential as a lazy data scientist. **\n",
        "\n"
      ],
      "metadata": {
        "id": "kWsBAeJuqJCk"
      }
    },
    {
      "cell_type": "code",
      "source": [
        "# import libraries\n",
        "import requests\n",
        "import pickle\n",
        "import pprint\n",
        "import io"
      ],
      "metadata": {
        "id": "wbIxtz2ts0Is"
      },
      "execution_count": 7,
      "outputs": []
    },
    {
      "cell_type": "markdown",
      "source": [
        "# For Loops: Embracing the Power of Iteration\n",
        "\n",
        "## Introduction:\n",
        "\n",
        "The most versatile and commonly used loops in programming is the **for loop**. This loop allows us to iterate over a sequence of elements, **executing a block of code a specified number of times**. Whether you want to perform a certain task for every element in a list or repeat an operation a fixed number of times, the for loop is your go-to tool.\n",
        "\n",
        "The for loop structure is designed to make repetitive tasks more manageable and concise. By leveraging the power of iteration, we can automate processes, manipulate data, and solve complex problems efficiently. As you dive deeper into programming, the for loop will become an indispensable ally in your coding journey.\n",
        "\n",
        "# For Loops: Embracing the Power of Iteration\n",
        "\n",
        "## Introduction:\n",
        "\n",
        "One of the most versatile and commonly used loops in programming is the **for loop**. This loop allows us to iterate over a sequence of elements, executing a block of code a specified number of times. Whether you want to perform a certain task for every element in a list or repeat an operation a fixed number of times, the for loop is your go-to tool.\n",
        "\n",
        "\n",
        "## Anatomy of a For Loop:\n",
        "\n",
        "A for loop typically consists of two essential components:\n",
        "\n",
        "1. **Initialization**: We start by initializing a control variable to a specific value. This variable will act as a counter, keeping track of the current iteration.\n",
        "\n",
        "2. **Iteration**: After each iteration, the control variable is updated, progressing towards the loop's termination. This update is typically done by incrementing or decrementing the control variable.\n",
        "\n",
        "Let's take a look at a simple example to solidify our understanding of for loops.\n",
        "\n",
        "copy and paste the following:\n",
        "```python\n",
        "# Example: Printing numbers from 1 to 10 using a for loop\n",
        "for i in range(1, 10):\n",
        "    print(i)\n",
        "```\n",
        "\n"
      ],
      "metadata": {
        "id": "DNX6-bCHqm0j"
      }
    },
    {
      "cell_type": "code",
      "execution_count": null,
      "metadata": {
        "id": "tOCZnKwfqIpW"
      },
      "outputs": [],
      "source": []
    },
    {
      "cell_type": "markdown",
      "source": [
        "## Looping over a list\n",
        "\n",
        "Let's look at the following code snippet\n",
        "\n",
        "```python\n",
        "sequence = [10,20,30,40,50]\n",
        "for x in sequence:\n",
        "    print(\"index {0}: {1}\".format(+ sequence.index(x),x))\n",
        "\n",
        "```\n",
        "\n",
        "In this code, we have a list called sequence containing five elements: 10, 20, 30, 40, and 50. We use a for loop to iterate over each element in the sequence list.\n",
        "\n",
        "During each iteration of the loop, the variable `x` takes on the value of the current element. The loop then executes the indented code block, which consists of a single statement:\n",
        "\n",
        "```python\n",
        "print(\"index {0}: {1}\".format(sequence.index(x), x))\n",
        "```\n",
        "\n",
        "This line of code uses the `format()` method to format and print a string. Let's break down the formatting in more detail:\n",
        "\n",
        "- `\"index {0}: {1}\"`: This is the format string, which contains two placeholders {0} and {1}. These placeholders will be replaced with the values provided in the format() method.\n",
        "- `sequence.index(x)`: This expression retrieves the **index of the current element** x within the sequence list. The `index()` method returns the first occurrence of the element's index.\n",
        "- `x`: This is the value of the current element x from the sequence list.\n",
        "\n",
        "## Your turn\n",
        "update the code above with the following list\n",
        "\n",
        "```\n",
        "fruit = [\"apple\", \"bannana\", \"pear\", \"orange\"]\n",
        "```"
      ],
      "metadata": {
        "id": "Yutz5wszrPHR"
      }
    },
    {
      "cell_type": "code",
      "source": [],
      "metadata": {
        "id": "ZZMPyF9osAE5"
      },
      "execution_count": null,
      "outputs": []
    },
    {
      "cell_type": "markdown",
      "source": [
        "# Looping over a dictionary\n",
        "\n",
        "\n",
        "---\n",
        "\n",
        "so you are given the following dictionary of stocks:\n",
        "\n",
        "```python\n",
        "stocks = {\n",
        "    'FB': 351.86,\n",
        "    'AMZN': 3418.22,\n",
        "    'AAPL': 136.54,\n",
        "    'NFLX': 532.34,\n",
        "    'GOOG': 2516.08\n",
        "    }\n",
        "```\n",
        "\n",
        "we want a print out that looks like this:\n",
        "\n",
        "stock: FB, price $351.86\n",
        "stock: AMZN, price $3418.22\n",
        "stock: AAPL, price $136.54\n",
        "stock: NFLX, price $532.34\n",
        "stock: GOOG, price $2516.08\n",
        "\n",
        "to do this we need to loop over the dictionary, we do this with the .keys() dictionary method\n",
        "\n",
        "\n",
        "1. start with stocks.keys() what does that return?\n",
        "2. loop over stocks.keys()\n",
        "  - extract the \"value\" from stock and print.\n",
        "  - how do you format so you get a $ in front of the price?\n",
        ""
      ],
      "metadata": {
        "id": "HAAXT3qMuqel"
      }
    },
    {
      "cell_type": "code",
      "source": [],
      "metadata": {
        "id": "XjivF6UpvVRc"
      },
      "execution_count": null,
      "outputs": []
    },
    {
      "cell_type": "code",
      "source": [],
      "metadata": {
        "id": "y2VGPEG_vVXK"
      },
      "execution_count": null,
      "outputs": []
    },
    {
      "cell_type": "code",
      "source": [],
      "metadata": {
        "id": "rSN2YM93vViE"
      },
      "execution_count": null,
      "outputs": []
    },
    {
      "cell_type": "markdown",
      "source": [
        "# Real World List Looping - 911 Calls\n",
        "\n",
        "Remember our Nashville 911 calls?\n",
        "\n",
        "Exercise: In this example we are going to download our calls, then loop through each call and extract 'call_rec', 'disposition_description' and keep a running counter of calls.\n",
        "\n",
        "\n",
        "\n"
      ],
      "metadata": {
        "id": "iCJo9pT5sf67"
      }
    },
    {
      "cell_type": "code",
      "source": [
        "# URL of the POTUS pickle file on GitHub\n",
        "url = \"https://github.com/MonkeyWrenchGang/PythonBootcamp/raw/main/day_3/data/nashville_911_call_data.pkl\"\n",
        "# Download the pickle file\n",
        "response = requests.get(url)\n",
        "\n",
        "# Check if the request was successful\n",
        "if response.status_code == 200:\n",
        "    # Create a file-like object from the response content\n",
        "    file_content = io.BytesIO(response.content)\n",
        "    # Unpickle the data\n",
        "    nashville_911 = pickle.load(file_content)\n",
        "    print(f\"Nashville object type {type(nashville_911)}\")\n",
        "    print(\"first call: \\n\")\n",
        "    pprint.pprint(nashville_911[0])\n",
        "    print(\"\\n\")\n",
        "else:\n",
        "    print(f\"Error: {response.status_code}\")"
      ],
      "metadata": {
        "colab": {
          "base_uri": "https://localhost:8080/"
        },
        "id": "hdc-4wlpslCA",
        "outputId": "6a1555df-0544-4be1-fac9-5882b6619f63"
      },
      "execution_count": 9,
      "outputs": [
        {
          "output_type": "stream",
          "name": "stdout",
          "text": [
            "Nashville object type <class 'list'>\n",
            "first call: \n",
            "\n",
            "{'block': '900',\n",
            " 'call_rec': '2023-06-12T23:59:42.000',\n",
            " 'disposition_code': '4',\n",
            " 'disposition_description': 'ASSISTED CITIZEN',\n",
            " 'event_number': 'PD202300416478',\n",
            " 'shift': 'C',\n",
            " 'street_name': 'E TRINITY LN',\n",
            " 'tencode': '3',\n",
            " 'unit_dispatched': '227B'}\n",
            "\n",
            "\n"
          ]
        }
      ]
    },
    {
      "cell_type": "markdown",
      "source": [
        "## So we have a list `nashville_911`\n",
        "\n",
        "we need to loop over the list,\n",
        "\n",
        "what our print needs:\n",
        "- `call_rec`\n",
        "- `disposition_description`\n",
        "- `call_counter` - a running count of 911 calls\n",
        "\n",
        "```python\n",
        "for entry in nashville_911:\n",
        "  # your print here\n",
        "\n",
        "```"
      ],
      "metadata": {
        "id": "_X-BC1CetZtB"
      }
    },
    {
      "cell_type": "code",
      "source": [],
      "metadata": {
        "id": "4ywgadaVtoCv"
      },
      "execution_count": null,
      "outputs": []
    }
  ]
}