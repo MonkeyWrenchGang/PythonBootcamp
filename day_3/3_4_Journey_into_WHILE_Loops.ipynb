{
  "nbformat": 4,
  "nbformat_minor": 0,
  "metadata": {
    "colab": {
      "provenance": [],
      "authorship_tag": "ABX9TyNEnuZxQQWBxzC/Xc0IsDWc",
      "include_colab_link": true
    },
    "kernelspec": {
      "name": "python3",
      "display_name": "Python 3"
    },
    "language_info": {
      "name": "python"
    }
  },
  "cells": [
    {
      "cell_type": "markdown",
      "metadata": {
        "id": "view-in-github",
        "colab_type": "text"
      },
      "source": [
        "<a href=\"https://colab.research.google.com/github/MonkeyWrenchGang/PythonBootcamp/blob/main/day_3/3_4_Journey_into_WHILE_Loops.ipynb\" target=\"_parent\"><img src=\"https://colab.research.google.com/assets/colab-badge.svg\" alt=\"Open In Colab\"/></a>"
      ]
    },
    {
      "cell_type": "markdown",
      "source": [
        "# Exploring While Loops\n",
        "\n",
        "## Introduction:\n",
        "\n",
        "Welcome to the world of **while loops**! In the realm of programming, while loops execute a block of code repeatedly until a specified condition is no longer **True**. While loops provide us with the ability to create dynamic, flexible, and responsive programs by harnessing the power of repetition.\n",
        "\n",
        "While loops thrive on the principle of repetition. They continue executing a block of code as long as a given condition remains true. This gives us the freedom to control the flow of our programs based on dynamic factors, making our code more versatile and adaptable.\n",
        "\n",
        "Let's dive into the world of while loops and unlock new possibilities for dynamic, iterative programming!\n"
      ],
      "metadata": {
        "id": "K9wMBVUbvyOl"
      }
    },
    {
      "cell_type": "markdown",
      "source": [
        "## Anatomy of a While Loop:\n",
        "\n",
        "A while loop consists of three essential components:\n",
        "\n",
        "1. **Initialization**: Before entering the loop, we often initialize a variable or a set of variables that will be used as part of the condition evaluation. This step sets up the initial state for the loop.\n",
        "\n",
        "2. **Condition**: The condition is a Boolean expression that determines whether the loop should continue iterating or not. It is evaluated at the beginning of each iteration. If the condition evaluates to `True`, the loop body is executed. If the condition evaluates to `False`, the loop is terminated, and the program continues with the next statement after the loop.\n",
        "\n",
        "3. **Iteration**: Inside the loop body, we perform the desired operations or tasks. After each iteration, it is crucial to update the variables involved in the condition evaluation. This step ensures that the loop progresses towards the termination condition.\n",
        "\n",
        "Here's a simple example to illustrate the structure of a while loop:\n",
        "\n",
        "```python\n",
        "# Example: Printing numbers from 1 to 5 using a while loop\n",
        "i = 1\n",
        "while i <= 5:\n",
        "    print(i)\n",
        "    i += 1\n",
        "```\n",
        "\n",
        "What this does:\n",
        "\n",
        "*In this example, we initialize the variable i to 1 before entering the loop. The condition i <= 5 is evaluated at the beginning of each iteration. As long as i is less than or equal to 5, the loop body is executed, which prints the value of i. After each iteration, the variable i is incremented by 1 using the statement i += 1. This ensures that i progresses towards the termination condition. The loop continues until i becomes 6, at which point the condition i <= 5 evaluates to False, and the loop is terminated.*\n",
        "\n",
        "now you try: copy the code above and change so that i is <= 10"
      ],
      "metadata": {
        "id": "Xqgnf5XhwdhJ"
      }
    },
    {
      "cell_type": "code",
      "execution_count": null,
      "metadata": {
        "id": "lcRkLZE9vbQC"
      },
      "outputs": [],
      "source": []
    },
    {
      "cell_type": "markdown",
      "source": [
        "## What happens if?\n",
        "\n",
        "what happens if i never is => 10? copy the loop above and change `i += 1` to `i -= 1` and execute. be ready to stop execution! this is what is known as an infinte loop."
      ],
      "metadata": {
        "id": "lxutlJg6wxJK"
      }
    },
    {
      "cell_type": "code",
      "source": [],
      "metadata": {
        "id": "Wd8iux9mxGGB"
      },
      "execution_count": null,
      "outputs": []
    },
    {
      "cell_type": "markdown",
      "source": [
        "### Another Example\n",
        "\n",
        "copy and past this..\n",
        "```python\n",
        "count = 0\n",
        "while (count < 20):\n",
        "   print ('The count is: {0}'.format( count))\n",
        "   count = count + 1\n",
        "print (\"Good bye!\")\n",
        "```"
      ],
      "metadata": {
        "id": "SWi3rf3uxGT2"
      }
    },
    {
      "cell_type": "code",
      "source": [],
      "metadata": {
        "id": "w79rnEdGxP4G"
      },
      "execution_count": null,
      "outputs": []
    },
    {
      "cell_type": "markdown",
      "source": [
        "# Practical application of a while loop\n",
        "\n",
        "## Let's build a simple chatbot\n",
        "\n",
        "### Combine Loops, Input & Dictionaries\n",
        "\n",
        "```python\n",
        "# Simple Chatbot Example with a While Loop and Dictionary\n",
        "\n",
        "# Greet the user\n",
        "print(\"Hello! I am your friendly chatbot.\")\n",
        "print(\"type 'exit' or 'quit' to end the chat \\n\")\n",
        "# Dictionary of responses\n",
        "responses = {\n",
        "    \"how are you\": \"I'm doing great! Thanks for asking.\",\n",
        "    \"your name\": \"I'm a chatbot. You can call me ChatBot.\",\n",
        "    \"weather\": \"Sorry, I don't have access to real-time weather information.\"\n",
        "}\n",
        "\n",
        "# Start the conversation\n",
        "while True:\n",
        "    user_input = input(\"What would you like to ask me? (Type 'exit' to end the conversation): \")\n",
        "\n",
        "    # Check if the user wants to exit\n",
        "    if user_input.lower() in [\"exit\",\"quit\"]:\n",
        "        print(\"Goodbye! It was nice chatting with you.\")\n",
        "        break\n",
        "\n",
        "    # Look up response in the dictionary\n",
        "    if user_input.lower() in responses:\n",
        "        print(responses[user_input.lower()])\n",
        "    else:\n",
        "        print(\"I'm sorry, I can't answer that question.\")\n",
        "\n",
        "# End of the program\n",
        "\n",
        "\n",
        "```"
      ],
      "metadata": {
        "id": "aqwPJAgLxQQT"
      }
    },
    {
      "cell_type": "code",
      "source": [
        "# Greet the user\n",
        "print(\"Hello! I am your friendly chatbot 'HosBot'.\")\n",
        "# Dictionary of responses\n",
        "responses = {\n",
        "    \"how are you\": \"I'm doing great! Thanks for asking.\",\n",
        "    \"your name\": \"I'm a chatbot. You can call me HosBot.\",\n",
        "    \"weather\": \"Sorry, I don't have access to real-time weather information.\"\n",
        "}\n",
        "\n",
        "# Start the conversation\n",
        "while True:\n",
        "    user_input = input(\"What would you like to ask me? (Type 'exit' to end the conversation): \")\n",
        "\n",
        "    # Check if the user wants to exit\n",
        "    if user_input.lower() in [\"exit\",\"quit\"]:\n",
        "        print(\"Goodbye! It was nice chatting with you.\")\n",
        "        break\n",
        "\n",
        "    # Look up response in the dictionary\n",
        "    if user_input.lower() in responses:\n",
        "        print(responses[user_input.lower()])\n",
        "    else:\n",
        "        print(\"I'm sorry, I can't answer that question.\")\n",
        "\n",
        "# End of the program"
      ],
      "metadata": {
        "colab": {
          "base_uri": "https://localhost:8080/"
        },
        "id": "sStJvOjWx5d1",
        "outputId": "1cce94cc-b1f6-4ddf-fc95-dc4e23bc87b3"
      },
      "execution_count": 1,
      "outputs": [
        {
          "output_type": "stream",
          "name": "stdout",
          "text": [
            "Hello! I am your friendly chatbot.\n",
            "type 'exit' or 'quit' to end the chat \n",
            "\n",
            "What would you like to ask me? (Type 'exit' to end the conversation): weather\n",
            "Sorry, I don't have access to real-time weather information.\n",
            "What would you like to ask me? (Type 'exit' to end the conversation): what is your name\n",
            "I'm sorry, I can't answer that question.\n",
            "What would you like to ask me? (Type 'exit' to end the conversation): how are you\n",
            "I'm doing great! Thanks for asking.\n",
            "What would you like to ask me? (Type 'exit' to end the conversation): your name\n",
            "I'm a chatbot. You can call me ChatBot.\n",
            "What would you like to ask me? (Type 'exit' to end the conversation): exit\n",
            "Goodbye! It was nice chatting with you.\n"
          ]
        }
      ]
    }
  ]
}