{
  "nbformat": 4,
  "nbformat_minor": 0,
  "metadata": {
    "colab": {
      "provenance": [],
      "authorship_tag": "ABX9TyPtkXiygzhNbESNDcetHzxv",
      "include_colab_link": true
    },
    "kernelspec": {
      "name": "python3",
      "display_name": "Python 3"
    },
    "language_info": {
      "name": "python"
    }
  },
  "cells": [
    {
      "cell_type": "markdown",
      "metadata": {
        "id": "view-in-github",
        "colab_type": "text"
      },
      "source": [
        "<a href=\"https://colab.research.google.com/github/MonkeyWrenchGang/PythonBootcamp/blob/main/day_3/3_6_Lists_to_Pandas.ipynb\" target=\"_parent\"><img src=\"https://colab.research.google.com/assets/colab-badge.svg\" alt=\"Open In Colab\"/></a>"
      ]
    },
    {
      "cell_type": "markdown",
      "source": [
        "# Transitioning from Lists to DataFrame: An Introduction\n",
        "\n",
        "## Understanding Lists\n",
        "In Python, a `list` is a built-in data structure that can contain elements of different types. It serves as a collection of items, such as integers, floats, strings, or even other lists. A list can be visualized as a one-dimensional array.\n",
        "\n",
        "## Understanding DataFrames\n",
        "On the other hand, a `DataFrame` is a two-dimensional labeled data structure that consists of columns that can have different types. It resembles a spreadsheet, an SQL table, or data from structured files like CSV. This structure makes it highly suitable for data manipulation and analysis.\n",
        "\n",
        "## Benefits of Converting a List to a DataFrame\n",
        "There are several reasons why we might want to convert a list to a DataFrame. One of the primary advantages is the ability to leverage pandas' robust data manipulation and analysis methods on our list data. Furthermore, by converting lists to a DataFrame, we can efficiently handle and analyze large datasets.\n",
        "\n",
        "## Converting a List to a DataFrame\n",
        "To convert a list to a DataFrame using pandas, we utilize the `DataFrame()` function. For instance, if we have the following list:\n",
        "```python\n",
        "my_list  = ['apple', 'banana', 'cherry']\n",
        "\n",
        "import pandas as pd\n",
        "fruit_df = pd.DataFrame(my_list, columns=['Fruit'])\n",
        "fruit_df\n",
        "```\n"
      ],
      "metadata": {
        "id": "hZJHTIxqgTUH"
      }
    },
    {
      "cell_type": "markdown",
      "source": [
        "## Let's make some data frames from lists:\n",
        "\n",
        "1. First, we need to import pandas and other supporting libraries.\n",
        "\n",
        "2. Then, let's create a few lists and convert them to data frames.\n",
        "\n",
        "3. Finally, we'll use our Nashville 911 data and convert it from a list to a data frame.\n"
      ],
      "metadata": {
        "id": "DzSQLZTwgylv"
      }
    },
    {
      "cell_type": "code",
      "execution_count": 2,
      "metadata": {
        "id": "LHO3oXq3gSxB"
      },
      "outputs": [],
      "source": [
        "# import libraries\n",
        "import warnings\n",
        "warnings.filterwarnings(\"ignore\", category=FutureWarning) # Suppress the FutureWarning\n",
        "\n",
        "import pandas as pd\n",
        "import requests\n",
        "import pickle\n",
        "import pprint\n",
        "import io"
      ]
    },
    {
      "cell_type": "markdown",
      "source": [
        "## Most Basic Example\n",
        "\n",
        "\n",
        "---\n",
        "\n",
        "Copy, paste and run the following:\n",
        "\n",
        "```python\n",
        "import pandas as pd\n",
        "\n",
        "# Example list\n",
        "my_list = [10, 20, 30, 40, 50]\n",
        "\n",
        "# Convert list to DataFrame\n",
        "df = pd.DataFrame(my_list, columns=['Numbers'])\n",
        "\n",
        "# Display the DataFrame\n",
        "print(df)\n",
        "\n",
        "\n",
        "```\n",
        "\n"
      ],
      "metadata": {
        "id": "ridGNW14hRWM"
      }
    },
    {
      "cell_type": "code",
      "source": [],
      "metadata": {
        "id": "A_Z6WkS1hkq5"
      },
      "execution_count": null,
      "outputs": []
    },
    {
      "cell_type": "markdown",
      "source": [
        "## A slightly more complex example\n",
        "\n",
        "\n",
        "---\n",
        "\n",
        "\n",
        "\n",
        "Copy, paste and run the following:\n",
        "```python\n",
        "import pandas as pd\n",
        "\n",
        "# Example list with multiple columns\n",
        "my_list = [['John', 25, 'USA'],\n",
        "           ['Emily', 30, 'Canada'],\n",
        "           ['David', 28, 'UK'],\n",
        "           ['Sophia', 35, 'Australia']]\n",
        "\n",
        "# Convert list to DataFrame\n",
        "df = pd.DataFrame(my_list, columns=['Name', 'Age', 'Country'])\n",
        "\n",
        "# Display the DataFrame\n",
        "df\n",
        "\n",
        "```"
      ],
      "metadata": {
        "id": "joRxugjdhk1D"
      }
    },
    {
      "cell_type": "markdown",
      "source": [
        "# Nashville 911 Typical Complex Example\n",
        "\n",
        "## Example list of dictionaries to DataFrame\n",
        "---\n",
        "\n",
        "1. we'll import our pickle'd list\n",
        "2. eyeball it, this is a  list of dictionaries\n",
        "3. then convert it.\n",
        "\n",
        "\n",
        "Run this code to import our nashville_911 list!"
      ],
      "metadata": {
        "id": "1vIaM2fEh2mG"
      }
    },
    {
      "cell_type": "code",
      "source": [
        "# URL of the Nashville  pickle file on GitHub\n",
        "url = \"https://github.com/MonkeyWrenchGang/PythonBootcamp/raw/main/day_3/data/nashville_911_call_data.pkl\"\n",
        "# Download the pickle file\n",
        "response = requests.get(url)\n",
        "\n",
        "# Check if the request was successful\n",
        "if response.status_code == 200:\n",
        "    # Create a file-like object from the response content\n",
        "    file_content = io.BytesIO(response.content)\n",
        "    # Unpickle the data\n",
        "    nashville_911 = pickle.load(file_content)\n",
        "    print(f\"Nashville object type {type(nashville_911)}\")\n",
        "    print(\"first call: \\n\")\n",
        "    pprint.pprint(nashville_911[0])\n",
        "    print(\"\\n\")\n",
        "else:\n",
        "    print(f\"Error: {response.status_code}\")"
      ],
      "metadata": {
        "colab": {
          "base_uri": "https://localhost:8080/"
        },
        "id": "dehuaUn3h_AW",
        "outputId": "ce9ac8cb-8da5-4648-8cda-6e8d21b5d757"
      },
      "execution_count": 3,
      "outputs": [
        {
          "output_type": "stream",
          "name": "stdout",
          "text": [
            "Nashville object type <class 'list'>\n",
            "first call: \n",
            "\n",
            "{'block': '900',\n",
            " 'call_rec': '2023-06-12T23:59:42.000',\n",
            " 'disposition_code': '4',\n",
            " 'disposition_description': 'ASSISTED CITIZEN',\n",
            " 'event_number': 'PD202300416478',\n",
            " 'shift': 'C',\n",
            " 'street_name': 'E TRINITY LN',\n",
            " 'tencode': '3',\n",
            " 'unit_dispatched': '227B'}\n",
            "\n",
            "\n"
          ]
        }
      ]
    },
    {
      "cell_type": "markdown",
      "source": [
        "## Turns out pretty Easy\n",
        "\n",
        "In this example, we have a list `nashville_911` which contains dictionaries of each call.  Each dictionary represents a row of data. The `keys` in the dictionaries represent the **column names**, and the corresponding values represent the **data for each column**. We import the pandas library and use the pd.DataFrame() function to convert the list of dictionaries to a DataFrame named df.\n",
        "\n",
        "The resulting DataFrame has columns corresponding to the keys in the dictionaries and displays the values from the original list.\n",
        "\n",
        "copy, paste and run\n",
        "\n",
        "```python\n",
        "# Convert list of dictionaries to DataFrame\n",
        "df = pd.DataFrame(nashville_911)\n",
        "\n",
        "# Display the DataFrame\n",
        "df.head()\n",
        "```"
      ],
      "metadata": {
        "id": "LHC9RaiFiY6r"
      }
    },
    {
      "cell_type": "code",
      "source": [],
      "metadata": {
        "id": "D5YWZY2DiZGb"
      },
      "execution_count": null,
      "outputs": []
    }
  ]
}