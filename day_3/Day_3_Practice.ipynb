{
  "nbformat": 4,
  "nbformat_minor": 0,
  "metadata": {
    "colab": {
      "provenance": [],
      "authorship_tag": "ABX9TyPW38rDdVXT+QcZAx0j0/V1",
      "include_colab_link": true
    },
    "kernelspec": {
      "name": "python3",
      "display_name": "Python 3"
    },
    "language_info": {
      "name": "python"
    }
  },
  "cells": [
    {
      "cell_type": "markdown",
      "metadata": {
        "id": "view-in-github",
        "colab_type": "text"
      },
      "source": [
        "<a href=\"https://colab.research.google.com/github/MonkeyWrenchGang/PythonBootcamp/blob/main/day_3/Day_3_Practice.ipynb\" target=\"_parent\"><img src=\"https://colab.research.google.com/assets/colab-badge.svg\" alt=\"Open In Colab\"/></a>"
      ]
    },
    {
      "cell_type": "code",
      "source": [
        "# SUPRESS WARNINGS\n",
        "import warnings\n",
        "warnings.filterwarnings(\"ignore\", category=FutureWarning) # Suppress the FutureWarning\n",
        "\n",
        "# import libraries\n",
        "import pandas as pd"
      ],
      "metadata": {
        "id": "eKCKCP4D1rKz"
      },
      "execution_count": 7,
      "outputs": []
    },
    {
      "cell_type": "markdown",
      "source": [
        "# Practice\n",
        "\n",
        "\n",
        "---\n",
        "\n",
        "\n",
        "## Introduction to Churn\n",
        "\n",
        "Churn refers to the phenomenon of customers or users discontinuing their relationship with a product, service, or business. It is a critical metric for businesses across various industries, including telecommunications, software-as-a-service (SaaS), subscription-based services, and more. Churn analysis helps companies understand customer behavior and make informed decisions to mitigate customer attrition.\n",
        "\n",
        "### Understanding Churn\n",
        "\n",
        "Churn can occur for several reasons:\n",
        "- Dissatisfaction with the product or service.\n",
        "- Competitive offerings and better alternatives in the market.\n",
        "- Pricing issues or affordability concerns.\n",
        "- Poor customer experience or support.\n",
        "- Changes in customer needs or circumstances.\n",
        "\n",
        "### Importance of Churn Analysis\n",
        "\n",
        "Churn analysis provides valuable insights into customer retention, revenue generation, and business growth. By studying churn patterns, businesses can:\n",
        "- Identify factors leading to customer attrition.\n",
        "- Predict which customers are at a higher risk of churning.\n",
        "- Implement strategies to improve customer satisfaction and loyalty.\n",
        "- Optimize marketing and sales efforts to reduce churn.\n",
        "- Enhance product or service offerings based on customer feedback.\n",
        "\n",
        "\n",
        "As a practice let's answer some questions and evaluate churn.\n",
        "\n",
        "\n",
        "\n",
        "---\n",
        "\n",
        "## Part 1 - basic Pandas\n",
        "\n",
        "1. import the file into a dataframe named `churn`\n",
        "  ```\n",
        "  \"https://raw.githubusercontent.com/MonkeyWrenchGang/PythonBootcamp/main/day_3/data/churn_90k.csv\"\n",
        "```\n",
        "2. use shape to answer how many rows and columns\n",
        "3. display the first 5 records with head()\n",
        "4. display the last 5 records with tail()\n",
        "5. use info to display the info about the data frame\n",
        "6. use .columns to display the column names\n",
        "7. use .isna().sum() to count the number of nulls per column\n",
        "\n",
        "## Part 2 - explore churn\n",
        "\n",
        "1. count the number of customers that churn vs non-churn using `churn_ind` column.\n",
        "2. count the % percentage of customers that churn vs non-churn using `churn_ind` column.\n",
        "3. compare the % of churn by creating two dataframes where partner = Yes and partner = No,\n",
        "  - create a dataset `partner_yes = churn.query('partner == \"Yes\"')`\n",
        "   - create a dataset `partner_no = churn.query('partner == \"No\"')`\n",
        "  - which has a higher churn rate? use `values_count()` to compare\n",
        "4. Write a query that produces a data frame where streaming_minutes >= 29178.5 and payment_method == \"Bank Transfer\"\n",
        "  - what is the resulting churn rate? use `values_count()`\n",
        "5. Write a query that produces a data frame where partner == No and prev_balance >= 81.5 and late_payments < 3.5\n",
        "  - what is the resulting churn rate? use `values_count()`\n",
        "6. Basically the same query, the data frame where partner == No and prev_balance >= 81.5 and late_payments >= 3.5\n",
        "  - what is the resulting churn rate? use `values_count()`\n",
        "payment_method == \"Bank Transfer\" total_billed>=232\n",
        "7. using .query() and isnull find all of the records where TotalBilled isnull.\n",
        "  - how many records is that?\n",
        "  - what % of churn and not churn is that where TotalBilled is null.\n",
        "\n",
        "8. using .query() and isnull find all of the records where paymentMethod OR paperlessBilling isnull.\n",
        "  - how many records is that?\n",
        "  - what % of churn and not churn is that where paymentMethod OR paperlessBilling is null.\n",
        "\n",
        "\n",
        "\n",
        "\n"
      ],
      "metadata": {
        "id": "v4179hcE0gEO"
      }
    },
    {
      "cell_type": "code",
      "execution_count": null,
      "metadata": {
        "id": "jS4sWdqh0fjj"
      },
      "outputs": [],
      "source": []
    },
    {
      "cell_type": "code",
      "source": [],
      "metadata": {
        "id": "brd9NGci5hXE"
      },
      "execution_count": null,
      "outputs": []
    },
    {
      "cell_type": "code",
      "source": [],
      "metadata": {
        "id": "yQizD_ZvrsUP"
      },
      "execution_count": null,
      "outputs": []
    },
    {
      "cell_type": "code",
      "source": [],
      "metadata": {
        "id": "bG4Td1mersXC"
      },
      "execution_count": null,
      "outputs": []
    },
    {
      "cell_type": "code",
      "source": [],
      "metadata": {
        "id": "jEGtW0KirsZp"
      },
      "execution_count": null,
      "outputs": []
    },
    {
      "cell_type": "code",
      "source": [],
      "metadata": {
        "id": "TbVlcRBcrsvq"
      },
      "execution_count": null,
      "outputs": []
    },
    {
      "cell_type": "code",
      "source": [],
      "metadata": {
        "id": "wQi80Flfs1G1"
      },
      "execution_count": null,
      "outputs": []
    },
    {
      "cell_type": "code",
      "source": [],
      "metadata": {
        "id": "P7CIJ5B1s1JH"
      },
      "execution_count": null,
      "outputs": []
    },
    {
      "cell_type": "code",
      "source": [],
      "metadata": {
        "id": "fKKuNvjns1Lx"
      },
      "execution_count": null,
      "outputs": []
    },
    {
      "cell_type": "markdown",
      "source": [],
      "metadata": {
        "id": "4VdO9lyZrtSs"
      }
    }
  ]
}