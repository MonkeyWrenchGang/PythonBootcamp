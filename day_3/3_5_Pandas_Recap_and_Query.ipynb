{
  "nbformat": 4,
  "nbformat_minor": 0,
  "metadata": {
    "colab": {
      "provenance": [],
      "authorship_tag": "ABX9TyNM7PTYVbNsQCerKDG0BNfi",
      "include_colab_link": true
    },
    "kernelspec": {
      "name": "python3",
      "display_name": "Python 3"
    },
    "language_info": {
      "name": "python"
    }
  },
  "cells": [
    {
      "cell_type": "markdown",
      "metadata": {
        "id": "view-in-github",
        "colab_type": "text"
      },
      "source": [
        "<a href=\"https://colab.research.google.com/github/MonkeyWrenchGang/PythonBootcamp/blob/main/day_3/3_5_Pandas_Recap_and_Query.ipynb\" target=\"_parent\"><img src=\"https://colab.research.google.com/assets/colab-badge.svg\" alt=\"Open In Colab\"/></a>"
      ]
    },
    {
      "cell_type": "markdown",
      "source": [
        "# Power of the query() Function\n",
        "\n",
        "## Introduction:\n",
        "\n",
        "In the realm of data analysis and manipulation, `pandas` and it's functions are the most important skills to master.\n",
        "\n",
        "\n",
        "In this notebook, we will recap our basic pandas functions and dive into one of its powerful features: the `query()` function. The `query()` function allows us to perform **advanced filtering**  operations on DataFrame objects, enabling us to extract specific subsets of data based on variety of conditions.\n",
        "\n",
        "## Recap of Pandas:\n",
        "\n",
        "At its core, pandas revolves around two primary data structures: Series and DataFrame.\n",
        "\n",
        "- **Series**: A Series is a one-dimensional named array that can hold any data type. It is similar to a column in a spreadsheet or a single variable in a statistical analysis.\n",
        "\n",
        "- **DataFrame**: A DataFrame is a two-dimensional named data structure with columns of potentially different data types. It is similar to a spreadsheet or a SQL table, where each **column represents a different variable**, and each row represents an individual observation or record.\n",
        "\n",
        "Pandas provides an extensive range of functions and methods to manipulate, transform, and analyze data within Series and DataFrames.\n",
        "\n",
        "## Introduction to the query() Function:\n",
        "\n",
        "The `query()` function provides an expressive and concise way to filter DataFrames based on logical conditions, using a syntax similar to SQL queries. With `query()`, we can retrieve specific subsets of data that meet our specified criteria, eliminating the need for lengthy and complex boolean indexing expressions.\n",
        "\n",
        "The `query()` function accepts a **string expression as its argument**, which represents the logical condition to be evaluated. It allows us to **reference column names directly within the query expression**, simplifying the filtering process significantly.\n",
        "\n",
        "\n"
      ],
      "metadata": {
        "id": "LjyHaYqNz-2w"
      }
    },
    {
      "cell_type": "markdown",
      "source": [
        "# 0. Import Libraries\n",
        "\n",
        "\n",
        "---\n",
        "\n"
      ],
      "metadata": {
        "id": "-k7N0P5z1I87"
      }
    },
    {
      "cell_type": "code",
      "execution_count": 1,
      "metadata": {
        "id": "qqlaZvaYz-hX"
      },
      "outputs": [],
      "source": [
        "import warnings\n",
        "import pandas as pd\n",
        "\n",
        "# Suppress the FutureWarning\n",
        "warnings.filterwarnings(\"ignore\", category=FutureWarning)"
      ]
    },
    {
      "cell_type": "markdown",
      "source": [
        "# 1. Import Data\n",
        "\n",
        "\n",
        "---\n",
        "\n",
        "```python\n",
        "churn = pd.read_csv(\"https://raw.githubusercontent.com/MonkeyWrenchGang/PythonBootcamp/main/day_3/data/churn.csv\")\n",
        "churn.head()\n",
        "```"
      ],
      "metadata": {
        "id": "VXQOT0251QKn"
      }
    },
    {
      "cell_type": "code",
      "source": [],
      "metadata": {
        "id": "aWloT6hU1UX6"
      },
      "execution_count": 1,
      "outputs": []
    },
    {
      "cell_type": "markdown",
      "source": [
        "# Head()\n",
        "\n",
        "\n",
        "---\n",
        "\n",
        "\n",
        "The .head() method in pandas allows you to peek at the top rows of a DataFrame or a Series. It provides a quick preview of the data, displaying the first 5 rows by default. This helps you get a glimpse of the structure, contents, and column headers of the dataset."
      ],
      "metadata": {
        "id": "8J_Xg6PK172s"
      }
    },
    {
      "cell_type": "code",
      "source": [],
      "metadata": {
        "id": "v-4ItL9-199V"
      },
      "execution_count": 1,
      "outputs": []
    },
    {
      "cell_type": "markdown",
      "source": [
        "# Tail()"
      ],
      "metadata": {
        "id": "I8_sYOQu1-J5"
      }
    },
    {
      "cell_type": "code",
      "source": [],
      "metadata": {
        "id": "EAXc9xFk1_gC"
      },
      "execution_count": 1,
      "outputs": []
    },
    {
      "cell_type": "markdown",
      "source": [
        "# Shape\n",
        "\n",
        "\n",
        "---\n",
        "\n",
        "The .shape attribute in pandas provides the number of rows and columns in a DataFrame or a NumPy array, allowing you to quickly understand the size and structure of your data.\n",
        "\n",
        "```\n",
        "churn.shape\n",
        "```\n"
      ],
      "metadata": {
        "id": "RCXj5Yrd3A8z"
      }
    },
    {
      "cell_type": "code",
      "source": [],
      "metadata": {
        "colab": {
          "base_uri": "https://localhost:8080/"
        },
        "id": "U852qddP3Qvg",
        "outputId": "3b829484-8ac9-47c4-9bfc-7f1d11194d22"
      },
      "execution_count": 6,
      "outputs": [
        {
          "output_type": "execute_result",
          "data": {
            "text/plain": [
              "(3333, 21)"
            ]
          },
          "metadata": {},
          "execution_count": 6
        }
      ]
    },
    {
      "cell_type": "markdown",
      "source": [
        "# Clean up Columns\n",
        "\n",
        "\n",
        "---\n",
        "\n",
        "## Clean up Column Names\n",
        "\n",
        "It's just not fun dealing with ill-formed columns\n",
        "\n",
        "- remove leading and trailing characters\n",
        "- replace spaces with underscores (`_`)\n",
        "- change case to lower case\n",
        "- remove various special characters (`?`)\n",
        "\n",
        "\n",
        "**EARMARK This CODE!!!**\n",
        "```python\n",
        "df.columns = ( df.columns\n",
        "    .str.strip()\n",
        "    .str.lower()\n",
        "    .str.replace(' ', '_')\n",
        "    .str.replace('-', '_')\n",
        "    .str.replace('(', '')\n",
        "    .str.replace(')', '')\n",
        "    .str.replace('?', '')\n",
        "    .str.replace('\\'', '') # notice the backslash \\ this is an escape character\n",
        ")\n",
        "print(df.columns)\n",
        "\n",
        "```\n",
        "\n"
      ],
      "metadata": {
        "id": "J-dMDIKN1nYi"
      }
    },
    {
      "cell_type": "code",
      "source": [],
      "metadata": {
        "id": "ULtr58S71o_b"
      },
      "execution_count": null,
      "outputs": []
    },
    {
      "cell_type": "markdown",
      "source": [
        "# Dtypes\n",
        "\n",
        "\n",
        "---\n",
        "\n",
        "\n",
        "The .dtypes attribute in pandas provides the data types of each column in a DataFrame, allowing you to quickly understand the data structure and make informed decisions based on the specific data types present."
      ],
      "metadata": {
        "id": "xLid1hl61f7v"
      }
    },
    {
      "cell_type": "code",
      "source": [],
      "metadata": {
        "id": "A4AJubo01jrE"
      },
      "execution_count": null,
      "outputs": []
    },
    {
      "cell_type": "markdown",
      "source": [
        "# Info\n",
        "\n",
        "\n",
        "---\n",
        "\n",
        "\n",
        "The .info() method in pandas provides a concise summary of the DataFrame, including information about the data types, non-null values, and memory usage. It is a useful tool for quickly assessing the overall structure and properties of the DataFrame."
      ],
      "metadata": {
        "id": "U16bDd4Z1hmU"
      }
    },
    {
      "cell_type": "code",
      "source": [],
      "metadata": {
        "id": "VOhjgB_a1kNr"
      },
      "execution_count": 8,
      "outputs": []
    },
    {
      "cell_type": "markdown",
      "source": [
        "# Describe\n",
        "\n",
        "The `.describe()` method in pandas produces the following summary statistics:\n",
        "\n",
        "- Count: Number of non-null values in each numerical column.\n",
        "- Mean: Average value of each numerical column.\n",
        "- Standard Deviation: Measure of the spread or dispersion of values in each numerical column.\n",
        "- Minimum: Smallest value in each numerical column.\n",
        "- 25th Percentile (1st Quartile): Value below which 25% of the data falls in each numerical column.\n",
        "- Median (2nd Quartile): Middle value in each numerical column.\n",
        "- 75th Percentile (3rd Quartile): Value below which 75% of the data falls in each numerical column.\n",
        "- Maximum: Largest value in each numerical column.\n",
        "\n",
        "\n"
      ],
      "metadata": {
        "id": "p8ZkjPUI1ieh"
      }
    },
    {
      "cell_type": "code",
      "source": [
        "\n"
      ],
      "metadata": {
        "id": "cECJbL1c1knM"
      },
      "execution_count": null,
      "outputs": []
    },
    {
      "cell_type": "markdown",
      "source": [
        "# Value Counts\n",
        "\n",
        "\n",
        "---\n",
        "\n",
        "\n",
        "The `.value_counts()` method in pandas counts the occurrences of unique values in a Series or a single column of a DataFrame. Known as FREQUENCY DISTRIBUTION\n",
        "\n",
        "\n",
        "For example, if you have a Series named `s`, calling `s.value_counts()` will return the count of each unique value in the Series.\n",
        "\n",
        "Here's an example:\n",
        "\n",
        "```python\n",
        "import pandas as pd\n",
        "\n",
        "# Creating a Series\n",
        "s = pd.Series(['A', 'B', 'A', 'C', 'A', 'B', 'B', 'C', 'C', 'C'])\n",
        "\n",
        "# Counting the occurrences of unique values\n",
        "value_counts = s.value_counts()\n",
        "\n",
        "print(value_counts)\n",
        "```\n",
        "\n",
        "use value_counts() to count the frequency of\n",
        "\n",
        "- state\n",
        "- churn\n",
        "- area_code\n",
        "\n",
        "repeat with  value_counts(normalize=True)"
      ],
      "metadata": {
        "id": "eglmZe1Z1k-q"
      }
    },
    {
      "cell_type": "code",
      "source": [],
      "metadata": {
        "id": "bbgQV0hj1md8"
      },
      "execution_count": null,
      "outputs": []
    },
    {
      "cell_type": "code",
      "source": [],
      "metadata": {
        "id": "qYVNEGKs1vsU"
      },
      "execution_count": null,
      "outputs": []
    },
    {
      "cell_type": "code",
      "source": [],
      "metadata": {
        "id": "BaFJKmLy1wIN"
      },
      "execution_count": null,
      "outputs": []
    },
    {
      "cell_type": "code",
      "source": [],
      "metadata": {
        "id": "Qi4QNGG34q0T"
      },
      "execution_count": null,
      "outputs": []
    },
    {
      "cell_type": "code",
      "source": [],
      "metadata": {
        "id": "Z6Gzan0v4q2o"
      },
      "execution_count": null,
      "outputs": []
    },
    {
      "cell_type": "code",
      "source": [],
      "metadata": {
        "id": "q29wvSVE4q49"
      },
      "execution_count": null,
      "outputs": []
    },
    {
      "cell_type": "markdown",
      "source": [
        "# Query\n",
        "\n",
        "\n",
        "---\n",
        "\n",
        "Answer the Following Questions\n",
        "\n",
        "- Exercise 1: Create a new data frame of churned customers res1, i.e. query the churn dataset and filter for rows where \"churn\" is equal to True. how many rows use print and shape.\n",
        "- Exercise 2: Among the churned customers, who made more than 3 customer service calls? make a dataset \"res2\" how many rows. how many rows use print and shape.\n",
        "- Exercise 3: Query for customers that have intl_plan = yes and eve_charge < 100, calculate the % of churn not churn. (use value_counts and normalize = True)\n",
        "- Exercise 4: Which customers have more than 200 minutes of daytime usage and less than 150 minutes of evening usage? calculate the % of churn not churn. (use value_counts and normalize = True)\n",
        "- Exercise 5: Which customers are located in either New York (NY) or California (CA) and have churned?\n"
      ],
      "metadata": {
        "id": "b0WeOlBB1sHa"
      }
    },
    {
      "cell_type": "code",
      "source": [
        "# Ex 1"
      ],
      "metadata": {
        "id": "kARNGnxY13Rg"
      },
      "execution_count": 8,
      "outputs": []
    },
    {
      "cell_type": "code",
      "source": [
        "# Ex 2"
      ],
      "metadata": {
        "id": "HTbwQei96UPk"
      },
      "execution_count": null,
      "outputs": []
    },
    {
      "cell_type": "code",
      "source": [
        "# Ex 3"
      ],
      "metadata": {
        "id": "6201jRYU6WAE"
      },
      "execution_count": null,
      "outputs": []
    },
    {
      "cell_type": "code",
      "source": [
        "# Ex 4"
      ],
      "metadata": {
        "id": "DlZBQ3Rk6Wod"
      },
      "execution_count": null,
      "outputs": []
    },
    {
      "cell_type": "code",
      "source": [
        "# Ex 5"
      ],
      "metadata": {
        "id": "_GQB1fr16XS7"
      },
      "execution_count": null,
      "outputs": []
    }
  ]
}